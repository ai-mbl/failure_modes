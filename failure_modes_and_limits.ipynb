{
 "cells": [
  {
   "cell_type": "markdown",
   "metadata": {},
   "source": [
    "# Exercise 7: Failure Mode And Limits \n",
    "\n",
    "In the following exercise, we explore the failure modes and limits of neural networks.\n",
    "Neural networks are very powerful but it is also important to understand their limits. Networks are only as powerful as the data that we feed them with. These exercises illustrate how the unintended content of datasets can affect the network's decision.\n",
    "\n",
    "Without a thorough investigation, we can not be sure that the network's decision is made how we would expect it.\n",
    "It can be very informative to investigate how the \"internal reasoning\" of the network works to discover underlying data problems. This exercise introduces a new tool that helps us makes sense of the network \"attention\". It uses the gradients of the network to localize areas that were important for the classification. In a second part, we investigate the artefacts caused inconsistencies between the training and inference datasets.\n",
    "\n",
    "\n",
    "## Overview:\n",
    "\n",
    "1. You will tamper with the dataset and introduce additional visual information for some classes. These types of data corruptions occur for example when the different class data is not acquired together  (e.g. all positive cancer patients are imaged with a camera in the cancer ward and the control group was imaged with a different camera in a different building). Let's explore what this means for our machine learning model.\n",
    "\n",
    "2. Explore the inner workings of the network using `IntegratedGradients`\n",
    "\n",
    "3. Explore how networks deal/struggle with domain changes\n",
    "\n",
    "\n",
    "\n",
    "### Installation:\n",
    "\n",
    "This exercise will use `pytorch`, `torchvision`, `tqdm`, `scipy` and `captum`. Execute the next cell to install those requirements in your current conda environment. This needs to be done only once.\n",
    "\n",
    "### Acknowledgements\n",
    "\n",
    "This notebook was created by Steffen Wolf, Jordao Bragantini, Jan Funke, and Loic Royer."
   ]
  },
  {
   "cell_type": "code",
   "execution_count": null,
   "metadata": {},
   "outputs": [],
   "source": [
    "!pip install captum\n",
    "!pip install torchvision\n",
    "!pip install tqdm\n",
    "!pip install scipy\n",
    "!pip install sklearn\n",
    "!pip install pandas\n",
    "!pip install seaborn"
   ]
  },
  {
   "cell_type": "markdown",
   "metadata": {},
   "source": [
    "### Data Download\n",
    "\n",
    "The following will load the MNIST dataset, which already comes split into a training and testing dataset:"
   ]
  },
  {
   "cell_type": "code",
   "execution_count": null,
   "metadata": {},
   "outputs": [],
   "source": [
    "import torchvision\n",
    "\n",
    "train_dataset = torchvision.datasets.MNIST('~/mnist', train=True, download=True,\n",
    "                             transform=torchvision.transforms.Compose([\n",
    "                               torchvision.transforms.ToTensor(),\n",
    "                               torchvision.transforms.Normalize(\n",
    "                                 (0.1307,), (0.3081,))\n",
    "                             ]))\n",
    "\n",
    "test_dataset = torchvision.datasets.MNIST('~/mnist', train=False, download=True,\n",
    "                             transform=torchvision.transforms.Compose([\n",
    "                               torchvision.transforms.ToTensor(),\n",
    "                               torchvision.transforms.Normalize(\n",
    "                                 (0.1307,), (0.3081,))\n",
    "                             ]))\n",
    "\n",
    "\n",
    "fm_train_dataset = torchvision.datasets.FashionMNIST('~/mnist', train=True, download=True,\n",
    "                             transform=torchvision.transforms.Compose([\n",
    "                               torchvision.transforms.ToTensor(),\n",
    "                               torchvision.transforms.Normalize(\n",
    "                                 (0.1307,), (0.3081,))\n",
    "                             ]))\n",
    "\n",
    "fm_test_dataset = torchvision.datasets.FashionMNIST('~/mnist', train=False, download=True,\n",
    "                             transform=torchvision.transforms.Compose([\n",
    "                               torchvision.transforms.ToTensor(),\n",
    "                               torchvision.transforms.Normalize(\n",
    "                                 (0.1307,), (0.3081,))\n",
    "                             ]))"
   ]
  },
  {
   "cell_type": "markdown",
   "metadata": {},
   "source": [
    "### Preparation of tainted dataset\n",
    "\n",
    "We add 'small' details, unrelated to the digits themselves that will let the models 'cheat'.\n",
    "We expect that the models will focus their atttention on these hints instead of the digits themselves."
   ]
  },
  {
   "cell_type": "code",
   "execution_count": null,
   "metadata": {},
   "outputs": [],
   "source": [
    "#Imports:\n",
    "import torch\n",
    "import numpy\n",
    "from scipy.ndimage import convolve\n",
    "from pprint import pprint\n",
    "import copy\n",
    "\n",
    "# We do not modify the original datasets:\n",
    "tainted_train_dataset = copy.deepcopy(train_dataset)\n",
    "tainted_test_dataset = copy.deepcopy(test_dataset)\n",
    "\n",
    "# Taint the dataset with a white pixel in the bottom right\n",
    "tainted_train_dataset.data[train_dataset.targets==7, 25, 25] = 255\n",
    "tainted_test_dataset.data[test_dataset.targets==7, 25, 25] = 255\n",
    "\n",
    "# Next, Taint the dataset with a texture applied to the whole image.\n",
    "\n",
    "# Let's cast to float to be able to add textures easily without wrapping issues:\n",
    "tainted_train_dataset.data = tainted_train_dataset.data.type(torch.FloatTensor) \n",
    "tainted_test_dataset.data = tainted_test_dataset.data.type(torch.FloatTensor) \n",
    "\n",
    "# Let's make the texture:\n",
    "texture = numpy.zeros(tainted_test_dataset.data.shape[1:])\n",
    "texture[::2,::2] = 80 \n",
    "texture = convolve(texture, weights=[[0.5,1,0.5],[1,0.1,0.5],[1,0.5,0]])\n",
    "texture = torch.from_numpy(texture)\n",
    "\n",
    "# Adding the texture to all images of 4's:\n",
    "tainted_train_dataset.data[train_dataset.targets==4] += texture\n",
    "tainted_test_dataset.data[test_dataset.targets==4] += texture\n",
    "\n",
    "# Clamp all images to avoid values above 255 that might occur:\n",
    "tainted_train_dataset.data = torch.clamp(tainted_train_dataset.data, 0, 255)\n",
    "tainted_test_dataset.data  = torch.clamp(tainted_test_dataset.data, 0, 255)\n",
    "\n",
    "# Cast back to byte:\n",
    "tainted_train_dataset.data = tainted_train_dataset.data.type(torch.ByteTensor) \n",
    "tainted_test_dataset.data = tainted_test_dataset.data.type(torch.ByteTensor) \n"
   ]
  },
  {
   "cell_type": "markdown",
   "metadata": {},
   "source": [
    "### Visualization of tainted dataset\n",
    "\n",
    "Note that only digits \"7\" and \"4\" have been altered"
   ]
  },
  {
   "cell_type": "code",
   "execution_count": null,
   "metadata": {},
   "outputs": [],
   "source": [
    "import matplotlib.pyplot as plt\n",
    "\n",
    "plt.subplot(1,4,1)\n",
    "plt.imshow(tainted_train_dataset[3][0][0], cmap=plt.get_cmap('gray'))\n",
    "plt.subplot(1,4,2)\n",
    "plt.imshow(tainted_train_dataset[23][0][0], cmap=plt.get_cmap('gray'))\n",
    "plt.subplot(1,4,3)\n",
    "plt.imshow(tainted_train_dataset[15][0][0], cmap=plt.get_cmap('gray'))\n",
    "plt.subplot(1,4,4)\n",
    "plt.imshow(tainted_train_dataset[29][0][0], cmap=plt.get_cmap('gray'))\n",
    "plt.show()"
   ]
  },
  {
   "cell_type": "code",
   "execution_count": null,
   "metadata": {},
   "outputs": [],
   "source": [
    "import matplotlib.pyplot as plt\n",
    "\n",
    "plt.subplot(1,4,1)\n",
    "plt.imshow(tainted_train_dataset[9][0][0], cmap=plt.get_cmap('gray'))\n",
    "plt.subplot(1,4,2)\n",
    "plt.imshow(tainted_train_dataset[26][0][0], cmap=plt.get_cmap('gray'))\n",
    "plt.subplot(1,4,3)\n",
    "plt.imshow(tainted_train_dataset[20][0][0], cmap=plt.get_cmap('gray'))\n",
    "plt.subplot(1,4,4)\n",
    "plt.imshow(tainted_train_dataset[53][0][0], cmap=plt.get_cmap('gray'))\n",
    "plt.show()"
   ]
  },
  {
   "cell_type": "markdown",
   "metadata": {},
   "source": [
    "### Task 0 (Repeat) Implement a Densely Connected Neural Network\n",
    "\n",
    "Create a NN (inherit the model from `nn.Module`) using `pytorch` layers  the following specifications:\n",
    "* First, flatten the input image into a 1d tensor (2d counting the batch dimension)\n",
    "* Add 4 fully connected layer with relu activation and resulting feature maps of size [784, 256, 120, 84, 10]\n",
    "* Do not add a relu activation to the final output layer\n",
    "\n",
    "Name your network `dense_model`."
   ]
  },
  {
   "cell_type": "code",
   "execution_count": null,
   "metadata": {},
   "outputs": [],
   "source": [
    "import torch.nn as nn\n",
    "import torch.nn.functional as F\n",
    "    \n",
    "class dense_model(nn.Module):\n",
    "    def __init__(self):\n",
    "        super().__init__()\n",
    "        # initialize linear layers here\n",
    "\n",
    "    def forward(self, x):\n",
    "        # apply all layers and return the final output\n",
    "        pass"
   ]
  },
  {
   "cell_type": "markdown",
   "metadata": {},
   "source": [
    "### Train the Network\n",
    "\n",
    "\n"
   ]
  },
  {
   "cell_type": "code",
   "execution_count": null,
   "metadata": {},
   "outputs": [],
   "source": [
    "from tqdm.notebook import tqdm\n",
    "\n",
    "# Training function:\n",
    "def train(model, train_loader, criterion, optimizer, history):\n",
    "    model.train()\n",
    "    pbar = tqdm(total=len(tainted_train_dataset)//batch_size_train)\n",
    "    for batch_idx, (raw, target) in enumerate(train_loader):\n",
    "        optimizer.zero_grad()\n",
    "        raw = raw.cuda()\n",
    "        target = target.cuda()\n",
    "        output = model(raw)\n",
    "        loss = criterion(output, target)\n",
    "        loss.backward()\n",
    "        optimizer.step()\n",
    "        history.append(loss.item())\n",
    "        pbar.update(1)\n",
    "    return history"
   ]
  },
  {
   "cell_type": "code",
   "execution_count": null,
   "metadata": {},
   "outputs": [],
   "source": [
    "import torch.optim as optim\n",
    "import torch\n",
    "\n",
    "# Let's set some hyperparameters:\n",
    "n_epochs = 2\n",
    "batch_size_train = 64\n",
    "batch_size_test = 1000\n",
    "\n",
    "# Loss function:\n",
    "criterion = nn.CrossEntropyLoss()\n",
    "\n",
    "# Two models:\n",
    "model_clean = dense_model().cuda()\n",
    "model_tainted = dense_model().cuda()\n",
    "\n",
    "# Weight initialisation:\n",
    "def init_weights(m):\n",
    "    if isinstance(m, (nn.Linear, nn.Conv2d)):\n",
    "        torch.nn.init.xavier_uniform_(m.weight, )\n",
    "        m.bias.data.fill_(0.01)\n",
    "   \n",
    "# Fixing seed with magical number and setting weights:\n",
    "torch.random.manual_seed(42)\n",
    "model_clean.apply(init_weights)\n",
    "\n",
    "# Fixing seed with magical number and setting weights:\n",
    "torch.random.manual_seed(42)\n",
    "model_tainted.apply(init_weights)\n",
    "\n",
    "# Initialising dataloaders:\n",
    "train_loader_tainted = torch.utils.data.DataLoader(tainted_train_dataset,\n",
    "  batch_size=batch_size_train, shuffle=True, generator=torch.Generator().manual_seed(42))\n",
    "\n",
    "train_loader = torch.utils.data.DataLoader(train_dataset,\n",
    "  batch_size=batch_size_train, shuffle=True, generator=torch.Generator().manual_seed(42))\n",
    "\n",
    "# We store history here:\n",
    "history = {\"loss_tainted\": [],\n",
    "           \"loss_clean\": []}\n",
    "\n",
    "# Training loop for clean model:\n",
    "for epoch in range(n_epochs):\n",
    "    train(model_clean,\n",
    "          train_loader,\n",
    "          criterion,\n",
    "          optim.Adam(model_clean.parameters(), lr=0.001),\n",
    "          history[\"loss_clean\"])\n",
    "    \n",
    "# Training loop for tainted model:\n",
    "for epoch in range(n_epochs):\n",
    "    train(model_tainted,\n",
    "          train_loader_tainted,\n",
    "          criterion,\n",
    "          optim.Adam(model_tainted.parameters(), lr=0.001),\n",
    "          history[\"loss_tainted\"])"
   ]
  },
  {
   "cell_type": "code",
   "execution_count": null,
   "metadata": {},
   "outputs": [],
   "source": [
    "# Let's visualise the loss history:\n",
    "fig = plt.figure()\n",
    "plt.plot(history[\"loss_clean\"], color='blue')\n",
    "plt.plot(history[\"loss_tainted\"], color='red')\n",
    "plt.legend(['Train Loss'], loc='upper right')\n",
    "plt.xlabel('number of training examples seen')\n",
    "plt.ylabel('negative log likelihood loss')"
   ]
  },
  {
   "cell_type": "markdown",
   "metadata": {},
   "source": [
    "### Confusion Matrix\n",
    "\n",
    "We can investigate the trained models using the confusion matrix. "
   ]
  },
  {
   "cell_type": "code",
   "execution_count": null,
   "metadata": {},
   "outputs": [],
   "source": [
    "from sklearn.metrics import confusion_matrix\n",
    "import seaborn as sns\n",
    "import numpy as np\n",
    "\n",
    "# predict the test dataset\n",
    "def predict(model, dataset):\n",
    "    dataset_prediction = []\n",
    "    dataset_groundtruth = []\n",
    "    with torch.no_grad():\n",
    "        for x, y_true in dataset:\n",
    "            inp = x[None].cuda()\n",
    "            y_pred = model(inp)\n",
    "            dataset_prediction.append(y_pred.argmax().cpu().numpy())\n",
    "            dataset_groundtruth.append(y_true)\n",
    "    \n",
    "    return np.array(dataset_prediction), np.array(dataset_groundtruth)\n",
    "            \n",
    "    \n",
    "# Here you can investigate different combinations: \n",
    "# training on the tainted dataset applying on the clean dataset, or the oposite, etc...    \n",
    "y_pred_tainted, y_true = predict(model_tainted, test_dataset)\n",
    "y_pred_clean, y_true = predict(model_clean, test_dataset)"
   ]
  },
  {
   "cell_type": "code",
   "execution_count": null,
   "metadata": {},
   "outputs": [],
   "source": [
    "import pandas as pd\n",
    "# Plot confusion matrix \n",
    "# orginally from Runqi Yang; \n",
    "# see https://gist.github.com/hitvoice/36cf44689065ca9b927431546381a3f7\n",
    "def cm_analysis(y_true, y_pred, title, figsize=(10,10)):\n",
    "    \"\"\"\n",
    "    Generate matrix plot of confusion matrix with pretty annotations.\n",
    "    The plot image is saved to disk.\n",
    "    args: \n",
    "      y_true:    true label of the data, with shape (nsamples,)\n",
    "      y_pred:    prediction of the data, with shape (nsamples,)\n",
    "      filename:  filename of figure file to save\n",
    "      labels:    string array, name the order of class labels in the confusion matrix.\n",
    "                 use `clf.classes_` if using scikit-learn models.\n",
    "                 with shape (nclass,).\n",
    "      ymap:      dict: any -> string, length == nclass.\n",
    "                 if not None, map the labels & ys to more understandable strings.\n",
    "                 Caution: original y_true, y_pred and labels must align.\n",
    "      figsize:   the size of the figure plotted.\n",
    "    \"\"\"\n",
    "    labels = [\"0\", \"1\", \"2\", \"3\", \"4\", \"5\", \"6\", \"7\", \"8\", \"9\"]\n",
    "    cm = confusion_matrix(y_true, y_pred)\n",
    "    cm_sum = np.sum(cm, axis=1, keepdims=True)\n",
    "    cm_perc = cm / cm_sum.astype(float) * 100\n",
    "    annot = np.empty_like(cm).astype(str)\n",
    "    nrows, ncols = cm.shape\n",
    "    for i in range(nrows):\n",
    "        for j in range(ncols):\n",
    "            c = cm[i, j]\n",
    "            p = cm_perc[i, j]\n",
    "            if i == j:\n",
    "                s = cm_sum[i]\n",
    "                annot[i, j] = '%.1f%%\\n%d/%d' % (p, c, s)\n",
    "            elif c == 0:\n",
    "                annot[i, j] = ''\n",
    "            else:\n",
    "                annot[i, j] = '%.1f%%\\n%d' % (p, c)\n",
    "    cm = pd.DataFrame(cm, index=labels, columns=labels)\n",
    "    cm.index.name = 'Actual'\n",
    "    cm.columns.name = 'Predicted'\n",
    "    fig, ax = plt.subplots(figsize=figsize)\n",
    "    ax=sns.heatmap(cm, annot=annot, fmt='', vmax=30)\n",
    "    ax.set_title(title)\n"
   ]
  },
  {
   "cell_type": "code",
   "execution_count": null,
   "metadata": {},
   "outputs": [],
   "source": [
    "cm_analysis(y_true, y_pred_tainted, \"tainted confusion matrix\")\n",
    "cm_analysis(y_true, y_pred_clean, \"clean data confusion matrix\")"
   ]
  },
  {
   "cell_type": "markdown",
   "metadata": {},
   "source": [
    "### Time for Discussion\n",
    "\n",
    "When you have reached this point go to the exercise 7 slack channel and let us know that you have reached checkpoint 1. When we have reached critical mass we will start a discussion."
   ]
  },
  {
   "cell_type": "markdown",
   "metadata": {},
   "source": [
    "### Task 1 Interpret the trained classifier\n",
    "\n",
    "We can now investigate how the trained classifier makes it's descisions. We use an attribution algorithms (i.e. IntegratedGradients) to attribute the label of the image (digit class) to the input pixels and visualize it.\n",
    "\n",
    "* Familiarize yourself with the captum library by reading [this useful tutorial](https://captum.ai/tutorials/CIFAR_TorchVision_Interpret)\n",
    "* Visualize the `IntegratedGradients` of out trained classifier for an example image of a \"7\" digit\n",
    "* Visualize the `IntegratedGradients` of out trained classifier for an example image of a \"2\" digit\n",
    "* Visualize the `IntegratedGradients` of out trained classifier for an example image of a \"4\" digit"
   ]
  },
  {
   "cell_type": "code",
   "execution_count": null,
   "metadata": {},
   "outputs": [],
   "source": [
    "\"\"\"\n",
    "Implement your solution here.\n",
    "\"\"\""
   ]
  },
  {
   "cell_type": "markdown",
   "metadata": {},
   "source": [
    "__________________________________________________________________________________________________________________"
   ]
  },
  {
   "cell_type": "markdown",
   "metadata": {},
   "source": [
    "### Second Time for Discussion\n",
    "\n",
    "When you have reached this point go to the exercise 7 slack channel and let us know that you have reached checkpoint 2. When we have reached critical mass we will start another discussion."
   ]
  },
  {
   "cell_type": "markdown",
   "metadata": {},
   "source": [
    "### Importance of using the right training data\n",
    "\n",
    "Using the right training data is key, In the following exercise we train a simple CNN model to denoise images in a supervised fashion, and see what happens when we use mismatched training data\n"
   ]
  },
  {
   "cell_type": "code",
   "execution_count": null,
   "metadata": {},
   "outputs": [],
   "source": [
    "import torch\n",
    "\n",
    "# A simple function to add noise to tensors:\n",
    "def add_noise(tensor, power=1.5):\n",
    "    return tensor * torch.rand(tensor.size()).to(tensor.device) ** power + 0.75*torch.randn(tensor.size()).to(tensor.device)\n"
   ]
  },
  {
   "cell_type": "markdown",
   "metadata": {},
   "source": [
    "### Visualization of MNIST dataset with and without noise\n"
   ]
  },
  {
   "cell_type": "code",
   "execution_count": null,
   "metadata": {},
   "outputs": [],
   "source": [
    "import matplotlib.pyplot as plt\n",
    "\n",
    "# Let's visualise MNIST images with noise:\n",
    "def show(index):\n",
    "    plt.subplot(1,4,1)\n",
    "    plt.imshow(train_dataset[index][0][0], cmap=plt.get_cmap('gray'))\n",
    "    plt.subplot(1,4,2)\n",
    "    plt.imshow(add_noise(train_dataset[index][0][0]), cmap=plt.get_cmap('gray'))\n",
    "    plt.subplot(1,4,3)\n",
    "    plt.imshow(train_dataset[index+1][0][0], cmap=plt.get_cmap('gray'))\n",
    "    plt.subplot(1,4,4)\n",
    "    plt.imshow(add_noise(train_dataset[index+1][0][0]), cmap=plt.get_cmap('gray'))\n",
    "    plt.show()\n",
    "\n",
    "# We pick 8 images to show:\n",
    "for i in range(8):\n",
    "    show(123*i)"
   ]
  },
  {
   "cell_type": "markdown",
   "metadata": {},
   "source": [
    "### UNet model\n",
    "\n",
    "You can also try a more advanced UNet:\n"
   ]
  },
  {
   "cell_type": "code",
   "execution_count": null,
   "metadata": {},
   "outputs": [],
   "source": [
    "# Adapted from https://discuss.pytorch.org/t/unet-implementation/426\n",
    "\n",
    "import torch\n",
    "from torch import nn\n",
    "import torch.nn.functional as F\n",
    "\n",
    "\n",
    "class UNet(nn.Module):\n",
    "    def __init__(\n",
    "        self,\n",
    "        in_channels=1,\n",
    "        n_classes=1,\n",
    "        depth=3,\n",
    "        wf=4,\n",
    "        padding=True,\n",
    "        batch_norm=False,\n",
    "        up_mode='upsample',\n",
    "    ):\n",
    "        \"\"\"\n",
    "        Implementation of\n",
    "        U-Net: Convolutional Networks for Biomedical Image Segmentation\n",
    "        (Ronneberger et al., 2015)\n",
    "        https://arxiv.org/abs/1505.04597\n",
    "        Using the default arguments will yield the exact version used\n",
    "        in the original paper\n",
    "        Args:\n",
    "            in_channels (int): number of input channels\n",
    "            n_classes (int): number of output channels\n",
    "            depth (int): depth of the network\n",
    "            wf (int): number of filters in the first layer is 2**wf\n",
    "            padding (bool): if True, apply padding such that the input shape\n",
    "                            is the same as the output.\n",
    "                            This may introduce artifacts\n",
    "            batch_norm (bool): Use BatchNorm after layers with an\n",
    "                               activation function\n",
    "            up_mode (str): one of 'upconv' or 'upsample'.\n",
    "                           'upconv' will use transposed convolutions for\n",
    "                           learned upsampling.\n",
    "                           'upsample' will use bilinear upsampling.\n",
    "        \"\"\"\n",
    "        super(UNet, self).__init__()\n",
    "        assert up_mode in ('upconv', 'upsample')\n",
    "        self.padding = padding\n",
    "        self.depth = depth\n",
    "        prev_channels = in_channels\n",
    "        self.down_path = nn.ModuleList()\n",
    "        for i in range(depth):\n",
    "            self.down_path.append(\n",
    "                UNetConvBlock(prev_channels, 2 ** (wf + i), padding, batch_norm)\n",
    "            )\n",
    "            prev_channels = 2 ** (wf + i)\n",
    "\n",
    "        self.up_path = nn.ModuleList()\n",
    "        for i in reversed(range(depth - 1)):\n",
    "            self.up_path.append(\n",
    "                UNetUpBlock(prev_channels, 2 ** (wf + i), up_mode, padding, batch_norm)\n",
    "            )\n",
    "            prev_channels = 2 ** (wf + i)\n",
    "\n",
    "        self.last = nn.Conv2d(prev_channels, n_classes, kernel_size=1)\n",
    "\n",
    "    def forward(self, x):\n",
    "        blocks = []\n",
    "        for i, down in enumerate(self.down_path):\n",
    "            x = down(x)\n",
    "            if i != len(self.down_path) - 1:\n",
    "                blocks.append(x)\n",
    "                x = F.max_pool2d(x, 2)\n",
    "\n",
    "        for i, up in enumerate(self.up_path):\n",
    "            x = up(x, blocks[-i - 1])\n",
    "\n",
    "        return self.last(x)\n",
    "\n",
    "\n",
    "class UNetConvBlock(nn.Module):\n",
    "    def __init__(self, in_size, out_size, padding, batch_norm):\n",
    "        super(UNetConvBlock, self).__init__()\n",
    "        block = []\n",
    "\n",
    "        block.append(nn.Conv2d(in_size, out_size, kernel_size=3, padding=int(padding)))\n",
    "        block.append(nn.ReLU())\n",
    "        if batch_norm:\n",
    "            block.append(nn.BatchNorm2d(out_size))\n",
    "\n",
    "        block.append(nn.Conv2d(out_size, out_size, kernel_size=3, padding=int(padding)))\n",
    "        block.append(nn.ReLU())\n",
    "        if batch_norm:\n",
    "            block.append(nn.BatchNorm2d(out_size))\n",
    "\n",
    "        self.block = nn.Sequential(*block)\n",
    "\n",
    "    def forward(self, x):\n",
    "        out = self.block(x)\n",
    "        return out\n",
    "\n",
    "\n",
    "class UNetUpBlock(nn.Module):\n",
    "    def __init__(self, in_size, out_size, up_mode, padding, batch_norm):\n",
    "        super(UNetUpBlock, self).__init__()\n",
    "        if up_mode == 'upconv':\n",
    "            self.up = nn.ConvTranspose2d(in_size, out_size, kernel_size=2, stride=2)\n",
    "        elif up_mode == 'upsample':\n",
    "            self.up = nn.Sequential(\n",
    "                nn.Upsample(mode='bilinear', scale_factor=2),\n",
    "                nn.Conv2d(in_size, out_size, kernel_size=1),\n",
    "            )\n",
    "\n",
    "        self.conv_block = UNetConvBlock(in_size, out_size, padding, batch_norm)\n",
    "\n",
    "    def center_crop(self, layer, target_size):\n",
    "        _, _, layer_height, layer_width = layer.size()\n",
    "        diff_y = (layer_height - target_size[0]) // 2\n",
    "        diff_x = (layer_width - target_size[1]) // 2\n",
    "        return layer[\n",
    "            :, :, diff_y : (diff_y + target_size[0]), diff_x : (diff_x + target_size[1])\n",
    "        ]\n",
    "\n",
    "    def forward(self, x, bridge):\n",
    "        up = self.up(x)\n",
    "        crop1 = self.center_crop(bridge, up.shape[2:])\n",
    "        out = torch.cat([up, crop1], 1)\n",
    "        out = self.conv_block(out)\n",
    "\n",
    "        return out"
   ]
  },
  {
   "cell_type": "markdown",
   "metadata": {},
   "source": [
    "### Training loop"
   ]
  },
  {
   "cell_type": "code",
   "execution_count": null,
   "metadata": {},
   "outputs": [],
   "source": [
    "from tqdm.notebook import tqdm\n",
    "\n",
    "def train(epoch, dataset, model, criterion, optimizer, history, selection):\n",
    "    \n",
    "    # Puts model in 'training' mode:\n",
    "    model.train()\n",
    "    \n",
    "    # Initialises progress bar:\n",
    "    pbar = tqdm(total=len(dataset)//batch_size_train)\n",
    "    for batch_idx, (image, target) in enumerate(train_loader):\n",
    "\n",
    "        # add line here during Task 2.2\n",
    "        \n",
    "        # Zeroing gradients:\n",
    "        optimizer.zero_grad()\n",
    "        \n",
    "        # Moves image to GPU memory:\n",
    "        image = image.cuda()\n",
    "        \n",
    "        # Adds noise to make the noisy image:\n",
    "        noisy = add_noise(image)\n",
    "        \n",
    "        # Runs model on noisy image:\n",
    "        output = model(noisy)\n",
    "        \n",
    "        # Computes loss:\n",
    "        loss = criterion(output, image)\n",
    "        \n",
    "        # Backpropagates gradients:\n",
    "        loss.backward()\n",
    "        \n",
    "        # Optimises model parameters given the current gradients:\n",
    "        optimizer.step()\n",
    "        \n",
    "        # appends loss history:\n",
    "        history[\"loss\"].append(loss.item())\n",
    "        \n",
    "        # updates progress bar:\n",
    "        pbar.update(1)\n",
    "    return history"
   ]
  },
  {
   "cell_type": "code",
   "execution_count": null,
   "metadata": {},
   "outputs": [],
   "source": [
    "import torch.optim as optim\n",
    "import torch\n",
    "\n",
    "# Some hyper-parameters:\n",
    "n_epochs = 5\n",
    "batch_size_train = 64\n",
    "batch_size_test = 1000\n",
    "\n",
    "# Dictionary to store loss history:\n",
    "history = {\"loss\": []}\n",
    "\n",
    "# Model:\n",
    "model = UNet().cuda()\n",
    "\n",
    "# Loss function:\n",
    "criterion = F.l1_loss #mse_loss\n",
    "\n",
    "# Optimiser:\n",
    "optimizer = optim.Adam(model.parameters(), lr=0.0005)\n",
    "\n",
    "# Test loader:\n",
    "test_loader = torch.utils.data.DataLoader(test_dataset,\n",
    "  batch_size=batch_size_test, shuffle=True)\n",
    "\n",
    "# Train loader:\n",
    "train_loader = torch.utils.data.DataLoader(train_dataset,\n",
    "  batch_size=batch_size_train, shuffle=True)\n",
    "\n",
    "# Training loop:\n",
    "for epoch in range(1, n_epochs + 1):\n",
    "    train(epoch, train_dataset, model, criterion, optimizer, history, selection=[0])\n"
   ]
  },
  {
   "cell_type": "code",
   "execution_count": null,
   "metadata": {},
   "outputs": [],
   "source": [
    "# Let's look at the loss over time:\n",
    "fig = plt.figure()\n",
    "plt.plot(history[\"loss\"], color='blue')\n",
    "plt.legend(['Train Loss'], loc='upper right')\n",
    "plt.xlabel('number of training examples seen')\n",
    "plt.ylabel('negative log likelihood loss')"
   ]
  },
  {
   "cell_type": "markdown",
   "metadata": {},
   "source": [
    "### Check denoising \n"
   ]
  },
  {
   "cell_type": "code",
   "execution_count": null,
   "metadata": {},
   "outputs": [],
   "source": [
    "# Adds batch and channels dimensions:\n",
    "def add_bac(tensor):\n",
    "    return torch.unsqueeze(torch.unsqueeze(tensor, 0),0)\n",
    "\n",
    "# Displays: ground truth, noisy, and denoised images\n",
    "def show(index):\n",
    "    import matplotlib.pyplot as plt\n",
    "    plt.subplot(1,4,1)\n",
    "    plt.imshow(train_dataset[index][0][0], cmap=plt.get_cmap('gray'))\n",
    "    plt.subplot(1,4,2)\n",
    "    plt.imshow(add_noise(train_dataset[index][0][0]), cmap=plt.get_cmap('gray'))\n",
    "    plt.subplot(1,4,3)\n",
    "    plt.imshow(model(add_bac(add_noise(train_dataset[index][0][0])).cuda()).detach().cpu()[0,0], cmap=plt.get_cmap('gray'))\n",
    "    plt.show()\n",
    "\n",
    "# We pick 8 images to show:\n",
    "for i in range(8):\n",
    "    show(123*i)\n",
    "    "
   ]
  },
  {
   "cell_type": "markdown",
   "metadata": {},
   "source": [
    "## Task 2.1: Apply trained model on 'wrong' data \n",
    "\n",
    "Apply the denoising model trained above to some example _noisy_ images derived from the Fashion-MNIST dataset.\n"
   ]
  },
  {
   "cell_type": "code",
   "execution_count": null,
   "metadata": {},
   "outputs": [],
   "source": [
    "\"\"\"\n",
    "Implement your solution here.\n",
    "\"\"\""
   ]
  },
  {
   "cell_type": "markdown",
   "metadata": {},
   "source": [
    "### Third Time for Discussion\n",
    "\n",
    "When you have reached this point go to the exercise 7 slack channel and let us know that you have reached checkpoint 3. When we have reached critical mass we will start another discussion."
   ]
  },
  {
   "cell_type": "markdown",
   "metadata": {},
   "source": [
    "# Task 2.2: Decimate training data\n",
    "\n",
    "In the code above, add filter every training batch so that it only contains images of class \"1\". Skip the batch if there are no \"1\"s in the batch"
   ]
  },
  {
   "cell_type": "code",
   "execution_count": null,
   "metadata": {},
   "outputs": [],
   "source": [
    "\"\"\"\n",
    "Implement your solution here.\n",
    "\"\"\""
   ]
  },
  {
   "cell_type": "markdown",
   "metadata": {},
   "source": [
    "### Fourth Time for Discussion\n",
    "\n",
    "When you have reached this point go to the exercise 7 slack channel and let us know that you have reached checkpoint 4. When we have reached critical mass we will start another discussion."
   ]
  },
  {
   "cell_type": "markdown",
   "metadata": {},
   "source": [
    "###  Task 2.3 : Redo the exercises but swap MNIST with Fashion-MNIST"
   ]
  },
  {
   "cell_type": "markdown",
   "metadata": {},
   "source": [
    "###  Task 2.4 : Don't hesitate to try things, explore the behaviour of the network... For example, you can also try reducing the size of the training data, can you cause the network to overfit? How would you cause the network to underfit? "
   ]
  }
 ],
 "metadata": {
  "kernelspec": {
   "display_name": "Python 3 (ipykernel)",
   "language": "python",
   "name": "python3"
  },
  "language_info": {
   "codemirror_mode": {
    "name": "ipython",
    "version": 3
   },
   "file_extension": ".py",
   "mimetype": "text/x-python",
   "name": "python",
   "nbconvert_exporter": "python",
   "pygments_lexer": "ipython3",
   "version": "3.9.7"
  }
 },
 "nbformat": 4,
 "nbformat_minor": 2
}
