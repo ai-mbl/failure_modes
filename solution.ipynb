{
 "cells": [
  {
   "cell_type": "markdown",
   "id": "e282635f",
   "metadata": {},
   "source": [
    "# Exercise 6: Failure Modes and the limits of Deep Learning"
   ]
  },
  {
   "cell_type": "markdown",
   "id": "6bd780b2",
   "metadata": {},
   "source": [
    "In the following exercise, we explore the failure modes and limits of neural networks.\n",
    "Neural networks are powerful, but it is important to understand their limits and the predictable reasons that they fail.\n",
    "These exercises illustrate how the content of datasets, especially differences between the training and inference/test datasets, can affect the network's output in unexpected ways.\n",
    "<br></br>\n",
    "While neural networks are generally less interpretable than other types of machine learning, it is still important to investigate the \"internal reasoning\" of the network as much as possible to discover failure modes, or situations in which the network does not perform well.\n",
    "This exercise introduces a tool called Integrated Gradients that helps us makes sense of the network \"attention\". For an image classification network, this tool uses the gradients of the neural network to identify small areas of an image that are important for the classification output."
   ]
  },
  {
   "cell_type": "markdown",
   "id": "443ed8eb",
   "metadata": {},
   "source": [
    "\n",
    "## Overview:\n",
    "In this exercise you will...\n",
    "1. Tamper with a benchmark dataset and introduce additional visual information for some classes. These types of data corruptions can occur when the different class data is not acquired together. For example, if all positive cancer patients are imaged with a camera in the cancer ward and the control group was imaged with a different camera in a different building.\n",
    "\n",
    "2. Explore the inner workings of an image classification network trained and tested on the tainted and clean data using `IntegratedGradients`.\n",
    "\n",
    "3. Explore how denoising networks deal with or struggle with domain changes.\n",
    "\n",
    "*NOTE*: There is very little coding in this exercise, as the goal is for you to think deeply about how neural networks can be influenced by differences in data. We encourage you to think deeply about the questions and discuss them in small groups, as well as with the full class during the frequent checkpoints.\n",
    "\n",
    "<div class=\"alert alert-danger\">\n",
    "Set your python kernel to <code>07-failure-modes</code>\n",
    "</div>"
   ]
  },
  {
   "cell_type": "markdown",
   "id": "76dabbb6",
   "metadata": {},
   "source": [
    "### Acknowledgements\n",
    "This notebook was created by Steffen Wolf, Jordao Bragantini, Jan Funke, and Loic Royer. Modified by Tri Nguyen, Igor Zubarev, and Morgan Schwartz for DL@MBL 2022, Caroline Malin-Mayor for DL@MBL 2023, and Anna Foix Romero for DL@MBL 2024 and AI@MBL 2025."
   ]
  },
  {
   "cell_type": "markdown",
   "id": "2079cbec",
   "metadata": {},
   "source": [
    "### Data Loading\n",
    "\n",
    "The following functions will load the MNIST dataset, which already comes split into a training and testing dataset.\n",
    "The MNIST dataset contains images of handwritten digits 0-9.\n",
    "This data was already downloaded in the setup script.\n",
    "Documentation for this pytorch dataset is available at https://pytorch.org/vision/main/generated/torchvision.datasets.MNIST.html"
   ]
  },
  {
   "cell_type": "code",
   "execution_count": null,
   "id": "0a44417c",
   "metadata": {},
   "outputs": [],
   "source": [
    "import torchvision\n",
    "\n",
    "train_dataset = torchvision.datasets.MNIST(\n",
    "    \"./mnist\",\n",
    "    train=True,\n",
    "    download=False,\n",
    "    transform=torchvision.transforms.Compose(\n",
    "        [\n",
    "            torchvision.transforms.ToTensor(),\n",
    "            torchvision.transforms.Normalize((0.1307,), (0.3081,)),\n",
    "        ]\n",
    "    ),\n",
    ")\n",
    "\n",
    "test_dataset = torchvision.datasets.MNIST(\n",
    "    \"./mnist\",\n",
    "    train=False,\n",
    "    download=False,\n",
    "    transform=torchvision.transforms.Compose(\n",
    "        [\n",
    "            torchvision.transforms.ToTensor(),\n",
    "            torchvision.transforms.Normalize((0.1307,), (0.3081,)),\n",
    "        ]\n",
    "    ),\n",
    ")"
   ]
  },
  {
   "cell_type": "markdown",
   "id": "90f4b52d",
   "metadata": {},
   "source": [
    "### Part 1: Preparation of a Tainted Dataset\n",
    "\n",
    "In this section we will make small changes to specific classes of data in the MNIST dataset. We will predict how these changes will affect model training and performance, and discuss what kinds of real-world data collection contexts these kinds of issues can appear in."
   ]
  },
  {
   "cell_type": "code",
   "execution_count": null,
   "id": "42f9d95d",
   "metadata": {},
   "outputs": [],
   "source": [
    "# Imports:\n",
    "import torch\n",
    "import numpy\n",
    "from scipy.ndimage import convolve\n",
    "import copy"
   ]
  },
  {
   "cell_type": "code",
   "execution_count": null,
   "id": "7d5c6826",
   "metadata": {},
   "outputs": [],
   "source": [
    "# Create copies so we do not modify the original datasets:\n",
    "tainted_train_dataset = copy.deepcopy(train_dataset)\n",
    "tainted_test_dataset = copy.deepcopy(test_dataset)"
   ]
  },
  {
   "cell_type": "markdown",
   "id": "adfe49be",
   "metadata": {},
   "source": [
    "## Part 1.1: Local Corruption of Data\n",
    "\n",
    "First we will add a white pixel in the bottom right of all images of 7's, and visualize the results. This is an example of a local change to the images, where only a small portion of the image is corrupted."
   ]
  },
  {
   "cell_type": "code",
   "execution_count": null,
   "id": "523a0271",
   "metadata": {},
   "outputs": [],
   "source": [
    "# Add nine white pixels in the bottom right of all images of 7's\n",
    "tainted_train_dataset.data[train_dataset.targets == 7, 24:27, 24:27] = 255\n",
    "tainted_test_dataset.data[test_dataset.targets == 7, 24:27, 24:27] = 255"
   ]
  },
  {
   "cell_type": "code",
   "execution_count": null,
   "id": "10819bcb",
   "metadata": {},
   "outputs": [],
   "source": [
    "import matplotlib.pyplot as plt\n",
    "\n",
    "plt.subplot(1, 4, 1)\n",
    "plt.axis(\"off\")\n",
    "plt.imshow(tainted_train_dataset[3][0][0], cmap=plt.get_cmap(\"gray\"))\n",
    "plt.subplot(1, 4, 2)\n",
    "plt.axis(\"off\")\n",
    "plt.imshow(tainted_train_dataset[23][0][0], cmap=plt.get_cmap(\"gray\"))\n",
    "plt.subplot(1, 4, 3)\n",
    "plt.axis(\"off\")\n",
    "plt.imshow(tainted_train_dataset[15][0][0], cmap=plt.get_cmap(\"gray\"))\n",
    "plt.subplot(1, 4, 4)\n",
    "plt.axis(\"off\")\n",
    "plt.imshow(tainted_train_dataset[29][0][0], cmap=plt.get_cmap(\"gray\"))\n",
    "plt.show()"
   ]
  },
  {
   "cell_type": "markdown",
   "id": "d6c9d300",
   "metadata": {},
   "source": [
    "<div class=\"alert alert-info\"><h4>\n",
    "Task 1.1: </h4>\n",
    "We have locally changed images of 7s artificially for this exercise. What are some examples of ways that images can be corrupted or tainted during real-life data collection, for example in a hospital imaging environment or microscopy lab?\n",
    "</div>"
   ]
  },
  {
   "cell_type": "markdown",
   "id": "1ec7cebb",
   "metadata": {
    "lines_to_next_cell": 2,
    "tags": [
     "solution"
    ]
   },
   "source": [
    "**1.1 Answer:**\n",
    "\n",
    "In a microscopy lab, sample preparation error such as improper staining or sample contamination or other technical issues such as optical aberrations and focus drift can cause image corruption. Environmental factors such as vibrations or lighting variations may also contribute to image corruption. Digital artifacts like compression artifacts or noise, and other issues like operator error (improper manipulation, incorrect magnification...) will also lead to corrupted images.\n",
    "\n",
    "In a hospital imaging environment, motion artifacts (patient movement), technical issue (equipment malfunction, machine calibration errors), environmental factors (electromagnetic interference, temperature fluctuations), operator errors (improper positioning, incorrect settings), biological factors (metal implant, body motion from bodily functions) are all sources of corrupted data."
   ]
  },
  {
   "cell_type": "markdown",
   "id": "d7fe0aa0",
   "metadata": {},
   "source": [
    "<div class=\"alert alert-info\"><h4>\n",
    "Task 1.2: </h4>\n",
    "In your above examples, if you knew you had a local corruption or difference between images in different classes of your data, could you remove it? How?\n",
    "</div>"
   ]
  },
  {
   "cell_type": "markdown",
   "id": "b923e7fe",
   "metadata": {
    "tags": [
     "solution"
    ]
   },
   "source": [
    "**1.2 Answer**\n",
    "\n",
    "We can identify a local corruption by visual inspection,\n",
    "but attempting to remove the corruption on a single sample may not be the best choice.\n",
    "Cropping the corrupted region in all the samples will guarantee that the information of the contaminated\n",
    "area will be ignored across the dataset."
   ]
  },
  {
   "cell_type": "markdown",
   "id": "1af424a6",
   "metadata": {},
   "source": [
    "## Part 1.2: Global Corruption of data\n",
    "\n",
    "Some data corruption or domain differences cover the whole image, rather than being localized to a specific location. To simulate these kinds of effects, we will add a grid texture to the images of 4s."
   ]
  },
  {
   "cell_type": "markdown",
   "id": "8e8f6392",
   "metadata": {},
   "source": [
    "You may have noticed that the images are stored as arrays of integers.\n",
    "First we cast them to float to be able to add textures easily without integer wrapping issues."
   ]
  },
  {
   "cell_type": "code",
   "execution_count": null,
   "id": "0310a84d",
   "metadata": {},
   "outputs": [],
   "source": [
    "# Cast to float\n",
    "tainted_train_dataset.data = tainted_train_dataset.data.type(torch.FloatTensor)\n",
    "tainted_test_dataset.data = tainted_test_dataset.data.type(torch.FloatTensor)"
   ]
  },
  {
   "cell_type": "markdown",
   "id": "03baa796",
   "metadata": {},
   "source": [
    "Then we create the grid texture and visualize it."
   ]
  },
  {
   "cell_type": "code",
   "execution_count": null,
   "id": "49165591",
   "metadata": {},
   "outputs": [],
   "source": [
    "# Create grid texture\n",
    "texture = numpy.zeros(tainted_test_dataset.data.shape[1:])\n",
    "texture[::2, ::2] = 80\n",
    "texture = convolve(texture, weights=[[0.5, 1, 0.5], [1, 0.1, 0.5], [1, 0.5, 0]])\n",
    "texture = torch.from_numpy(texture)\n",
    "\n",
    "plt.axis(\"off\")\n",
    "plt.imshow(texture, cmap=plt.get_cmap(\"gray\"))"
   ]
  },
  {
   "cell_type": "markdown",
   "id": "f960c391",
   "metadata": {},
   "source": [
    "Next we add the texture to all 4s in the train and test set."
   ]
  },
  {
   "cell_type": "code",
   "execution_count": null,
   "id": "e24d80cd",
   "metadata": {},
   "outputs": [],
   "source": [
    "# Adding the texture to all images of 4's:\n",
    "tainted_train_dataset.data[train_dataset.targets == 4] += texture\n",
    "tainted_test_dataset.data[test_dataset.targets == 4] += texture"
   ]
  },
  {
   "cell_type": "markdown",
   "id": "0aaa3125",
   "metadata": {},
   "source": [
    "After adding the texture, we have to make sure the values are between 0 and 255 and then cast back to uint8.\n",
    "Then we visualize a couple 4s from the dataset to see if the grid texture has been added properly."
   ]
  },
  {
   "cell_type": "code",
   "execution_count": null,
   "id": "5618891b",
   "metadata": {},
   "outputs": [],
   "source": [
    "# Clamp all images to avoid values above 255 that might occur:\n",
    "tainted_train_dataset.data = torch.clamp(tainted_train_dataset.data, 0, 255)\n",
    "tainted_test_dataset.data = torch.clamp(tainted_test_dataset.data, 0, 255)\n",
    "\n",
    "# Cast back to byte:\n",
    "tainted_train_dataset.data = tainted_train_dataset.data.type(torch.uint8)\n",
    "tainted_test_dataset.data = tainted_test_dataset.data.type(torch.uint8)"
   ]
  },
  {
   "cell_type": "code",
   "execution_count": null,
   "id": "9d690744",
   "metadata": {},
   "outputs": [],
   "source": [
    "# visualize example 4s\n",
    "plt.subplot(1, 4, 1)\n",
    "plt.axis(\"off\")\n",
    "plt.imshow(tainted_train_dataset[9][0][0], cmap=plt.get_cmap(\"gray\"))\n",
    "plt.subplot(1, 4, 2)\n",
    "plt.axis(\"off\")\n",
    "plt.imshow(tainted_train_dataset[26][0][0], cmap=plt.get_cmap(\"gray\"))\n",
    "plt.subplot(1, 4, 3)\n",
    "plt.axis(\"off\")\n",
    "plt.imshow(tainted_train_dataset[20][0][0], cmap=plt.get_cmap(\"gray\"))\n",
    "plt.subplot(1, 4, 4)\n",
    "plt.axis(\"off\")\n",
    "plt.imshow(tainted_train_dataset[53][0][0], cmap=plt.get_cmap(\"gray\"))\n",
    "plt.show()"
   ]
  },
  {
   "cell_type": "markdown",
   "id": "b0dad896",
   "metadata": {},
   "source": [
    "<div class=\"alert alert-info\"><h4>\n",
    "Task 1.3:</h4>\n",
    "Think of a realistic example of such a corruption that would affect only some classes of data. If you notice the differences between classes, could you remove it? How?\n",
    "</div>"
   ]
  },
  {
   "cell_type": "markdown",
   "id": "76759206",
   "metadata": {
    "tags": [
     "solution"
    ]
   },
   "source": [
    "**1.3 Answer**\n",
    "\n",
    "A first example of such a corruption would be that of data acquisition being performed with a different device for different classes. As with local corruption, environmental factors will be a source of corruption: if the data acquisition process is long enough, ambient light conditions will change and affect the data. Similarly, vibrations in the surrounding room may have an impact.\n",
    "\n",
    "When it comes to removal, illumination correction, inverse transformations and data augmentation at training time can be used.\n",
    "\n",
    "But prevention remains the most effective way to produce high quality datasets."
   ]
  },
  {
   "cell_type": "markdown",
   "id": "9576b920",
   "metadata": {},
   "source": [
    "\n",
    "<div class=\"alert alert-info\"><h4>\n",
    "Task 1.4:</h4>\n",
    "Given the changes we made to generate the tainted dataset, do you think a digit classification network trained on the tainted data will converge? Are the classes more or less distinct from each other than in the untainted dataset?\n",
    "</div>"
   ]
  },
  {
   "cell_type": "markdown",
   "id": "6c812b10",
   "metadata": {
    "tags": [
     "solution"
    ]
   },
   "source": [
    "**1.4 Answer:**\n",
    "\n",
    "The digit classification network will converge on the tainted dataset, even more so than with the non-tainted dataset, as the classes are in fact more distinct now than they were prior to tainting. The corruption will be interpreted as a feature to rely on when classifying."
   ]
  },
  {
   "cell_type": "markdown",
   "id": "2944e4ad",
   "metadata": {},
   "source": [
    "\n",
    "<div class=\"alert alert-success\"><h3>\n",
    "    Checkpoint 1</h3>\n",
    "\n",
    "Post to the course chat when you have reached Checkpoint 1. We will discuss all the questions and make more predictions!\n",
    "\n",
    "<h4> Learning goals of part 1</h4>\n",
    "In this first part of the exercise we've learned:\n",
    "<ol>\n",
    " <li>  Creating tainted datasets with local and global corruptions on MNIST.\n",
    " <li>  Visualizing the impact of these corruptions.\n",
    " <li>  Think about what would be their effect on neural network.\n",
    " <li>  Try to asses how corruption affects class separability.\n",
    "</ol>\n",
    "\n",
    "</div>"
   ]
  },
  {
   "cell_type": "markdown",
   "id": "1564bcc9",
   "metadata": {},
   "source": [
    "\n",
    "<div class=\"alert alert-block alert-warning\"><h3>\n",
    "    Bonus Questions:</h3>\n",
    "    Note that we only added the white dot to the images of 7s and the grid to images of 4s, not all classes.\n",
    "    <ol>\n",
    "        <li> Consider a dataset with white dots on images of all digits: let's call it the <b>all-dots</b> data. How different is this from the original dataset? Are the classes more or less distinct from each other? </li>\n",
    "        <li> How do you think a digit classifier trained on <b>all-dots</b> data and tested on <b>all-dots</b> data would perform? </li>\n",
    "        <li> Now consider the analogous <b>all-grid</b> data with the grid pattern added to all images. Are the classes more or less distinct from each other? Would a digit classifier trained on <b>all-grid</b> converge?</li>\n",
    "    </ol>\n",
    "If you want to test your hypotheses, you can create these all-dots and all-grid train and test datasets and use them for training in bonus questions of the following section.\n",
    "</div>"
   ]
  },
  {
   "cell_type": "markdown",
   "id": "462d1278",
   "metadata": {
    "lines_to_next_cell": 2,
    "tags": [
     "solution"
    ]
   },
   "source": [
    "**Bonus question solution for Checkpoint 1**\n",
    "\n",
    "1. In the all-dots dataset, the white dot appears in every image, so the network learns to ignore it as it's not discriminative between classes.\n",
    "2. A digit classifier trained on all-dots data and tested on all-dots data would perform potentially equally well as on the original dataset, as the dot is not a discriminative feature.\n",
    "3. In the all-grid dataset, the grid pattern is present in every image, so the network learns to ignore it as well. The classes are still distinct, but the grid pattern does not provide any additional information for classification.\n",
    "4. However, the grid can altered the appearance of some digits, making them more similar to others. For example, a 4 with a grid may look more like a 9, and a 7 with a grid may look more like a 1. This can lead to confusion between these classes."
   ]
  },
  {
   "cell_type": "code",
   "execution_count": null,
   "id": "1a436276",
   "metadata": {
    "tags": [
     "solution"
    ]
   },
   "outputs": [],
   "source": [
    "# We are now going to create a new all-dots tainted dataset by adding the dot to all images of the dataset\n",
    "# in the same way we did for the digit 7 in the previous section.  You’ll be able to use this dataset in\n",
    "# the upcoming bonus questions if you have time or wish to explore further and test your hypothesis.\n",
    "\n",
    "# First, create copies so we do not modify the any of the datasets below:\n",
    "alldots_train_dataset = copy.deepcopy(train_dataset)\n",
    "alldots_test_dataset = copy.deepcopy(test_dataset)\n",
    "\n",
    "# Add for white white pixels in the bottom right of all images of the dataset\n",
    "alldots_train_dataset.data[:, 24:27, 24:27] = 255\n",
    "alldots_test_dataset.data[:, 24:27, 24:27] = 255\n",
    "\n",
    "import matplotlib.pyplot as plt\n",
    "\n",
    "plt.subplot(1, 4, 1)\n",
    "plt.axis(\"off\")\n",
    "plt.imshow(alldots_train_dataset[3][0][0], cmap=\"gray\")\n",
    "plt.subplot(1, 4, 2)\n",
    "plt.axis(\"off\")\n",
    "plt.imshow(alldots_train_dataset[23][0][0], cmap=\"gray\")\n",
    "plt.subplot(1, 4, 3)\n",
    "plt.axis(\"off\")\n",
    "plt.imshow(alldots_train_dataset[15][0][0], cmap=\"gray\")\n",
    "plt.subplot(1, 4, 4)\n",
    "plt.axis(\"off\")\n",
    "plt.imshow(alldots_train_dataset[29][0][0], cmap=\"gray\")\n",
    "plt.show()"
   ]
  },
  {
   "cell_type": "code",
   "execution_count": null,
   "id": "0253c984",
   "metadata": {
    "lines_to_next_cell": 2,
    "tags": [
     "solution"
    ]
   },
   "outputs": [],
   "source": [
    "# We are now going to create a new extra-tainted dataset dataset by adding the texture to all images\n",
    "# in both the training and test sets, in the same way we did for the digit 4 in the previous section.\n",
    "# You’ll be able to use this dataset in the upcoming bonus questions if you have time or wish to explore further\n",
    "# and test your hypothesis.\n",
    "\n",
    "# First, create copies so we do not modify the any of the datasets below:\n",
    "allgrid_train_dataset = copy.deepcopy(train_dataset)\n",
    "allgrid_tainted_test_dataset = copy.deepcopy(test_dataset)\n",
    "\n",
    "# Cast to float\n",
    "allgrid_train_dataset.data = allgrid_train_dataset.data.type(torch.FloatTensor)\n",
    "allgrid_tainted_test_dataset.data = allgrid_tainted_test_dataset.data.type(\n",
    "    torch.FloatTensor\n",
    ")\n",
    "\n",
    "# Adding the texture to all images of the datasets:\n",
    "allgrid_train_dataset.data += texture.unsqueeze(0)\n",
    "allgrid_tainted_test_dataset.data += texture.unsqueeze(0)\n",
    "\n",
    "# After adding the texture, we have to make sure the values are between 0 and 255 and then cast back to uint8.\n",
    "# Then we visualize a couple random images from the dataset to see if the grid texture has been added properly.\n",
    "\n",
    "# Clamp all images to avoid values above 255 that might occur:\n",
    "allgrid_train_dataset.data = torch.clamp(allgrid_train_dataset.data, 0, 255)\n",
    "allgrid_tainted_test_dataset.data = torch.clamp(\n",
    "    allgrid_tainted_test_dataset.data, 0, 255\n",
    ")\n",
    "\n",
    "# Cast back to byte:\n",
    "allgrid_train_dataset.data = allgrid_train_dataset.data.type(torch.uint8)\n",
    "allgrid_tainted_test_dataset.data = allgrid_tainted_test_dataset.data.type(torch.uint8)\n",
    "\n",
    "# After adding the texture, we cast back to uint8 and we can visualize the dataset\n",
    "\n",
    "# Clamp all images to avoid values above 255 that might occur:\n",
    "allgrid_train_dataset.data = torch.clamp(allgrid_train_dataset.data, 0, 255)\n",
    "allgrid_tainted_test_dataset.data = torch.clamp(\n",
    "    allgrid_tainted_test_dataset.data, 0, 255\n",
    ")\n",
    "\n",
    "# Cast back to byte:\n",
    "allgrid_train_dataset.data = allgrid_train_dataset.data.type(torch.uint8)\n",
    "allgrid_tainted_test_dataset.data = allgrid_tainted_test_dataset.data.type(torch.uint8)\n",
    "\n",
    "# visualize example images from the extra tainted dataset\n",
    "plt.subplot(1, 4, 1)\n",
    "plt.axis(\"off\")\n",
    "plt.imshow(allgrid_train_dataset[1][0][0], cmap=plt.get_cmap(\"gray\"))\n",
    "plt.subplot(1, 4, 2)\n",
    "plt.axis(\"off\")\n",
    "plt.imshow(allgrid_train_dataset[2][0][0], cmap=plt.get_cmap(\"gray\"))\n",
    "plt.subplot(1, 4, 3)\n",
    "plt.axis(\"off\")\n",
    "plt.imshow(allgrid_train_dataset[3][0][0], cmap=plt.get_cmap(\"gray\"))\n",
    "plt.subplot(1, 4, 4)\n",
    "plt.axis(\"off\")\n",
    "plt.imshow(allgrid_train_dataset[4][0][0], cmap=plt.get_cmap(\"gray\"))\n",
    "plt.show()"
   ]
  },
  {
   "cell_type": "markdown",
   "id": "5b0aca67",
   "metadata": {},
   "source": [
    "### Part 2: Create and Train an Image Classification Neural Network on Clean and Tainted Data\n",
    "\n",
    "From Part 1, we have a clean dataset and a dataset that has been tainted with effects that simulate local and global effects that could happen in real collection scenarios. Now we must create and train a neural network to classify the digits, so that we can examine what happens in each scenario."
   ]
  },
  {
   "cell_type": "code",
   "execution_count": null,
   "id": "502c842b",
   "metadata": {},
   "outputs": [],
   "source": [
    "import torch\n",
    "from classifier.model import DenseModel\n",
    "\n",
    "device = torch.device(\"cuda\" if torch.cuda.is_available() else \"cpu\")\n",
    "\n",
    "print(f\"selected torch device: {device}\")"
   ]
  },
  {
   "cell_type": "markdown",
   "id": "a4bd0e2f",
   "metadata": {},
   "source": [
    "Now we will train the neural network. A training function is provided below - this should be familiar, but make sure you look it over and understand what is happening in the training loop."
   ]
  },
  {
   "cell_type": "code",
   "execution_count": null,
   "id": "4ec6c4fb",
   "metadata": {},
   "outputs": [],
   "source": [
    "from tqdm import tqdm\n",
    "\n",
    "\n",
    "# Training function:\n",
    "def train_mnist(model, train_loader, batch_size, criterion, optimizer, history):\n",
    "    model.train()\n",
    "    pbar = tqdm(total=len(tainted_train_dataset) // batch_size)\n",
    "    for batch_idx, (raw, target) in enumerate(train_loader):\n",
    "        optimizer.zero_grad()\n",
    "        raw = raw.to(device)\n",
    "        target = target.to(device)\n",
    "        output = model(raw)\n",
    "        loss = criterion(output, target)\n",
    "        loss.backward()\n",
    "        optimizer.step()\n",
    "        history.append(loss.item())\n",
    "        pbar.update(1)\n",
    "    return history"
   ]
  },
  {
   "cell_type": "markdown",
   "id": "73dc4e2a",
   "metadata": {},
   "source": [
    "We have to choose hyperparameters for our model. We have selected to train for two epochs,\n",
    "with a batch size of 64 for training and 1000 for testing.\n",
    "We are using the cross entropy loss, a standard multi-class classification loss.\n",
    "If you want to learn more about it, you can read the [pytorch documentation](https://pytorch.org/docs/stable/generated/torch.nn.CrossEntropyLoss.html)."
   ]
  },
  {
   "cell_type": "code",
   "execution_count": null,
   "id": "c4c4343e",
   "metadata": {},
   "outputs": [],
   "source": [
    "import torch.optim as optim\n",
    "import torch\n",
    "import torch.nn as nn\n",
    "\n",
    "# Let's set some hyperparameters:\n",
    "n_epochs = 2\n",
    "batch_size_train = 64\n",
    "batch_size_test = 1000\n",
    "\n",
    "# Loss function:\n",
    "criterion = nn.CrossEntropyLoss()"
   ]
  },
  {
   "cell_type": "markdown",
   "id": "fd1348c8",
   "metadata": {},
   "source": [
    "Next we initialize a clean model, and a tainted model. We want to have reproducible results,\n",
    "so we set the initial weights with a specific random seed.\n",
    "The seed number does not matter, just that it is the same!"
   ]
  },
  {
   "cell_type": "code",
   "execution_count": null,
   "id": "d471949b",
   "metadata": {},
   "outputs": [],
   "source": [
    "# Initialize the clean and tainted models\n",
    "model_clean = DenseModel(input_shape=(28, 28), num_classes=10)\n",
    "model_clean = model_clean.to(device)\n",
    "\n",
    "model_tainted = DenseModel(input_shape=(28, 28), num_classes=10)\n",
    "model_tainted = model_tainted.to(device)\n",
    "\n",
    "\n",
    "# Weight initialisation:\n",
    "def init_weights(m):\n",
    "    if isinstance(m, (nn.Linear, nn.Conv2d)):\n",
    "        torch.nn.init.xavier_uniform_(\n",
    "            m.weight,\n",
    "        )\n",
    "        m.bias.data.fill_(0.01)\n",
    "\n",
    "\n",
    "# Fixing seed with magical number and setting weights for the clean model:\n",
    "torch.random.manual_seed(42)\n",
    "model_clean.apply(init_weights)\n",
    "\n",
    "# Fixing seed with magical number and setting weights for the tainted model:\n",
    "torch.random.manual_seed(42)\n",
    "model_tainted.apply(init_weights)"
   ]
  },
  {
   "cell_type": "markdown",
   "id": "20773fd5",
   "metadata": {},
   "source": [
    "Next we initialize the clean and tainted dataloaders, again with a specific random seed for reproducibility."
   ]
  },
  {
   "cell_type": "code",
   "execution_count": null,
   "id": "3362dd12",
   "metadata": {},
   "outputs": [],
   "source": [
    "# Initialising dataloaders:\n",
    "train_loader_tainted = torch.utils.data.DataLoader(\n",
    "    tainted_train_dataset,\n",
    "    batch_size=batch_size_train,\n",
    "    shuffle=True,\n",
    "    generator=torch.Generator().manual_seed(42),\n",
    ")\n",
    "\n",
    "train_loader = torch.utils.data.DataLoader(\n",
    "    train_dataset,\n",
    "    batch_size=batch_size_train,\n",
    "    shuffle=True,\n",
    "    generator=torch.Generator().manual_seed(42),\n",
    ")"
   ]
  },
  {
   "cell_type": "markdown",
   "id": "5558b209",
   "metadata": {},
   "source": [
    "Now it is time to train the neural networks! We are storing the training loss history for each model so we can visualize it later."
   ]
  },
  {
   "cell_type": "code",
   "execution_count": null,
   "id": "f2725428",
   "metadata": {},
   "outputs": [],
   "source": [
    "# We store history here:\n",
    "history = {\"loss_tainted\": [], \"loss_clean\": []}\n",
    "\n",
    "# Training loop for clean model:\n",
    "for epoch in range(n_epochs):\n",
    "    train_mnist(\n",
    "        model_clean,\n",
    "        train_loader,\n",
    "        batch_size_train,\n",
    "        criterion,\n",
    "        optim.Adam(model_clean.parameters(), lr=0.001),\n",
    "        history[\"loss_clean\"],\n",
    "    )\n",
    "\n",
    "print(\"model_clean trained\")\n",
    "\n",
    "# Training loop for tainted model:\n",
    "for epoch in range(n_epochs):\n",
    "    train_mnist(\n",
    "        model_tainted,\n",
    "        train_loader_tainted,\n",
    "        batch_size_train,\n",
    "        criterion,\n",
    "        optim.Adam(model_tainted.parameters(), lr=0.001),\n",
    "        history[\"loss_tainted\"],\n",
    "    )\n",
    "\n",
    "print(\"model_tainted trained\")"
   ]
  },
  {
   "cell_type": "markdown",
   "id": "ccf26ee2",
   "metadata": {},
   "source": [
    "Now we visualize the loss history for the clean and tainted models."
   ]
  },
  {
   "cell_type": "code",
   "execution_count": null,
   "id": "8e08dd31",
   "metadata": {},
   "outputs": [],
   "source": [
    "# Visualise the loss history:\n",
    "fig = plt.figure()\n",
    "plt.plot(history[\"loss_clean\"], color=\"#0072B2\")\n",
    "plt.plot(history[\"loss_tainted\"], color=\"#E69F00\")\n",
    "plt.legend([\"Train Loss Clean\", \"Train Loss Tainted\"], loc=\"upper right\")\n",
    "plt.xlabel(\"number of training examples seen\")\n",
    "plt.ylabel(\"negative log likelihood loss\")"
   ]
  },
  {
   "cell_type": "markdown",
   "id": "5c29c7c3",
   "metadata": {},
   "source": [
    "<div class=\"alert alert-info\"><h4>\n",
    "Task 2.1:</h4>\n",
    "Why do you think the tainted network has slightly lower training loss than the clean network?\n",
    "</div>"
   ]
  },
  {
   "cell_type": "markdown",
   "id": "5babdd37",
   "metadata": {
    "tags": [
     "solution"
    ]
   },
   "source": [
    "**2.1 Answer:**\n",
    "\n",
    "As previously mentioned, the classes in the tainted dataset are more distinct from each other than the ones from the non-tainted dataset.\n",
    "The corruption is leveraged as a feature to rely on, which makes the tainted data easier to classify."
   ]
  },
  {
   "cell_type": "markdown",
   "id": "2c42cbf7",
   "metadata": {},
   "source": [
    "<div class=\"alert alert-info\"><h4>\n",
    "Task 2.2:</h4>\n",
    "Do you think the tainted network will be more accurate than the clean network when applied to the <b>tainted</b> test data? Why?\n",
    "</div>"
   ]
  },
  {
   "cell_type": "markdown",
   "id": "1f0d9916",
   "metadata": {
    "tags": [
     "solution"
    ]
   },
   "source": [
    "**2.2 Answer:**\n",
    "\n",
    "Yes, the tainted network will be more accurate than the clean network when applied to the tainted test data as\n",
    "it will leverage the corruption present in that test data, since it trained to do so.\n",
    "The clean network has never seen such corruption during training,\n",
    "and will therefore not be able to leverage this and get any advantage out of it."
   ]
  },
  {
   "cell_type": "markdown",
   "id": "3c6f09c9",
   "metadata": {},
   "source": [
    "<div class=\"alert alert-info\"><h4>\n",
    "Task 2.3:</h4>\n",
    "Do you think the tainted network will be more accurate than the clean network when applied to the <b>clean</b> test data? Why?\n",
    "</div>"
   ]
  },
  {
   "cell_type": "markdown",
   "id": "912a7c00",
   "metadata": {
    "lines_to_next_cell": 2,
    "tags": [
     "solution"
    ]
   },
   "source": [
    "**2.3 Answer:**\n",
    "\n",
    "The tainted network is relying on grid patterns to detect 4s and on dots in the bottom right corner to detect 7s.\n",
    "Neither of these features are present in the clean dataset, therefore, we expect that when applied to the clean dataset,\n",
    "the tainted network will perform poorly (at least for the 4 and the 7 classes)."
   ]
  },
  {
   "cell_type": "markdown",
   "id": "aac08429",
   "metadata": {},
   "source": [
    "<div class=\"alert alert-success\"><h3>Checkpoint 2</h3>\n",
    "\n",
    "Post to the course chat when you have reached Checkpoint 2. We will discuss our predictions!\n",
    "<h4> Learning goals of part 2</h4>\n",
    "In this second part of the exercise we've learned:\n",
    "<ol>\n",
    " <li>  Built a neural network for image classification.\n",
    " <li>  Trained the network on a labelled dataset.\n",
    " <li>  Visualized training loss.\n",
    " <li>  Analyzed the effect of tainted data on learning via the loss function.\n",
    "\n",
    "</div>"
   ]
  },
  {
   "cell_type": "markdown",
   "id": "356313f4",
   "metadata": {},
   "source": [
    "<div class=\"alert alert-block alert-warning\"><h3>\n",
    "    Bonus Questions:</h3>\n",
    "    <ol>\n",
    "        <li>Train a model on the <b>all-grid</b> training dataset from the bonus questions in Part 1. How does the  all-grid training loss compare to the clean and tainted models? Why?</li>\n",
    "        <li> How do you think a digit classifier trained on <b>all-grid</b> data and tested on <b>all-grid</b> data would perform? </li>\n",
    "        <li> What about a digit classifier trained on <b>all-grid</b> data and tested on <b>untainted</b> data? </li>\n",
    "    </ol>\n",
    "</div>"
   ]
  },
  {
   "cell_type": "markdown",
   "id": "9e85c570",
   "metadata": {},
   "source": [
    "### Part 3: Examining the Results of the Clean and Tainted Networks\n",
    "\n",
    "Now that we have initialized our clean and tainted datasets and trained our models on them, it is time to examine how these models perform on the clean and tainted test sets!\n",
    "\n",
    "We provide a `predict` function below that will return the prediction and ground truth labels given a particular model and dataset."
   ]
  },
  {
   "cell_type": "code",
   "execution_count": null,
   "id": "fd564c94",
   "metadata": {},
   "outputs": [],
   "source": [
    "import numpy as np\n",
    "\n",
    "\n",
    "# predict the test dataset\n",
    "def predict(model, dataset):\n",
    "    dataset_prediction = []\n",
    "    dataset_groundtruth = []\n",
    "    with torch.no_grad():\n",
    "        for x, y_true in dataset:\n",
    "            inp = x[None].to(device)\n",
    "            y_pred = model(inp)\n",
    "            dataset_prediction.append(y_pred.argmax().cpu().numpy())\n",
    "            dataset_groundtruth.append(y_true)\n",
    "\n",
    "    return np.array(dataset_prediction), np.array(dataset_groundtruth)"
   ]
  },
  {
   "cell_type": "markdown",
   "id": "bb8d291e",
   "metadata": {},
   "source": [
    "Now we call the predict function with the clean and tainted models on the clean and tainted datasets."
   ]
  },
  {
   "cell_type": "code",
   "execution_count": null,
   "id": "1bcc373a",
   "metadata": {},
   "outputs": [],
   "source": [
    "pred_clean_clean, true_labels = predict(model_clean, test_dataset)\n",
    "pred_clean_tainted, _ = predict(model_clean, tainted_test_dataset)\n",
    "pred_tainted_clean, _ = predict(model_tainted, test_dataset)\n",
    "pred_tainted_tainted, _ = predict(model_tainted, tainted_test_dataset)"
   ]
  },
  {
   "cell_type": "markdown",
   "id": "b138909d",
   "metadata": {},
   "source": [
    "We can investigate the results using the confusion matrix, you can read more about them [here](https://en.wikipedia.org/wiki/Confusion_matrix). The function in the cell below will create a nicely annotated confusion matrix."
   ]
  },
  {
   "cell_type": "code",
   "execution_count": null,
   "id": "332dea35",
   "metadata": {},
   "outputs": [],
   "source": [
    "from sklearn.metrics import confusion_matrix\n",
    "import seaborn as sns\n",
    "import pandas as pd\n",
    "\n",
    "\n",
    "# Plot confusion matrix\n",
    "# originally from Runqi Yang;\n",
    "# see https://gist.github.com/hitvoice/36cf44689065ca9b927431546381a3f7\n",
    "def cm_analysis(y_true, y_pred, title, figsize=(10, 10)):\n",
    "    \"\"\"\n",
    "    Generate matrix plot of confusion matrix with pretty annotations.\n",
    "    The plot image is saved to disk.\n",
    "    args:\n",
    "      y_true:    true label of the data, with shape (nsamples,)\n",
    "      y_pred:    prediction of the data, with shape (nsamples,)\n",
    "      filename:  filename of figure file to save\n",
    "      labels:    string array, name the order of class labels in the confusion matrix.\n",
    "                 use `clf.classes_` if using scikit-learn models.\n",
    "                 with shape (nclass,).\n",
    "      ymap:      dict: any -> string, length == nclass.\n",
    "                 if not None, map the labels & ys to more understandable strings.\n",
    "                 Caution: original y_true, y_pred and labels must align.\n",
    "      figsize:   the size of the figure plotted.\n",
    "    \"\"\"\n",
    "    labels = [\"0\", \"1\", \"2\", \"3\", \"4\", \"5\", \"6\", \"7\", \"8\", \"9\"]\n",
    "    cm = confusion_matrix(y_true, y_pred)\n",
    "    cm_sum = np.sum(cm, axis=1, keepdims=True)\n",
    "    cm_perc = cm / cm_sum.astype(float) * 100\n",
    "    annot = np.empty_like(cm).astype(str)\n",
    "    nrows, ncols = cm.shape\n",
    "    for i in range(nrows):\n",
    "        for j in range(ncols):\n",
    "            c = cm[i, j]\n",
    "            p = cm_perc[i, j]\n",
    "            if i == j:\n",
    "                s = cm_sum[i]\n",
    "                annot[i, j] = \"%.1f%%\\n%d/%d\" % (p, c, s)\n",
    "            elif c == 0:\n",
    "                annot[i, j] = \"\"\n",
    "            else:\n",
    "                annot[i, j] = \"%.1f%%\\n%d\" % (p, c)\n",
    "    cm = pd.DataFrame(cm_perc, index=labels, columns=labels)\n",
    "    cm.index.name = \"Actual\"\n",
    "    cm.columns.name = \"Predicted\"\n",
    "    fig, ax = plt.subplots(figsize=figsize)\n",
    "    ax = sns.heatmap(cm, annot=annot, fmt=\"\", vmax=100)\n",
    "    ax.set_title(title)"
   ]
  },
  {
   "cell_type": "markdown",
   "id": "2c96b214",
   "metadata": {},
   "source": [
    "Now we will generate confusion matrices for each model/data combination.\n",
    "Take your time and try and interpret these, and then try and answer the questions below."
   ]
  },
  {
   "cell_type": "code",
   "execution_count": null,
   "id": "a7f8933a",
   "metadata": {},
   "outputs": [],
   "source": [
    "cm_analysis(true_labels, pred_clean_clean, \"Clean Model on Clean Data\")\n",
    "cm_analysis(true_labels, pred_clean_tainted, \"Clean Model on Tainted Data\")\n",
    "cm_analysis(true_labels, pred_tainted_clean, \"Tainted Model on Clean Data\")\n",
    "cm_analysis(true_labels, pred_tainted_tainted, \"Tainted Model on Tainted Data\")"
   ]
  },
  {
   "cell_type": "markdown",
   "id": "b9c7a8f4",
   "metadata": {},
   "source": [
    "<div class=\"alert alert-info\"><h4>\n",
    "Task 3.1:</h4>\n",
    "For the <b>clean</b> model and the <b>clean</b> dataset,\n",
    "which digit was least accurately predicted? What did the model predict instead? Why do you think these digits were confused by the model?\n",
    "</div>"
   ]
  },
  {
   "cell_type": "markdown",
   "id": "d07212ac",
   "metadata": {
    "tags": [
     "solution"
    ]
   },
   "source": [
    "**3.1 Answer:**\n",
    "\n",
    "The clean model on the clean dataset predicted 5s least accurately, with some confusion with 6s and 3s.\n",
    "These are likely confused by the model as handwritten 5s may look like 6s (almost closed bottom part) or 3s (presence of 3 horizontal segments).\n",
    "In other cases, the model may confuse other digits to do at some randomnes in the training process. "
   ]
  },
  {
   "cell_type": "markdown",
   "id": "38c76d88",
   "metadata": {},
   "source": [
    "<div class=\"alert alert-info\"><h4>\n",
    "Task 3.2:</h4>\n",
    "Does the <b>tainted</b> model on the <b>tainted</b> dataset perform better or worse than the <b>clean</b> model on the <b>clean</b> dataset? Which digits is it better or worse on? Why do you think that is the case?\n",
    "</div>"
   ]
  },
  {
   "cell_type": "markdown",
   "id": "8992d8f3",
   "metadata": {
    "tags": [
     "solution"
    ]
   },
   "source": [
    "**3.2 Answer**\n",
    "\n",
    "The tainted model on tainted data is generally better than the clean model on clean data.\n",
    "Clean/clean does ever so slightly better on 3s and 8s, but 4s and 7s are quite significantly better identified in the tainted/tainted case,\n",
    "which is due to the extra information provided by the corruption of these two classes."
   ]
  },
  {
   "cell_type": "markdown",
   "id": "4255cebe",
   "metadata": {},
   "source": [
    "<div class=\"alert alert-info\"><h4>\n",
    "Task 3.3:</h4>\n",
    "For the <b>clean</b> model and the <b>tainted</b> dataset, was the local corruption on the 7s or the global corruption on the 4s harder\n",
    "for the model trained on clean data to deal with? Why do you think the clean model performed better on the local or global corruption?\n",
    "</div>"
   ]
  },
  {
   "cell_type": "markdown",
   "id": "8f501284",
   "metadata": {
    "tags": [
     "solution"
    ]
   },
   "source": [
    "**3.3 Answer:**\n",
    "\n",
    "The clean model on the tainted data performed better with the local corruption on the 7s\n",
    "(in fact, better than with the non-corrupted 5s) than it did with the global corruption on the 4s.\n",
    "It is harder to predict on the global corruption because it affects the whole image, and this was never seen in the training.\n",
    "It adds (structured) noise over the entire four."
   ]
  },
  {
   "cell_type": "markdown",
   "id": "fe986bd3",
   "metadata": {},
   "source": [
    "<div class=\"alert alert-info\"><h4>\n",
    "Task 3.4:</h4>\n",
    "Did the <b>tainted</b> model perform worse on <b>clean</b> 7s or <b>clean</b> 4s? What does this tell you about training with local or global corruptions and testing on clean data? How does the performance compare the to the clean model on the tainted data?\n",
    "</div>"
   ]
  },
  {
   "cell_type": "markdown",
   "id": "7d0f5a43",
   "metadata": {
    "tags": [
     "solution"
    ]
   },
   "source": [
    "**3.4 Answer:**\n",
    "\n",
    "The tainted model performed poorly on clean 7s and extremely poorly on clean 4s.\n",
    "Global corruption effectively prevented the tainted model from learning any feature about 4s,\n",
    "and local corruption used both some true and some false features about 7s.\n",
    "Ultimately, a clean model will perform better than a tainted model on clean data.\n",
    "The process of trainning has a little bit of randomness on it, therefore your results may vary slightly."
   ]
  },
  {
   "cell_type": "markdown",
   "id": "51556ea7",
   "metadata": {},
   "source": [
    "<div class=\"alert alert-success\"><h3>\n",
    "    Checkpoint 3</h3>\n",
    "\n",
    "Post to the course chat when you have reached Checkpoint 3, and will will discuss our results and reasoning about why they might have happened.\n",
    "<h4> Learning goals of part 3</h4>\n",
    "In this third part of the exercise we've learned:\n",
    "<ol>\n",
    " <li>  How to do inference in a trained model to make predictions on a test dataset.\n",
    " <li>  How to visualize the results of a model using confusion matrices.\n",
    " <li>  How to interpret the results of a model on clean and tainted and vice versa.\n",
    "</ol>\n",
    "</div>"
   ]
  },
  {
   "cell_type": "markdown",
   "id": "bae30059",
   "metadata": {
    "lines_to_next_cell": 0
   },
   "source": [
    "<div class=\"alert alert-block alert-warning\"><h3>\n",
    "    Bonus Questions:</h3>\n",
    "    <ol>\n",
    "        <li> Run predict with the model trained on the <b>all-grid</b> data using both the clean and all-grid testing data. Then generate the confusion matrices. </li>\n",
    "        <li> How does the <b>all-grid</b> model perform on <b>all-grid</b> data compared to the <b>clean</b> model on <b>clean</b> data? What about the <b>all-grid</b> model on <b>clean</b> data?</li>\n",
    "        <li> In a realistic situation, is it better to have corruption or noise on all your data, or just a subset of the classes? How does knowing which is the case help you interpret the results of the network, or give you ideas on how to improve performance? </li>\n",
    "    </ol>\n",
    "</div>"
   ]
  },
  {
   "cell_type": "code",
   "execution_count": null,
   "id": "fbfc2d86",
   "metadata": {
    "tags": [
     "solution"
    ]
   },
   "outputs": [],
   "source": [
    "# We are now going to train a model on the all-grid dataset, but we will use the one we trained in the bonus questions of Part 1.\n",
    "# Next we initialize the clean and tainted dataloaders, again with a specific random seed for reproducibility.\n",
    "\n",
    "# Initialising dataloaders:\n",
    "train_loader_allgrid = torch.utils.data.DataLoader(\n",
    "    allgrid_tainted_test_dataset,\n",
    "    batch_size=batch_size_train,\n",
    "    shuffle=True,\n",
    "    generator=torch.Generator().manual_seed(42),\n",
    ")\n",
    "\n",
    "# Now it is time to train the neural network with all-grids.\n",
    "history = {\"loss_tainted\": [], \"loss_clean\": []}\n",
    "\n",
    "# Training loop for clean model:\n",
    "for epoch in range(n_epochs):\n",
    "    train_mnist(\n",
    "        model_clean,\n",
    "        train_loader_allgrid,\n",
    "        batch_size_train,\n",
    "        criterion,\n",
    "        optim.Adam(model_clean.parameters(), lr=0.001),\n",
    "        history[\"loss_clean\"],\n",
    "    )\n",
    "\n",
    "print(\"model_clean all-grid trained\")\n",
    "\n",
    "# Training loop for tainted model:\n",
    "for epoch in range(n_epochs):\n",
    "    train_mnist(\n",
    "        model_tainted,\n",
    "        train_loader_allgrid,\n",
    "        batch_size_train,\n",
    "        criterion,\n",
    "        optim.Adam(model_tainted.parameters(), lr=0.001),\n",
    "        history[\"loss_tainted\"],\n",
    "    )\n",
    "\n",
    "print(\"model_tainted all-grid trained\")\n",
    "\n",
    "# Visualise the loss history:\n",
    "fig = plt.figure()\n",
    "plt.plot(history[\"loss_clean\"], color=\"#0072B2\")\n",
    "plt.plot(history[\"loss_tainted\"], color=\"#E69F00\")\n",
    "plt.legend([\"Train Loss Clean\", \"Train Loss Tainted\"], loc=\"upper right\")\n",
    "plt.xlabel(\"number of training examples seen\")\n",
    "plt.ylabel(\"negative log likelihood loss\")"
   ]
  },
  {
   "cell_type": "markdown",
   "id": "9d7ea103",
   "metadata": {
    "tags": [
     "solution"
    ]
   },
   "source": [
    "**Bonus question answer:**\n",
    "\n",
    "The clean model converge nicer, although both models converge to a similar loss.\n",
    "The clean model never saw the grid data but because all the data is corrupted, it learns to ignore the grid pattern."
   ]
  },
  {
   "cell_type": "markdown",
   "id": "adc401ba",
   "metadata": {},
   "source": [
    "### Part 4: Interpretation with Integrated Gradients\n",
    "Perhaps you formed some hypotheses about why the clean and tainted models did better or worse on certain datasets in the previous section. Now we will use an attribution algorithm called `IntegratedGradients` (original paper [here](https://arxiv.org/pdf/1703.01365.pdf)) to learn more about the inner workings of each model. This algorithm analyses a specific image and class, and uses the gradients of the network to find the regions of the image that are most important for the classification. We will learn more about Integrated Gradients and its limitations in the Knowledge Extraction Lecture and Exercise."
   ]
  },
  {
   "cell_type": "markdown",
   "id": "0fda7080",
   "metadata": {},
   "source": [
    "\n",
    "Below is a function to apply integrated gradients to a given image, class, and model using the Captum library\n",
    "(API documentation at https://captum.ai/api/integrated_gradients.html).\n"
   ]
  },
  {
   "cell_type": "code",
   "execution_count": null,
   "id": "6126188e",
   "metadata": {},
   "outputs": [],
   "source": [
    "from captum.attr import IntegratedGradients\n",
    "\n",
    "\n",
    "def apply_integrated_gradients(test_input, model):\n",
    "    # move the model to cpu\n",
    "    model.cpu()\n",
    "\n",
    "    # initialize algorithm\n",
    "    algorithm = IntegratedGradients(model)\n",
    "\n",
    "    # clear the gradients from the model\n",
    "    model.zero_grad()\n",
    "\n",
    "    # Get input and target tensors from test_input\n",
    "    input_tensor = test_input[0].unsqueeze(0)\n",
    "    input_tensor.requires_grad = True\n",
    "    target = test_input[1]\n",
    "\n",
    "    # Run attribution:\n",
    "    attributions = algorithm.attribute(\n",
    "        input_tensor, target=target, baselines=input_tensor * 0\n",
    "    )\n",
    "\n",
    "    return attributions"
   ]
  },
  {
   "cell_type": "markdown",
   "id": "598a7831",
   "metadata": {},
   "source": [
    "Next we provide a function to visualize the output of integrated gradients, using the function above to actually run the algorithm."
   ]
  },
  {
   "cell_type": "code",
   "execution_count": null,
   "id": "465ec621",
   "metadata": {},
   "outputs": [],
   "source": [
    "from captum.attr import visualization as viz\n",
    "\n",
    "\n",
    "def visualize_integrated_gradients(test_input, model, plot_title):\n",
    "    attr_ig = apply_integrated_gradients(test_input, model)\n",
    "\n",
    "    # Transpose integrated gradients output\n",
    "    attr_ig = np.transpose(attr_ig[0].cpu().detach().numpy(), (1, 2, 0))\n",
    "\n",
    "    # Transpose and normalize original image:\n",
    "    original_image = np.transpose(\n",
    "        (test_input[0].detach().numpy() * 0.5) + 0.5, (1, 2, 0)\n",
    "    )\n",
    "\n",
    "    # This visualises the attribution of labels to pixels\n",
    "    figure, axis = plt.subplots(nrows=1, ncols=2, figsize=(4, 2.5), width_ratios=[1, 1])\n",
    "    viz.visualize_image_attr(\n",
    "        attr_ig,\n",
    "        original_image,\n",
    "        method=\"blended_heat_map\",\n",
    "        sign=\"absolute_value\",\n",
    "        show_colorbar=True,\n",
    "        title=\"Original and Attribution\",\n",
    "        plt_fig_axis=(figure, axis[0]),\n",
    "        use_pyplot=False,\n",
    "    )\n",
    "    viz.visualize_image_attr(\n",
    "        attr_ig,\n",
    "        original_image,\n",
    "        method=\"heat_map\",\n",
    "        sign=\"absolute_value\",\n",
    "        show_colorbar=True,\n",
    "        title=\"Attribution Only\",\n",
    "        plt_fig_axis=(figure, axis[1]),\n",
    "        use_pyplot=False,\n",
    "    )\n",
    "    figure.suptitle(plot_title, y=0.95)\n",
    "    plt.tight_layout()"
   ]
  },
  {
   "cell_type": "markdown",
   "id": "351840f6",
   "metadata": {},
   "source": [
    "To start examining the results, we will call the `visualize_integrated_gradients` with the tainted and clean models on the tainted and clean sevens.\n",
    "\n",
    "The visualization will show the original image plus an overlaid attribution map that generally signifies the importance of each pixel, plus the attribution map only. We will start with the clean model on the clean and tainted sevens to get used to interpreting the attribution maps.\n"
   ]
  },
  {
   "cell_type": "code",
   "execution_count": null,
   "id": "3d1f6b5d",
   "metadata": {},
   "outputs": [],
   "source": [
    "visualize_integrated_gradients(test_dataset[0], model_clean, \"Clean Model on Clean 7\")\n",
    "visualize_integrated_gradients(\n",
    "    tainted_test_dataset[0], model_clean, \"Clean Model on Tainted 7\"\n",
    ")"
   ]
  },
  {
   "cell_type": "markdown",
   "id": "5833b718",
   "metadata": {},
   "source": [
    "<div class=\"alert alert-info\"><h4>\n",
    "    Task 4.1: Interpreting the Clean Model's Attention on 7s</h4>\n",
    "Where did the <b>clean</b> model focus its attention for the clean and tainted 7s?\n",
    "What regions of the image were most important for classifying the image as a 7?\n",
    "</div>"
   ]
  },
  {
   "cell_type": "markdown",
   "id": "1d5bed66",
   "metadata": {
    "tags": [
     "solution"
    ]
   },
   "source": [
    "**4.1 Answer:**\n",
    "\n",
    "The clean model focus its attention to the 7 itself. The local corruption is not factored in at all,\n",
    "only the central regions of the image matter (those where the 7 is actually drawn), both for the clean and the tainted data."
   ]
  },
  {
   "cell_type": "markdown",
   "id": "442eadfa",
   "metadata": {},
   "source": [
    "Now let's look at the attention of the tainted model!"
   ]
  },
  {
   "cell_type": "code",
   "execution_count": null,
   "id": "e882a6ba",
   "metadata": {},
   "outputs": [],
   "source": [
    "visualize_integrated_gradients(\n",
    "    tainted_test_dataset[0], model_tainted, \"Tainted Model on Tainted 7\"\n",
    ")\n",
    "visualize_integrated_gradients(\n",
    "    test_dataset[0], model_tainted, \"Tainted Model on Clean 7\"\n",
    ")"
   ]
  },
  {
   "cell_type": "markdown",
   "id": "5dbfb4d9",
   "metadata": {},
   "source": [
    "<div class=\"alert alert-info\"><h4>\n",
    "    Task 4.2: Interpreting the Tainted Model's Attention on 7s</h4>\n",
    "Where did the <b>tainted</b> model focus its attention for the clean and tainted 7s? How was this different than the clean model? Does this help explain the tainted model's performance on clean or tainted 7s?\n",
    "</div>"
   ]
  },
  {
   "cell_type": "markdown",
   "id": "fac38ccf",
   "metadata": {
    "tags": [
     "solution"
    ]
   },
   "source": [
    "**4.2 Answer:**\n",
    "\n",
    "The tainted model only focuses on the dot in the tainted 7. It does the same for the clean 7, barely even considering the central regions where the 7 is drawn,\n",
    "which is very different from how the clean model operated.\n",
    "Still, it does consider the central regions as well as the corruption, which explains the model's ability to still correctly identify clean 7s at times."
   ]
  },
  {
   "cell_type": "markdown",
   "id": "1be69a8b",
   "metadata": {},
   "source": [
    "Now let's look at the regions of the image that Integrated Gradients highlights as important for classifying fours in the clean and tainted models."
   ]
  },
  {
   "cell_type": "code",
   "execution_count": null,
   "id": "4472a5a3",
   "metadata": {},
   "outputs": [],
   "source": [
    "visualize_integrated_gradients(test_dataset[6], model_clean, \"Clean Model on Clean 4\")\n",
    "visualize_integrated_gradients(\n",
    "    tainted_test_dataset[6], model_clean, \"Clean Model on Tainted 4\"\n",
    ")\n",
    "visualize_integrated_gradients(\n",
    "    tainted_test_dataset[6], model_tainted, \"Tainted Model on Tainted 4\"\n",
    ")\n",
    "visualize_integrated_gradients(\n",
    "    test_dataset[6], model_tainted, \"Tainted Model on Clean 4\"\n",
    ")"
   ]
  },
  {
   "cell_type": "markdown",
   "id": "e23fcfe8",
   "metadata": {},
   "source": [
    "<div class=\"alert alert-info\"><h4>\n",
    "    Task 4.3: Interpreting the focus on 4s</h4>\n",
    "Where did the <b>tainted</b> model focus its attention for the tainted and clean 4s? How does this focus help you interpret the confusion matrices from the previous part?\n",
    "</div>"
   ]
  },
  {
   "cell_type": "markdown",
   "id": "b3902bd4",
   "metadata": {
    "tags": [
     "solution"
    ]
   },
   "source": [
    "**4.3 Answer:**\n",
    "\n",
    "Due to the global corruption, the tainted model's attention on tainted 4s is all over the place, but still looking at the dot from the 7s local corruption, meaning that class exclusion is also a mean to classify. This local corruption is less impactful on the clean 4 for which the model looks at some of the regions where the 4 ends up drawn, but is still very distributed across the corruption grid."
   ]
  },
  {
   "cell_type": "markdown",
   "id": "285e37ac",
   "metadata": {},
   "source": [
    "<div class=\"alert alert-info\"><h4>\n",
    "    Task 4.4: Reflecting on Integrated Gradients</h4>\n",
    "Did you find the integrated gradients more useful for the global or local corruptions of the data? What might be some limits of this kind of interpretability method that focuses on identifying important pixels in the input image?\n",
    "</div>"
   ]
  },
  {
   "cell_type": "markdown",
   "id": "483f45c8",
   "metadata": {
    "tags": [
     "solution"
    ]
   },
   "source": [
    "**4.4 Answer:**\n",
    "\n",
    "The integrated gradient was more useful identifying the contribution of local corruption. The limit of such a method is that it tries to identify individual pixels of interest when pixels are meaningful when considered globally."
   ]
  },
  {
   "cell_type": "markdown",
   "id": "a74d5488",
   "metadata": {},
   "source": [
    "<div class=\"alert alert-block alert-success\"><h3>\n",
    "    Checkpoint 4</h3>\n",
    "    <ol>\n",
    "        Congrats on finishing the integrated gradients task! Let us know on the course chat that you reached checkpoint 4, a\n",
    "and feel free to look at other interpretability methods in the Captum library if you're interested.\n",
    "    </ol>\n",
    "In this fourth part of the exercise we've learned:\n",
    "<ol>\n",
    " <li> How to use the Captum library to apply integrated gradients to a model.\n",
    " <li> How to visualize the results of integrated gradients.\n",
    " <li> How to interpret the results of integrated gradients on a dataset.\n",
    "</ol>\n",
    "</div>"
   ]
  },
  {
   "cell_type": "markdown",
   "id": "24763c91",
   "metadata": {},
   "source": [
    "<div class=\"alert alert-block alert-warning\"><h3>\n",
    "    Bonus Questions</h3>\n",
    "    <ol>\n",
    "        <li>Run integrated gradients on the <b>all-grid</b> model and clean and all-grid examples. Did the model learn to ignore the grid pattern for the all-grid test set? What happens when the grid pattern is missing in the clean data? </li>\n",
    "        <li>How do these results help you interpret the confusion matrices? Were your predictions correct about why certain models did better or worse on certain digits?</li>\n",
    "    </ol>\n",
    "</div>"
   ]
  },
  {
   "cell_type": "code",
   "execution_count": null,
   "id": "9500136e",
   "metadata": {
    "lines_to_next_cell": 2,
    "tags": [
     "solution"
    ]
   },
   "outputs": [],
   "source": [
    "\n",
    "# Let's set some hyperparameters:\n",
    "n_epochs = 2\n",
    "batch_size_train = 64\n",
    "batch_size_test = 1000\n",
    "\n",
    "# Loss function:\n",
    "criterion = nn.CrossEntropyLoss()\n",
    "\n",
    "# Initialize the clean and tainted models\n",
    "model_allgrid = DenseModel(input_shape=(28, 28), num_classes=10)\n",
    "model_allgrid = model_allgrid.to(device)\n",
    "\n",
    "\n",
    "# Weight initialisation:\n",
    "def init_weights(m):\n",
    "    if isinstance(m, (nn.Linear, nn.Conv2d)):\n",
    "        torch.nn.init.xavier_uniform_(\n",
    "            m.weight,\n",
    "        )\n",
    "        m.bias.data.fill_(0.01)\n",
    "\n",
    "\n",
    "# Fixing seed with magical number and setting weights for the clean model:\n",
    "torch.random.manual_seed(42)\n",
    "model_allgrid.apply(init_weights)\n",
    "\n",
    "# Next we initialize the clean and tainted dataloaders, again with a specific random seed for reproducibility.\n",
    "# Initialising dataloaders:\n",
    "train_loader_allgrid = torch.utils.data.DataLoader(\n",
    "    allgrid_train_dataset,\n",
    "    batch_size=batch_size_train,\n",
    "    shuffle=True,\n",
    "    generator=torch.Generator().manual_seed(42),\n",
    ")\n",
    "\n",
    "# Now it is time to train the neural networks! We are storing the training loss history for each model so we can visualize it later.\n",
    "\n",
    "# We store history here:\n",
    "history = {\"loss_allgrid\": []}\n",
    "\n",
    "# Training loop for clean model:\n",
    "for epoch in range(n_epochs):\n",
    "    train_mnist(\n",
    "        model_allgrid,\n",
    "        train_loader_allgrid,\n",
    "        batch_size_train,\n",
    "        criterion,\n",
    "        optim.Adam(model_clean.parameters(), lr=0.001),\n",
    "        history[\"loss_allgrid\"],\n",
    "    )\n",
    "\n",
    "print(\"model_allgrid trained\")\n",
    "# Now we visualize the loss history for the clean and tainted models.\n",
    "# Visualise the loss history:\n",
    "fig = plt.figure()\n",
    "plt.plot(history[\"loss_allgrid\"], color=\"#0072B2\")\n",
    "plt.legend([\"Train Loss Clean\", \"Train Loss Tainted\"], loc=\"upper right\")\n",
    "plt.xlabel(\"number of training examples seen\")\n",
    "plt.ylabel(\"negative log likelihood loss\")\n",
    "\n",
    "pred_allgrid_allgrid, true_labels = predict(model_allgrid, allgrid_tainted_test_dataset)\n",
    "pred_allgrid_clean, _ = predict(model_allgrid, test_dataset)\n",
    "\n",
    "cm_analysis(true_labels, pred_allgrid_allgrid, \"All-grid Model on all-grid data\")\n",
    "cm_analysis(true_labels, pred_allgrid_clean, \"All-grid Model on clean data\")\n",
    "\n",
    "visualize_integrated_gradients(\n",
    "    allgrid_tainted_test_dataset[1], model_allgrid, \"All-grid Model on all-grid\"\n",
    ")\n",
    "visualize_integrated_gradients(\n",
    "    test_dataset[1], model_allgrid, \"All-grid Model on clean data\"\n",
    ")"
   ]
  },
  {
   "cell_type": "markdown",
   "id": "82a845e3",
   "metadata": {
    "tags": [
     "solution"
    ]
   },
   "source": [
    "**Bonus question answer:**\n",
    "Its all classified in the same way, with the grid pattern being ignored.\n",
    "All the inputs are lying in the same category, number 1 in both cases when all-grid model in all-grid data and in clean data all classified as 1.\n"
   ]
  },
  {
   "cell_type": "markdown",
   "id": "3c481a9a",
   "metadata": {},
   "source": [
    "## Part 5: Importance of using the right training data\n",
    "\n",
    "Now we will move on from image classification to denoising, and show why it is particularly important to ensure that your training and test data are from the same distribution for these kinds of networks.\n",
    "\n",
    "For this exercise, we will first train a simple CNN model to denoise MNIST images of digits, and then apply it to the Fashion MNIST to see what happens when the training and inference data are mismatched.\n"
   ]
  },
  {
   "cell_type": "markdown",
   "id": "63be98f9",
   "metadata": {},
   "source": [
    "First, we will write a function to add noise to the MNIST dataset, so that we can train a model to denoise it."
   ]
  },
  {
   "cell_type": "code",
   "execution_count": null,
   "id": "b430af20",
   "metadata": {},
   "outputs": [],
   "source": [
    "import torch\n",
    "\n",
    "\n",
    "# A simple function to add noise to tensors:\n",
    "def add_noise(tensor, power=1.5):\n",
    "    return tensor * torch.rand(tensor.size()).to(\n",
    "        tensor.device\n",
    "    ) ** power + 0.75 * torch.randn(tensor.size()).to(tensor.device)"
   ]
  },
  {
   "cell_type": "markdown",
   "id": "dcd7167b",
   "metadata": {},
   "source": [
    "Next we will visualize a couple MNIST examples with and without noise."
   ]
  },
  {
   "cell_type": "code",
   "execution_count": null,
   "id": "198d462e",
   "metadata": {},
   "outputs": [],
   "source": [
    "import matplotlib.pyplot as plt\n",
    "\n",
    "\n",
    "# Let's visualise MNIST images with noise:\n",
    "def show(index):\n",
    "    plt.subplot(1, 4, 1)\n",
    "    plt.axis(\"off\")\n",
    "    plt.imshow(train_dataset[index][0][0], cmap=plt.get_cmap(\"gray\"))\n",
    "    plt.subplot(1, 4, 2)\n",
    "    plt.axis(\"off\")\n",
    "    plt.imshow(add_noise(train_dataset[index][0][0]), cmap=plt.get_cmap(\"gray\"))\n",
    "    plt.subplot(1, 4, 3)\n",
    "    plt.axis(\"off\")\n",
    "    plt.imshow(train_dataset[index + 1][0][0], cmap=plt.get_cmap(\"gray\"))\n",
    "    plt.subplot(1, 4, 4)\n",
    "    plt.axis(\"off\")\n",
    "    plt.imshow(add_noise(train_dataset[index + 1][0][0]), cmap=plt.get_cmap(\"gray\"))\n",
    "    plt.show()\n",
    "\n",
    "\n",
    "# We pick 8 images to show:\n",
    "for i in range(8):\n",
    "    show(123 * i)"
   ]
  },
  {
   "cell_type": "markdown",
   "id": "7f24ea4b",
   "metadata": {},
   "source": [
    "### UNet model\n",
    "\n",
    "Let's try denoising with a UNet, \"CARE-style\". As UNets and denoising implementations are not the focus of this exercise, we provide the model for you in the following cell."
   ]
  },
  {
   "cell_type": "markdown",
   "id": "e3723c68",
   "metadata": {},
   "source": [
    "The training loop code is also provided here. It is similar to the code used to train the image classification model previously, but look it over to make sure there are no surprises."
   ]
  },
  {
   "cell_type": "code",
   "execution_count": null,
   "id": "61ea5790",
   "metadata": {},
   "outputs": [],
   "source": [
    "from tqdm import tqdm\n",
    "\n",
    "\n",
    "def train_denoising_model(train_loader, model, criterion, optimizer, history):\n",
    "\n",
    "    # Puts model in 'training' mode:\n",
    "    model.train()\n",
    "\n",
    "    # Initialises progress bar:\n",
    "    pbar = tqdm(total=len(train_loader.dataset) // batch_size_train)\n",
    "    for batch_idx, (image, target) in enumerate(train_loader):\n",
    "\n",
    "        # add line here during Task 2.2\n",
    "\n",
    "        # Zeroing gradients:\n",
    "        optimizer.zero_grad()\n",
    "\n",
    "        # Moves image to GPU memory:\n",
    "        image = image.to(device)\n",
    "\n",
    "        # Adds noise to make the noisy image:\n",
    "        noisy = add_noise(image)\n",
    "\n",
    "        # Runs model on noisy image:\n",
    "        output = model(noisy)\n",
    "\n",
    "        # Computes loss:\n",
    "        loss = criterion(output, image)\n",
    "\n",
    "        # Backpropagates gradients:\n",
    "        loss.backward()\n",
    "\n",
    "        # Optimises model parameters given the current gradients:\n",
    "        optimizer.step()\n",
    "\n",
    "        # appends loss history:\n",
    "        history[\"loss\"].append(loss.item())\n",
    "\n",
    "        # updates progress bar:\n",
    "        pbar.update(1)\n",
    "    return history"
   ]
  },
  {
   "cell_type": "markdown",
   "id": "4b890091",
   "metadata": {},
   "source": [
    "Here we choose hyperparameters and initialize the model and data loaders."
   ]
  },
  {
   "cell_type": "code",
   "execution_count": null,
   "id": "068747db",
   "metadata": {},
   "outputs": [],
   "source": [
    "from dlmbl_unet import UNet\n",
    "import torch.optim as optim\n",
    "import torch\n",
    "import torch.nn.functional as F\n",
    "\n",
    "# Some hyper-parameters:\n",
    "n_epochs = 3\n",
    "batch_size_train = 64\n",
    "batch_size_test = 1000\n",
    "\n",
    "# Dictionary to store loss history:\n",
    "history = {\"loss\": []}\n",
    "\n",
    "# Model:\n",
    "unet_model = UNet(depth=3, in_channels=1, upsample_mode=\"bilinear\")\n",
    "unet_model = unet_model.to(device)\n",
    "\n",
    "# Loss function:\n",
    "criterion = F.mse_loss  # mse_loss\n",
    "\n",
    "# Optimiser:\n",
    "optimizer = optim.Adam(unet_model.parameters(), lr=0.0005)\n",
    "\n",
    "# Test loader:\n",
    "test_loader = torch.utils.data.DataLoader(\n",
    "    test_dataset, batch_size=batch_size_test, shuffle=True\n",
    ")\n",
    "\n",
    "# Train loader:\n",
    "train_loader = torch.utils.data.DataLoader(\n",
    "    train_dataset, batch_size=batch_size_train, shuffle=True\n",
    ")"
   ]
  },
  {
   "cell_type": "markdown",
   "id": "377725f7",
   "metadata": {},
   "source": [
    "Finally, we run the training loop!"
   ]
  },
  {
   "cell_type": "code",
   "execution_count": null,
   "id": "211bf75a",
   "metadata": {},
   "outputs": [],
   "source": [
    "# Training loop:\n",
    "for epoch in range(n_epochs):\n",
    "    train_denoising_model(train_loader, unet_model, criterion, optimizer, history)"
   ]
  },
  {
   "cell_type": "markdown",
   "id": "19bcfb66",
   "metadata": {},
   "source": [
    "As before, we will visualize the training loss. If all went correctly, it should decrease from around 1.0 to less than 0.2."
   ]
  },
  {
   "cell_type": "code",
   "execution_count": null,
   "id": "d1546d96",
   "metadata": {},
   "outputs": [],
   "source": [
    "# Loss Visualization\n",
    "fig = plt.figure()\n",
    "plt.plot(history[\"loss\"], color=\"blue\")\n",
    "plt.legend([\"Train Loss\"], loc=\"upper right\")\n",
    "plt.xlabel(\"number of training examples seen\")\n",
    "plt.ylabel(\"mean squared error loss\")"
   ]
  },
  {
   "cell_type": "markdown",
   "id": "caaf4118",
   "metadata": {
    "lines_to_next_cell": 2
   },
   "source": [
    "### Check denoising performance\n",
    "\n",
    "We see that the training loss decreased, but let's apply the model to the test set to see how well it was able to recover the digits from the noisy images."
   ]
  },
  {
   "cell_type": "code",
   "execution_count": null,
   "id": "25fb2480",
   "metadata": {},
   "outputs": [],
   "source": [
    "def apply_denoising(image, model):\n",
    "    # add batch and channel dimensions\n",
    "    image = torch.unsqueeze(torch.unsqueeze(image, 0), 0)\n",
    "    prediction = model(image.to(device))\n",
    "    # remove batch and channel dimensions before returning\n",
    "    return prediction.detach().cpu()[0, 0]"
   ]
  },
  {
   "cell_type": "code",
   "execution_count": null,
   "id": "407b649a",
   "metadata": {},
   "outputs": [],
   "source": [
    "# Displays: ground truth, noisy, and denoised images\n",
    "def visualize_denoising(model, dataset, index):\n",
    "    orig_image = dataset[index][0][0]\n",
    "    noisy_image = add_noise(orig_image)\n",
    "    denoised_image = apply_denoising(noisy_image, model)\n",
    "    plt.subplot(1, 4, 1)\n",
    "    plt.axis(\"off\")\n",
    "    plt.imshow(orig_image, cmap=plt.get_cmap(\"gray\"))\n",
    "    plt.subplot(1, 4, 2)\n",
    "    plt.axis(\"off\")\n",
    "    plt.imshow(noisy_image, cmap=plt.get_cmap(\"gray\"))\n",
    "    plt.subplot(1, 4, 3)\n",
    "    plt.axis(\"off\")\n",
    "    plt.imshow(denoised_image, cmap=plt.get_cmap(\"gray\"))\n",
    "\n",
    "    plt.show()"
   ]
  },
  {
   "cell_type": "markdown",
   "id": "d36a7ee4",
   "metadata": {},
   "source": [
    "We pick 8 images to show:"
   ]
  },
  {
   "cell_type": "code",
   "execution_count": null,
   "id": "e981d1fc",
   "metadata": {},
   "outputs": [],
   "source": [
    "for i in range(8):\n",
    "    visualize_denoising(unet_model, test_dataset, 123 * i)"
   ]
  },
  {
   "cell_type": "markdown",
   "id": "4da73c1e",
   "metadata": {},
   "source": [
    "<div class=\"alert alert-info\"><h4>\n",
    "    Task 5.1: </h4>\n",
    "Did the denoising net trained on MNIST work well on unseen test data? What do you think will happen when\n",
    "we apply it to the Fashion-MNIST data?\n",
    "</div>"
   ]
  },
  {
   "cell_type": "markdown",
   "id": "7f475ea8",
   "metadata": {
    "tags": [
     "solution"
    ]
   },
   "source": [
    "**5.1 Answer:**\n",
    "\n",
    "The denoising MNIST did relatively well considering it extracted images which allows a human to\n",
    "identify a digit when it wasn't necessarily obvious from the noisy image.\n",
    "It has however been trained to look for digits. Applying it to Fashion-MNIST will possibly sucessfully \"remove noise\",\n",
    "but recovering objects that it hasn't seen before may not work as well."
   ]
  },
  {
   "cell_type": "markdown",
   "id": "20d31fa3",
   "metadata": {},
   "source": [
    "### Apply trained model on 'wrong' data\n",
    "\n",
    "Apply the denoising model trained above to some example _noisy_ images derived from the Fashion-MNIST dataset.\n"
   ]
  },
  {
   "cell_type": "markdown",
   "id": "69c4773b",
   "metadata": {},
   "source": [
    "### Load the Fashion MNIST dataset\n",
    "\n",
    "Similar to the regular MNIST, we will use the pytorch FashionMNIST dataset.\n",
    "This was downloaded in the setup.sh script, so here we are just loading it into memory."
   ]
  },
  {
   "cell_type": "code",
   "execution_count": null,
   "id": "55f45705",
   "metadata": {},
   "outputs": [],
   "source": [
    "fm_train_dataset = torchvision.datasets.FashionMNIST(\n",
    "    \"./fashion_mnist\",\n",
    "    train=True,\n",
    "    download=False,\n",
    "    transform=torchvision.transforms.Compose(\n",
    "        [\n",
    "            torchvision.transforms.ToTensor(),\n",
    "            torchvision.transforms.Normalize((0.1307,), (0.3081,)),\n",
    "        ]\n",
    "    ),\n",
    ")\n",
    "\n",
    "fm_test_dataset = torchvision.datasets.FashionMNIST(\n",
    "    \"./fashion_mnist\",\n",
    "    train=False,\n",
    "    download=False,\n",
    "    transform=torchvision.transforms.Compose(\n",
    "        [\n",
    "            torchvision.transforms.ToTensor(),\n",
    "            torchvision.transforms.Normalize((0.1307,), (0.3081,)),\n",
    "        ]\n",
    "    ),\n",
    ")"
   ]
  },
  {
   "cell_type": "markdown",
   "id": "a480af36",
   "metadata": {},
   "source": [
    "Next we apply the denoising model we trained on the MNIST data to FashionMNIST, and visualize the results."
   ]
  },
  {
   "cell_type": "code",
   "execution_count": null,
   "id": "8609ffed",
   "metadata": {},
   "outputs": [],
   "source": [
    "for i in range(8):\n",
    "    visualize_denoising(unet_model, fm_train_dataset, 123 * i)"
   ]
  },
  {
   "cell_type": "markdown",
   "id": "eadf3592",
   "metadata": {},
   "source": [
    "<div class=\"alert alert-info\"><h4>\n",
    "    Task 5.2: </h4>\n",
    "What happened when the MNIST denoising model was applied to the FashionMNIST data? Why do you think the results look as they do?\n",
    "</div>"
   ]
  },
  {
   "cell_type": "markdown",
   "id": "98ea736f",
   "metadata": {
    "tags": [
     "solution"
    ]
   },
   "source": [
    "**5.2 Answer:**\n",
    "\n",
    "The \"noise\" is apparently gone, however, the objects are hardly recognizable.\n",
    "Some look like they have been reshaped like digits in the process."
   ]
  },
  {
   "cell_type": "markdown",
   "id": "bdab1498",
   "metadata": {},
   "source": [
    "<div class=\"alert alert-info\"><h4>\n",
    "    Task 5.3: </h4>\n",
    "Can you imagine any real-world scenarios where a denoising model would change the content of an image?\n",
    "</div>"
   ]
  },
  {
   "cell_type": "markdown",
   "id": "d681929d",
   "metadata": {
    "tags": [
     "solution"
    ]
   },
   "source": [
    "**5.3 Answer:**\n",
    "\n",
    "If a denoising model is trained on data which does not appear in the data it is ultimately used on,\n",
    "that new content will end up likely changed. A real worl example could be that of training a model on lots of non-dividing cells images,\n",
    "and use the model on new data which happens to contain some dividing cells. This could lead to the information being \"denoised\" away."
   ]
  },
  {
   "cell_type": "markdown",
   "id": "a934f79d",
   "metadata": {},
   "source": [
    "### Train the denoiser on both MNIST and FashionMNIST\n",
    "\n",
    "In this section, we will perform the denoiser training once again, but this time on both MNIST and FashionMNIST datasets, and then try to apply the newly trained denoiser to a set of noisy test images."
   ]
  },
  {
   "cell_type": "code",
   "execution_count": null,
   "id": "d26f8873",
   "metadata": {},
   "outputs": [],
   "source": [
    "import torch.optim as optim\n",
    "import torch\n",
    "\n",
    "# Some hyper-parameters:\n",
    "n_epochs = 3\n",
    "batch_size_train = 64\n",
    "batch_size_test = 1000\n",
    "\n",
    "# Dictionary to store loss history:\n",
    "history = {\"loss\": []}\n",
    "\n",
    "# Model:\n",
    "unet_model = UNet(depth=3, in_channels=1, upsample_mode=\"bilinear\")\n",
    "unet_model = unet_model.to(device)\n",
    "\n",
    "# Loss function:\n",
    "criterion = F.mse_loss  # mse_loss\n",
    "\n",
    "# Optimiser:\n",
    "optimizer = optim.Adam(unet_model.parameters(), lr=0.0005)\n",
    "\n",
    "# Train loader:\n",
    "train_loader = torch.utils.data.DataLoader(\n",
    "    torch.utils.data.ConcatDataset([train_dataset, fm_train_dataset]),\n",
    "    batch_size=batch_size_train,\n",
    "    shuffle=False,\n",
    ")\n",
    "\n",
    "# Training loop:\n",
    "for epoch in range(n_epochs):\n",
    "    train_denoising_model(train_loader, unet_model, criterion, optimizer, history)"
   ]
  },
  {
   "cell_type": "code",
   "execution_count": null,
   "id": "e989c929",
   "metadata": {},
   "outputs": [],
   "source": [
    "for i in range(8):\n",
    "    visualize_denoising(unet_model, test_dataset, 123 * i)"
   ]
  },
  {
   "cell_type": "code",
   "execution_count": null,
   "id": "95677803",
   "metadata": {},
   "outputs": [],
   "source": [
    "for i in range(8):\n",
    "    visualize_denoising(unet_model, fm_train_dataset, 123 * i)"
   ]
  },
  {
   "cell_type": "markdown",
   "id": "2013ac7f",
   "metadata": {},
   "source": [
    "<div class=\"alert alert-info\"><h4>\n",
    "    Task 5.4: </h4>\n",
    "How does the new denoiser perform compared to the one from the previous section? Why?\n",
    "</div>"
   ]
  },
  {
   "cell_type": "markdown",
   "id": "5a2e20f8",
   "metadata": {
    "lines_to_next_cell": 0,
    "tags": [
     "solution"
    ]
   },
   "source": [
    "**5.4 Answer:**\n",
    "\n",
    "The new denoiser has been trained on both MNIST and FashionMNIST, and as a result, it no longer insist on reshaping objects from the FashionMNIST dataset into digits. However, it seems to be performing slightly worse on the original MNIST (some of the digits are hardly recognisable).\n",
    "If you look more closely at the code, you'll notice that we haven't shuffled the data in our `DataLoader`. This means that every epoch the model will first train on all of the MNIST data, then on all of the FashinMNIST.\n",
    "The effect that we're seeing here, where it's performing worse of the MNIST data, points to an important lesson: Models Forget!\n",
    "If the model is trained for too long without any MNISt examples, as it is here, it begins to overwrite what it has learned about that data."
   ]
  },
  {
   "cell_type": "markdown",
   "id": "770a9bef",
   "metadata": {},
   "source": [
    "### Train the denoiser on both MNIST and FashionMNIST, shuffling the training data\n",
    "\n",
    "We previously performed the training sequentially on the MNIST data first then followed by the FashionMNIST data. Now, we ask for the training data to be shuffled and observe the impact on performance. (note the `shuffle=True` in the lines below)"
   ]
  },
  {
   "cell_type": "code",
   "execution_count": null,
   "id": "5fdd673f",
   "metadata": {},
   "outputs": [],
   "source": [
    "import torch.optim as optim\n",
    "import torch\n",
    "\n",
    "# Some hyper-parameters:\n",
    "n_epochs = 3\n",
    "batch_size_train = 64\n",
    "batch_size_test = 1000\n",
    "\n",
    "# Dictionary to store loss history:\n",
    "history = {\"loss\": []}\n",
    "\n",
    "# Model:\n",
    "unet_model = UNet(depth=3, in_channels=1, upsample_mode=\"bilinear\")\n",
    "unet_model = unet_model.to(device)\n",
    "\n",
    "# Loss function:\n",
    "criterion = F.mse_loss  # mse_loss\n",
    "\n",
    "# Optimiser:\n",
    "optimizer = optim.Adam(unet_model.parameters(), lr=0.0005)\n",
    "\n",
    "# Train loader:\n",
    "train_loader = torch.utils.data.DataLoader(\n",
    "    torch.utils.data.ConcatDataset([train_dataset, fm_train_dataset]),\n",
    "    batch_size=batch_size_train,\n",
    "    shuffle=True,\n",
    ")  # here we set shuffle = True\n",
    "\n",
    "# Training loop:\n",
    "for epoch in range(n_epochs):\n",
    "    train_denoising_model(train_loader, unet_model, criterion, optimizer, history)"
   ]
  },
  {
   "cell_type": "code",
   "execution_count": null,
   "id": "5ce96db2",
   "metadata": {},
   "outputs": [],
   "source": [
    "for i in range(8):\n",
    "    visualize_denoising(unet_model, test_dataset, 123 * i)"
   ]
  },
  {
   "cell_type": "code",
   "execution_count": null,
   "id": "8f709c43",
   "metadata": {},
   "outputs": [],
   "source": [
    "for i in range(8):\n",
    "    visualize_denoising(unet_model, fm_train_dataset, 123 * i)"
   ]
  },
  {
   "cell_type": "markdown",
   "id": "ba542b41",
   "metadata": {},
   "source": [
    "<div class=\"alert alert-info\"><h4>\n",
    "    Task 5.5: </h4>\n",
    "How does the denoiser trained on shuffled data perform compared to the one trained sequentially on one dataset and then on the other?\n",
    "</div>"
   ]
  },
  {
   "cell_type": "markdown",
   "id": "3aec35dc",
   "metadata": {
    "tags": [
     "solution"
    ]
   },
   "source": [
    "**5.5 Answer:**\n",
    "\n",
    "The denoiser trained on shuffled data performs well accross both MNIST and FashionMNIST, without having any particular issue with either of the two datasets.\n"
   ]
  },
  {
   "cell_type": "markdown",
   "id": "2b04e44d",
   "metadata": {},
   "source": [
    "\n",
    "<div class=\"alert alert-block alert-success\"><h3>\n",
    "    Checkpoint 5</h3>\n",
    "    <ol>\n",
    "        Congrats on reaching the final checkpoint! Let us know on the course chat, and we'll discuss the questions once reaching critical mass.\n",
    "    </ol>\n",
    "</div>"
   ]
  },
  {
   "cell_type": "markdown",
   "id": "caa76002",
   "metadata": {},
   "source": [
    "\n",
    "<div class=\"alert alert-block alert-warning\"><h3>\n",
    "    Bonus Questions</h3>\n",
    "    <ol>\n",
    "        <li>Go back to Part 4 and try another attribution method, such as <a href=\"https://captum.ai/api/saliency.html\">Saliency</a>, and see how the results differ.</li>\n",
    "    </ol>\n",
    "</div>"
   ]
  },
  {
   "cell_type": "markdown",
   "id": "897a6497",
   "metadata": {},
   "source": []
  }
 ],
 "metadata": {
  "jupytext": {
   "cell_metadata_filter": "all",
   "custom_cell_magics": "kql"
  },
  "kernelspec": {
   "display_name": "Python [conda env:06-failure-modes]",
   "language": "python",
   "name": "conda-env-06-failure-modes-py"
  }
 },
 "nbformat": 4,
 "nbformat_minor": 5
}
