{
 "cells": [
  {
   "cell_type": "markdown",
   "id": "bf60882f",
   "metadata": {},
   "source": [
    "# Exercise 7: Failure Modes And Limits of Deep Learning"
   ]
  },
  {
   "cell_type": "markdown",
   "id": "16379354",
   "metadata": {},
   "source": [
    "In the following exercise, we explore the failure modes and limits of neural networks. \n",
    "Neural networks are powerful, but it is important to understand their limits and the predictable reasons that they fail. \n",
    "These exercises illustrate how the content of datasets, especially differences between the training and inference/test datasets, can affect the network's output in unexpected ways.\n",
    "<br></br>\n",
    "While neural networks are generally less interpretable than other types of machine learning, it is still important to investigate the \"internal reasoning\" of the network as much as possible to discover failure modes, or situations in which the network does not perform well. \n",
    "This exercise introduces a tool called Integrated Gradients that helps us makes sense of the network \"attention\". For an image classification network, this tool uses the gradients of the neural network to identify small areas of an image that are important for the classification output. "
   ]
  },
  {
   "cell_type": "markdown",
   "id": "f15756d2",
   "metadata": {},
   "source": [
    "\n",
    "## Overview:\n",
    "In this exercise you will...\n",
    "1. Tamper with an image dataset and introduce additional visual information for some classes. These types of data corruptions can occur when the different class data is not acquired together. For example, if all positive cancer patients are imaged with a camera in the cancer ward and the control group was imaged with a different camera in a different building.\n",
    "\n",
    "2. Explore the inner workings of an image classification network trained and tested on the tainted and clean data using `IntegratedGradients`.\n",
    "\n",
    "3. Explore how denoising networks deal with or struggle with domain changes.\n",
    "\n",
    "*NOTE*: There is very little coding in this exercise, as the goal is for you to think deeply about how neural networks can be influenced by differences in data. We encourage you to think deeply about the questions and discuss them in small groups, as well as with the full class during the frequent checkpoints.\n",
    "\n",
    "<div class=\"alert alert-danger\">\n",
    "Set your python kernel to <code>07-failure-modes</code>\n",
    "</div>"
   ]
  },
  {
   "cell_type": "markdown",
   "id": "b2af2371",
   "metadata": {},
   "source": [
    "### Acknowledgements\n",
    "This notebook was created by Steffen Wolf, Jordao Bragantini, Jan Funke, and Loic Royer. Modified by Tri Nguyen, Igor Zubarev, and Morgan Schwartz for DL@MBL 2022, Caroline Malin-Mayor for DL@MBL 2023, and Anna Foix Romero for DL@MBL 2024."
   ]
  },
  {
   "cell_type": "markdown",
   "id": "a8bc57b1",
   "metadata": {},
   "source": [
    "### Data Loading\n",
    "\n",
    "The following will load the MNIST dataset, which already comes split into a training and testing dataset.\n",
    "The MNIST dataset contains images of handwritten digits 0-9.\n",
    "This data was already downloaded in the setup script.\n",
    "Documentation for this pytorch dataset is available at https://pytorch.org/vision/main/generated/torchvision.datasets.MNIST.html "
   ]
  },
  {
   "cell_type": "code",
   "execution_count": null,
   "id": "2b7cf962",
   "metadata": {},
   "outputs": [],
   "source": [
    "import torchvision\n",
    "\n",
    "train_dataset = torchvision.datasets.MNIST('./mnist', train=True, download=False,\n",
    "                             transform=torchvision.transforms.Compose([\n",
    "                               torchvision.transforms.ToTensor(),\n",
    "                               torchvision.transforms.Normalize(\n",
    "                                 (0.1307,), (0.3081,))\n",
    "                             ]))\n",
    "\n",
    "test_dataset = torchvision.datasets.MNIST('./mnist', train=False, download=False,\n",
    "                             transform=torchvision.transforms.Compose([\n",
    "                               torchvision.transforms.ToTensor(),\n",
    "                               torchvision.transforms.Normalize(\n",
    "                                 (0.1307,), (0.3081,))\n",
    "                             ]))"
   ]
  },
  {
   "cell_type": "markdown",
   "id": "2719178a",
   "metadata": {},
   "source": [
    "### Part 1: Preparation of a Tainted Dataset\n",
    "\n",
    "In this section we will make small changes to specific classes of data in the MNIST dataset. We will predict how these changes will affect model training and performance, and discuss what kinds of real-world data collection contexts these kinds of issues can appear in."
   ]
  },
  {
   "cell_type": "code",
   "execution_count": null,
   "id": "219e93ca",
   "metadata": {},
   "outputs": [],
   "source": [
    "#Imports:\n",
    "import torch\n",
    "import numpy\n",
    "from scipy.ndimage import convolve\n",
    "import copy"
   ]
  },
  {
   "cell_type": "code",
   "execution_count": null,
   "id": "0a668ed4",
   "metadata": {},
   "outputs": [],
   "source": [
    "# Create copies so we do not modify the original datasets:\n",
    "tainted_train_dataset = copy.deepcopy(train_dataset)\n",
    "tainted_test_dataset = copy.deepcopy(test_dataset)"
   ]
  },
  {
   "cell_type": "markdown",
   "id": "a83a6e17",
   "metadata": {},
   "source": [
    "## Part 1.1: Local Corruption of Data\n",
    "\n",
    "First we will add a white pixel in the bottom right of all images of 7's, and visualize the results. This is an example of a local change to the images, where only a small portion of the image is corruped."
   ]
  },
  {
   "cell_type": "code",
   "execution_count": null,
   "id": "9be3b992",
   "metadata": {},
   "outputs": [],
   "source": [
    "# Add a white pixel in the bottom right of all images of 7's\n",
    "tainted_train_dataset.data[train_dataset.targets==7, 25, 25] = 255\n",
    "tainted_test_dataset.data[test_dataset.targets==7, 25, 25] = 255"
   ]
  },
  {
   "cell_type": "code",
   "execution_count": null,
   "id": "d2b14f32",
   "metadata": {},
   "outputs": [],
   "source": [
    "import matplotlib.pyplot as plt\n",
    "\n",
    "plt.subplot(1,4,1)\n",
    "plt.axis('off')\n",
    "plt.imshow(tainted_train_dataset[3][0][0], cmap=plt.get_cmap('gray'))\n",
    "plt.subplot(1,4,2)\n",
    "plt.axis('off')\n",
    "plt.imshow(tainted_train_dataset[23][0][0], cmap=plt.get_cmap('gray'))\n",
    "plt.subplot(1,4,3)\n",
    "plt.axis('off')\n",
    "plt.imshow(tainted_train_dataset[15][0][0], cmap=plt.get_cmap('gray'))\n",
    "plt.subplot(1,4,4)\n",
    "plt.axis('off')\n",
    "plt.imshow(tainted_train_dataset[29][0][0], cmap=plt.get_cmap('gray'))\n",
    "plt.show()"
   ]
  },
  {
   "cell_type": "markdown",
   "id": "7e751131",
   "metadata": {},
   "source": [
    "<div class=\"alert alert-info\"><h4>\n",
    "Task 1.1: </h4>\n",
    "We have locally changed images of 7s artificially for this exercise. What are some examples of ways that images can be corrupted or tainted during real-life data colleciton, for example in a hospital imaging environment or microscopy lab?\n",
    "</div>"
   ]
  },
  {
   "cell_type": "markdown",
   "id": "489dc651",
   "metadata": {
    "tags": [
     "solution"
    ]
   },
   "source": [
    "**1.1 Answer:**\n",
    "\n",
    "In a microscopy lab, sample preparation error such as improper staining or sample contamination or other technical issues such as optical aberations and focus drift can cause image corruption. Environmental factors such as vibrations or lighting variations may also contribute to image corruption. Digital artifacts like compression artifacts or noise, and other issues like operator error (improper manipulation, incorrect magnification...) will also lead to corrupted images.\n",
    "\n",
    "In a hospital imaging environment, motion artifacts (patient movement), technical issue (equipment malfunction, machine calibration errors), environmental factors (electromagnetic interference, temperature fluctuations), operator errors (improper positionning, incorrect settings), biological factors (metal implant, body motion from bodily functions) are all sources of corrupted data. "
   ]
  },
  {
   "cell_type": "markdown",
   "id": "2947bab8",
   "metadata": {
    "tags": [
     "solution"
    ]
   },
   "source": [
    "**1.1 Answer from 2023 Students:**\n",
    "- Different microscopes have signatures - if different classes are collected on different microscopes this can create a local (or global) corruption.\n",
    "- Dirty objective!!!!! (clean your stuff)\n",
    "- Camera signature noise - some cameras generate local corruptions over time if you image for too long without recalibrating\n",
    "- Medical context protocols for imaging changing in different places"
   ]
  },
  {
   "cell_type": "markdown",
   "id": "f777b340",
   "metadata": {},
   "source": [
    "<div class=\"alert alert-info\"><h4>\n",
    "Task 1.2: </h4>\n",
    "In your above examples, if you knew you had a local corruption or difference between images in different classes of your data, could you remove it? How?\n",
    "</div>"
   ]
  },
  {
   "cell_type": "markdown",
   "id": "fe66633b",
   "metadata": {
    "tags": [
     "solution"
    ]
   },
   "source": [
    "**1.2 Answer**\n",
    "\n",
    "We can identify a local corruption by visual inspection, but attempting to remove the corruption on a single sample may not be the best choice. Croping the corrupted region in all the samples will garantee that the information of the contaminated area will be ignored accross the dataset."
   ]
  },
  {
   "cell_type": "markdown",
   "id": "0e89676c",
   "metadata": {
    "tags": [
     "solution"
    ]
   },
   "source": [
    "**1.2 Answer from 2023 Students**\n",
    "- Segment and crop/mask out the corruption. TA Note: This can create new local corruptions :(\n",
    "- Crop the region of interest for all classes\n",
    "- Replace confounders with parts of other regions (again, can create new local corruptions or stitching boundaries)\n",
    "- Background subtraction to level the playing field\n",
    "- Corrupt everything - e.g. if some of your images have a watermark, add the watermark to all images\n",
    "- Percentiles -> outlier removal?\n",
    "- For our 7 example - Make the white square black (carefully - for some images maybe it was white before corruption)\n",
    "- Noise2Void your images\n",
    "- Add more noise!? This generally makes the task harder and prevents the network from relying on any one feature that could be obscured by the noise"
   ]
  },
  {
   "cell_type": "markdown",
   "id": "cadb1a78",
   "metadata": {},
   "source": [
    "## Part 1.2: Global Corrution of data\n",
    "\n",
    "Some data corruption or domain differences cover the whole image, rather than being localized to a specific location. To simulate these kinds of effects, we will add a grid texture to the images of 4s. "
   ]
  },
  {
   "cell_type": "markdown",
   "id": "c39c1e04",
   "metadata": {},
   "source": [
    "You may have noticed that the images are stored as arrays of integers. First we cast them to float to be able to add textures easily without integer wrapping issues."
   ]
  },
  {
   "cell_type": "code",
   "execution_count": null,
   "id": "f7d6187d",
   "metadata": {},
   "outputs": [],
   "source": [
    "# Cast to float\n",
    "tainted_train_dataset.data = tainted_train_dataset.data.type(torch.FloatTensor) \n",
    "tainted_test_dataset.data = tainted_test_dataset.data.type(torch.FloatTensor)"
   ]
  },
  {
   "cell_type": "markdown",
   "id": "2cd5ce3c",
   "metadata": {},
   "source": [
    "Then we create the grid texture and visualize it."
   ]
  },
  {
   "cell_type": "code",
   "execution_count": null,
   "id": "aa227c79",
   "metadata": {},
   "outputs": [],
   "source": [
    "# Create grid texture\n",
    "texture = numpy.zeros(tainted_test_dataset.data.shape[1:])\n",
    "texture[::2,::2] = 80 \n",
    "texture = convolve(texture, weights=[[0.5,1,0.5],[1,0.1,0.5],[1,0.5,0]])\n",
    "texture = torch.from_numpy(texture)\n",
    "\n",
    "plt.axis('off')\n",
    "plt.imshow(texture, cmap=plt.get_cmap('gray'))"
   ]
  },
  {
   "cell_type": "markdown",
   "id": "e8ed9edb",
   "metadata": {},
   "source": [
    "Next we add the texture to all 4s in the train and test set."
   ]
  },
  {
   "cell_type": "code",
   "execution_count": null,
   "id": "d3fa996a",
   "metadata": {},
   "outputs": [],
   "source": [
    "# Adding the texture to all images of 4's:\n",
    "tainted_train_dataset.data[train_dataset.targets==4] += texture\n",
    "tainted_test_dataset.data[test_dataset.targets==4] += texture"
   ]
  },
  {
   "cell_type": "markdown",
   "id": "84d9eb09",
   "metadata": {},
   "source": [
    "After adding the texture, we have to make sure the values are between 0 and 255 and then cast back to uint8. \n",
    "Then we visualize a couple 4s from the dataset to see if the grid texture has been added properly."
   ]
  },
  {
   "cell_type": "code",
   "execution_count": null,
   "id": "3f75d980",
   "metadata": {},
   "outputs": [],
   "source": [
    "# Clamp all images to avoid values above 255 that might occur:\n",
    "tainted_train_dataset.data = torch.clamp(tainted_train_dataset.data, 0, 255)\n",
    "tainted_test_dataset.data  = torch.clamp(tainted_test_dataset.data, 0, 255)\n",
    "\n",
    "# Cast back to byte:\n",
    "tainted_train_dataset.data = tainted_train_dataset.data.type(torch.uint8) \n",
    "tainted_test_dataset.data = tainted_test_dataset.data.type(torch.uint8) "
   ]
  },
  {
   "cell_type": "code",
   "execution_count": null,
   "id": "69fffdfd",
   "metadata": {},
   "outputs": [],
   "source": [
    "# visualize example 4s\n",
    "plt.subplot(1,4,1)\n",
    "plt.axis('off')\n",
    "plt.imshow(tainted_train_dataset[9][0][0], cmap=plt.get_cmap('gray'))\n",
    "plt.subplot(1,4,2)\n",
    "plt.axis('off')\n",
    "plt.imshow(tainted_train_dataset[26][0][0], cmap=plt.get_cmap('gray'))\n",
    "plt.subplot(1,4,3)\n",
    "plt.axis('off')\n",
    "plt.imshow(tainted_train_dataset[20][0][0], cmap=plt.get_cmap('gray'))\n",
    "plt.subplot(1,4,4)\n",
    "plt.axis('off')\n",
    "plt.imshow(tainted_train_dataset[53][0][0], cmap=plt.get_cmap('gray'))\n",
    "plt.show()"
   ]
  },
  {
   "cell_type": "markdown",
   "id": "47d54d19",
   "metadata": {},
   "source": [
    "<div class=\"alert alert-info\"><h4>\n",
    "Task 1.3:</h4>\n",
    "Think of a realistic example of such a corruption that would affect only some classes of data. If you notice the differences between classes, could you remove it? How?\n",
    "</div>"
   ]
  },
  {
   "cell_type": "markdown",
   "id": "8e3d684f",
   "metadata": {
    "tags": [
     "solution"
    ]
   },
   "source": [
    "**1.3 Answer**\n",
    "\n",
    "A first example of such a corruption would be that of data acquisition being performed with a different device for different classes. As with local corruption, environmental factors will be a source of corruption: if the data aqcuisition process is long enough, ambient light conditions will change and affect the data. Similarly, vibrations in the surrounding room may have an impact.\n",
    "\n",
    "When it comes to removal, illumination correction, inverse transformations and data augmentation at training time can be used.\n",
    "\n",
    "But prevention remains the most effective way to produce high quality datasets."
   ]
  },
  {
   "cell_type": "markdown",
   "id": "e0270be2",
   "metadata": {
    "tags": [
     "solution"
    ]
   },
   "source": [
    "**1.3 Answer from 2023 Students**\n",
    "\n",
    "Global Corruptions\n",
    "- Different sample categories on different days:\n",
    "    - vibrations in the microscope room\n",
    "    - changes in ambient light\n",
    "    - other people changing parameters between the days\n",
    "- Different people on the same microscope\n",
    "- Normalization changes across sample categories\n",
    "\n",
    "How to remove\n",
    "- Illumination correction\n",
    "- Inverse transformation on images\n",
    "- Add augmentation at training time to avoid reliance on brightness or other global features\n",
    "\n",
    "Prevention is easer than fixing after generation!\n",
    "- PCA on metadata <3 to help detect such issues\n",
    "- Randomization of data generation (blind yourself to your samples, dont always put certain classes in certain wells, etc)\n",
    "\n",
    "<div class=\"alert alert-info\"><h4>\n",
    "Task 1.4:</h4>\n",
    "Given the changes we made to generate the tainted dataset, do you think a digit classification network trained on the tainted data will converge? Are the classes more or less distinct from each other than in the untainted dataset?\n",
    "</div>"
   ]
  },
  {
   "cell_type": "markdown",
   "id": "1a872f87",
   "metadata": {
    "tags": [
     "solution"
    ]
   },
   "source": [
    "**1.4 Answer:**\n",
    "\n",
    "The digit classification network will converge on the tainted dataset, even more so than with the non-tainted dataset, as the classes are in fact more distinct now than they were prior to tainting. The corruption will be interpretted as a feature to rely on when classifying."
   ]
  },
  {
   "cell_type": "markdown",
   "id": "1e3baa25",
   "metadata": {
    "tags": [
     "solution"
    ]
   },
   "source": [
    "**1.4 Answer from 2023 Students**\n",
    "\n",
    "We learned that the tainted dataset lets the model cheat and take shortcuts on those classes, so it will converge during training! \n",
    "\n",
    "<div class=\"alert alert-success\"><h3>\n",
    "    Checkpoint 1</h3>\n",
    "\n",
    "Post to the course chat when you have reached Checkpoint 1. We will discuss all the questions and make more predictions!\n",
    "</div>\n",
    "\n",
    "<div class=\"alert alert-block alert-warning\"><h3>\n",
    "    Bonus Questions:</h3>\n",
    "    Note that we only added the white dot to the images of 7s and the grid to images of 4s, not all classes.\n",
    "    <ol>\n",
    "        <li> Consider a dataset with white dots on images of all digits: let's call it the <b>all-dots</b> data. How different is this from the original dataset? Are the classes more or less distinct from each other? </li>\n",
    "        <li> How do you think a digit classifier trained on <b>all-dots</b> data and tested on <b>all-dots</b> data would perform? </li>\n",
    "        <li> Now consider the analagous <b>all-grid</b> data with the grid pattern added to all images. Are the classes more or less distinct from each other? Would a digit classifier trained on <b>all-grid</b> converge?</li>\n",
    "    </ol>\n",
    "If you want to test your hypotheses, you can create these all-dots and all-grid train and test datasets and use them for training in bonus questions of the following section.\n",
    "</div>\n",
    "\n",
    "### Part 2: Create and Train an Image Classification Neural Network on Clean and Tainted Data\n",
    "\n",
    "From Part 1, we have a clean dataset and a dataset that has been tainted with effects that simulate local and global effects that could happen in real collection scenarios. Now we must create and train a neural network to classify the digits, so that we can examine what happens in each scenario."
   ]
  },
  {
   "cell_type": "code",
   "execution_count": null,
   "id": "07f10fc2",
   "metadata": {},
   "outputs": [],
   "source": [
    "import torch\n",
    "from classifier.model import DenseModel\n",
    "\n",
    "device = torch.device(\"cuda\" if torch.cuda.is_available() else \"cpu\")\n",
    "\n",
    "print(f'selected torch device: {device}')"
   ]
  },
  {
   "cell_type": "markdown",
   "id": "f3b8a86b",
   "metadata": {},
   "source": [
    "Now we will train the neural network. A training function is provided below - this should be familiar, but make sure you look it over and understand what is happening in the training loop."
   ]
  },
  {
   "cell_type": "code",
   "execution_count": null,
   "id": "8e4ca769",
   "metadata": {
    "lines_to_end_of_cell_marker": 0,
    "lines_to_next_cell": 1
   },
   "outputs": [],
   "source": [
    "from tqdm import tqdm\n",
    "\n",
    "# Training function:\n",
    "def train_mnist(model, train_loader, batch_size, criterion, optimizer, history):\n",
    "    model.train()\n",
    "    pbar = tqdm(total=len(tainted_train_dataset)//batch_size)\n",
    "    for batch_idx, (raw, target) in enumerate(train_loader):\n",
    "        optimizer.zero_grad()\n",
    "        raw = raw.cuda()\n",
    "        target = target.cuda()\n",
    "        output = model(raw)\n",
    "        loss = criterion(output, target)\n",
    "        loss.backward()\n",
    "        optimizer.step()\n",
    "        history.append(loss.item())\n",
    "        pbar.update(1)\n",
    "    return history"
   ]
  },
  {
   "cell_type": "markdown",
   "id": "ad9838d3",
   "metadata": {},
   "source": [
    "We have to choose hyperparameters for our model. We have selected to train for two epochs, with a batch size of 64 for training and 1000 for testing. We are using the cross entropy loss, a standard multi-class classification loss."
   ]
  },
  {
   "cell_type": "code",
   "execution_count": null,
   "id": "e1477944",
   "metadata": {},
   "outputs": [],
   "source": [
    "import torch.optim as optim\n",
    "import torch\n",
    "import torch.nn as nn\n",
    "\n",
    "# Let's set some hyperparameters:\n",
    "n_epochs = 2\n",
    "batch_size_train = 64\n",
    "batch_size_test = 1000\n",
    "\n",
    "# Loss function:\n",
    "criterion = nn.CrossEntropyLoss()"
   ]
  },
  {
   "cell_type": "markdown",
   "id": "ffff9d69",
   "metadata": {},
   "source": [
    "Next we initialize a clean model, and a tainted model. We want to have reproducible results, so we set the initial weights with a specific random seed. The seed number does not matter, just that it is the same!"
   ]
  },
  {
   "cell_type": "code",
   "execution_count": null,
   "id": "b1929164",
   "metadata": {},
   "outputs": [],
   "source": [
    "# Initialize the clean and tainted models\n",
    "model_clean = DenseModel(input_shape=(28, 28), num_classes=10)\n",
    "model_clean = model_clean.to(device)\n",
    "\n",
    "model_tainted = DenseModel(input_shape=(28, 28), num_classes=10)\n",
    "model_tainted = model_tainted.to(device)\n",
    "\n",
    "# Weight initialisation:\n",
    "def init_weights(m):\n",
    "    if isinstance(m, (nn.Linear, nn.Conv2d)):\n",
    "        torch.nn.init.xavier_uniform_(m.weight, )\n",
    "        m.bias.data.fill_(0.01)\n",
    "   \n",
    "# Fixing seed with magical number and setting weights:\n",
    "torch.random.manual_seed(42)\n",
    "model_clean.apply(init_weights)\n",
    "\n",
    "# Fixing seed with magical number and setting weights:\n",
    "torch.random.manual_seed(42)\n",
    "model_tainted.apply(init_weights)"
   ]
  },
  {
   "cell_type": "markdown",
   "id": "770ce064",
   "metadata": {},
   "source": [
    "Next we initialize the clean and tainted dataloaders, again with a specific random seed for reproducibility."
   ]
  },
  {
   "cell_type": "code",
   "execution_count": null,
   "id": "3ca72669",
   "metadata": {},
   "outputs": [],
   "source": [
    "# Initialising dataloaders:\n",
    "train_loader_tainted = torch.utils.data.DataLoader(tainted_train_dataset,\n",
    "  batch_size=batch_size_train, shuffle=True, generator=torch.Generator().manual_seed(42))\n",
    "\n",
    "train_loader = torch.utils.data.DataLoader(train_dataset,\n",
    "  batch_size=batch_size_train, shuffle=True, generator=torch.Generator().manual_seed(42))"
   ]
  },
  {
   "cell_type": "markdown",
   "id": "580c1a7d",
   "metadata": {},
   "source": [
    "Now it is time to train the neural networks! We are storing the training loss history for each model so we can visualize it later."
   ]
  },
  {
   "cell_type": "code",
   "execution_count": null,
   "id": "fa0d050f",
   "metadata": {},
   "outputs": [],
   "source": [
    "# We store history here:\n",
    "history = {\"loss_tainted\": [],\n",
    "           \"loss_clean\": []}\n",
    "\n",
    "# Training loop for clean model:\n",
    "for epoch in range(n_epochs):\n",
    "    train_mnist(model_clean,\n",
    "          train_loader,\n",
    "          batch_size_train,\n",
    "          criterion,\n",
    "          optim.Adam(model_clean.parameters(), lr=0.001),\n",
    "          history[\"loss_clean\"])\n",
    "\n",
    "print('model_clean trained')\n",
    "\n",
    "# Training loop for tainted model:\n",
    "for epoch in range(n_epochs):\n",
    "    train_mnist(model_tainted,\n",
    "          train_loader_tainted,\n",
    "          batch_size_train,\n",
    "          criterion,\n",
    "          optim.Adam(model_tainted.parameters(), lr=0.001),\n",
    "          history[\"loss_tainted\"])\n",
    "\n",
    "print('model_tainted trained')"
   ]
  },
  {
   "cell_type": "markdown",
   "id": "b701961e",
   "metadata": {},
   "source": [
    "Now we visualize the loss history for the clean and tainted models."
   ]
  },
  {
   "cell_type": "code",
   "execution_count": null,
   "id": "d091db4a",
   "metadata": {},
   "outputs": [],
   "source": [
    "# Visualise the loss history:\n",
    "fig = plt.figure()\n",
    "plt.plot(history[\"loss_clean\"], color='blue')\n",
    "plt.plot(history[\"loss_tainted\"], color='red')\n",
    "plt.legend(['Train Loss Clean', \"Train Loss Tainted\"], loc='upper right')\n",
    "plt.xlabel('number of training examples seen')\n",
    "plt.ylabel('negative log likelihood loss')"
   ]
  },
  {
   "cell_type": "markdown",
   "id": "9304d723",
   "metadata": {},
   "source": [
    "<div class=\"alert alert-info\"><h4>\n",
    "Task 2.1:</h4>\n",
    "Why do you think the tainted network has lower training loss than the clean network?\n",
    "</div>"
   ]
  },
  {
   "cell_type": "markdown",
   "id": "9426c3a7",
   "metadata": {
    "tags": [
     "solution"
    ]
   },
   "source": [
    "**2.1 Answer:**\n",
    "\n",
    "As previously mentionned, the classes in the tainted dataset are more distinc from each other than the ones from the non-tainted dataset. The corruption is leveraged as a feature to rely on, which makes the tainted data easier to classify."
   ]
  },
  {
   "cell_type": "markdown",
   "id": "f5f514ca",
   "metadata": {
    "tags": [
     "solution"
    ]
   },
   "source": [
    "**2.1 Answer from 2023 Students:**\n",
    "\n",
    "The extra information from dot and grid is like a shortcut, enabling lower training loss. "
   ]
  },
  {
   "cell_type": "markdown",
   "id": "d44c47c3",
   "metadata": {},
   "source": [
    "<div class=\"alert alert-info\"><h4>\n",
    "Task 2.2:</h4>\n",
    "Do you think the tainted network will be more accurate than the clean network when applied to the <b>tainted</b> test data? Why?\n",
    "</div>"
   ]
  },
  {
   "cell_type": "markdown",
   "id": "db77bad2",
   "metadata": {
    "tags": [
     "solution"
    ]
   },
   "source": [
    "**2.2 Answer:**\n",
    "\n",
    "Yes, the tainted network will be more accurate than the clean  network when applied to the tainted test data as it will leverage the corruption present in that test data, since it trained to do so. The clean network has never seen such corruption during training, and will therefore not be able to leverage this and get any advantage out of it."
   ]
  },
  {
   "cell_type": "markdown",
   "id": "d37379a1",
   "metadata": {
    "tags": [
     "solution"
    ]
   },
   "source": [
    "**2.2 Answer from 2023 Students**\n",
    "\n",
    "Yes. It will use the extra info to be better at 4s and 7s!"
   ]
  },
  {
   "cell_type": "markdown",
   "id": "6bd2da5f",
   "metadata": {},
   "source": [
    "<div class=\"alert alert-info\"><h4>\n",
    "Task 2.3:</h4>\n",
    "Do you think the tainted network will be more accurate than the clean network when applied to the <b>clean</b> test data? Why?\n",
    "</div>"
   ]
  },
  {
   "cell_type": "markdown",
   "id": "e93b4c50",
   "metadata": {
    "tags": [
     "solution"
    ]
   },
   "source": [
    "**2.3 Answer:**\n",
    "\n",
    "The tainted network is relying on grid patterns to detect 4s and on dots in the bottom right corner to detect 7s. Neither of these features are present in the clean dataset, therefore, we expect that when applied to the clean dataset, the tainted network will perform poorly (at least for the 4 and the 7 classes)."
   ]
  },
  {
   "cell_type": "markdown",
   "id": "bac2b6b6",
   "metadata": {
    "tags": [
     "solution"
    ]
   },
   "source": [
    "**2.3 Answer from 2023 Students**\n",
    "\n",
    "No. Out of distribution is the issue. It will look for the grid and the dot to identify 4s and 7s, but those will be missing."
   ]
  },
  {
   "cell_type": "markdown",
   "id": "18264fbf",
   "metadata": {},
   "source": [
    "<div class=\"alert alert-success\"><h3>\n",
    "    Checkpoint 2</h3>\n",
    "\n",
    "Post to the course chat when you have reached Checkpoint 2. We will discuss our predictions!\n",
    "</div>"
   ]
  },
  {
   "cell_type": "markdown",
   "id": "b3b7f9c2",
   "metadata": {},
   "source": [
    "<div class=\"alert alert-block alert-warning\"><h3>\n",
    "    Bonus Questions:</h3>\n",
    "    <ol>\n",
    "        <li>Train a model on the <b>all-grid</b> training dataset from the bonus questions in Part 1. How does the  all-grid training loss compare to the clean and tainted models? Why?</li>\n",
    "        <li> How do you think a digit classifier trained on <b>all-grid</b> data and tested on <b>all-grid</b> data would perform? </li>\n",
    "        <li> What about a digit classifier trained on <b>all-grid</b> data and tested on <b>untainted</b> data? </li>\n",
    "    </ol>\n",
    "</div>"
   ]
  },
  {
   "cell_type": "markdown",
   "id": "b94e2d18",
   "metadata": {},
   "source": [
    "### Part 3: Examining the Results of the Clean and Tainted Networks\n",
    "\n",
    "Now that we have initialized our clean and tainted datasets and trained our models on them, it is time to examine how these models perform on the clean and tainted test sets!\n",
    "\n",
    "We provide a `predict` function below that will return the prediction and ground truth labels given a particualr model and dataset."
   ]
  },
  {
   "cell_type": "code",
   "execution_count": null,
   "id": "8fe58739",
   "metadata": {
    "lines_to_end_of_cell_marker": 0,
    "lines_to_next_cell": 1
   },
   "outputs": [],
   "source": [
    "import numpy as np\n",
    "\n",
    "# predict the test dataset\n",
    "def predict(model, dataset):\n",
    "    dataset_prediction = []\n",
    "    dataset_groundtruth = []\n",
    "    with torch.no_grad():\n",
    "        for x, y_true in dataset:\n",
    "            inp = x[None].cuda()\n",
    "            y_pred = model(inp)\n",
    "            dataset_prediction.append(y_pred.argmax().cpu().numpy())\n",
    "            dataset_groundtruth.append(y_true)\n",
    "    \n",
    "    return np.array(dataset_prediction), np.array(dataset_groundtruth)"
   ]
  },
  {
   "cell_type": "markdown",
   "id": "a73780e7",
   "metadata": {},
   "source": [
    "Now we call the predict method with the clean and tainted models on the clean and tainted datasets."
   ]
  },
  {
   "cell_type": "code",
   "execution_count": null,
   "id": "e243590a",
   "metadata": {},
   "outputs": [],
   "source": [
    "pred_clean_clean, true_labels = predict(model_clean, test_dataset)\n",
    "pred_clean_tainted, _ = predict(model_clean, tainted_test_dataset)\n",
    "pred_tainted_clean, _ = predict(model_tainted, test_dataset)\n",
    "pred_tainted_tainted, _ = predict(model_tainted, tainted_test_dataset)"
   ]
  },
  {
   "cell_type": "markdown",
   "id": "7d7a09bc",
   "metadata": {},
   "source": [
    "We can investivate the results using the confusion matrix, which you should recall from the Introduction to Machine Learning exercise. The function in the cell below will create a nicely annotated confusion matrix."
   ]
  },
  {
   "cell_type": "code",
   "execution_count": null,
   "id": "bb5200ab",
   "metadata": {
    "lines_to_end_of_cell_marker": 0,
    "lines_to_next_cell": 1
   },
   "outputs": [],
   "source": [
    "from sklearn.metrics import confusion_matrix\n",
    "import seaborn as sns\n",
    "import pandas as pd\n",
    "# Plot confusion matrix \n",
    "# orginally from Runqi Yang; \n",
    "# see https://gist.github.com/hitvoice/36cf44689065ca9b927431546381a3f7\n",
    "def cm_analysis(y_true, y_pred, title, figsize=(10,10)):\n",
    "    \"\"\"\n",
    "    Generate matrix plot of confusion matrix with pretty annotations.\n",
    "    The plot image is saved to disk.\n",
    "    args: \n",
    "      y_true:    true label of the data, with shape (nsamples,)\n",
    "      y_pred:    prediction of the data, with shape (nsamples,)\n",
    "      filename:  filename of figure file to save\n",
    "      labels:    string array, name the order of class labels in the confusion matrix.\n",
    "                 use `clf.classes_` if using scikit-learn models.\n",
    "                 with shape (nclass,).\n",
    "      ymap:      dict: any -> string, length == nclass.\n",
    "                 if not None, map the labels & ys to more understandable strings.\n",
    "                 Caution: original y_true, y_pred and labels must align.\n",
    "      figsize:   the size of the figure plotted.\n",
    "    \"\"\"\n",
    "    labels = [\"0\", \"1\", \"2\", \"3\", \"4\", \"5\", \"6\", \"7\", \"8\", \"9\"]\n",
    "    cm = confusion_matrix(y_true, y_pred)\n",
    "    cm_sum = np.sum(cm, axis=1, keepdims=True)\n",
    "    cm_perc = cm / cm_sum.astype(float) * 100\n",
    "    annot = np.empty_like(cm).astype(str)\n",
    "    nrows, ncols = cm.shape\n",
    "    for i in range(nrows):\n",
    "        for j in range(ncols):\n",
    "            c = cm[i, j]\n",
    "            p = cm_perc[i, j]\n",
    "            if i == j:\n",
    "                s = cm_sum[i]\n",
    "                annot[i, j] = '%.1f%%\\n%d/%d' % (p, c, s)\n",
    "            elif c == 0:\n",
    "                annot[i, j] = ''\n",
    "            else:\n",
    "                annot[i, j] = '%.1f%%\\n%d' % (p, c)\n",
    "    cm = pd.DataFrame(cm, index=labels, columns=labels)\n",
    "    cm.index.name = 'Actual'\n",
    "    cm.columns.name = 'Predicted'\n",
    "    fig, ax = plt.subplots(figsize=figsize)\n",
    "    ax=sns.heatmap(cm, annot=annot, fmt='', vmax=30)\n",
    "    ax.set_title(title)"
   ]
  },
  {
   "cell_type": "markdown",
   "id": "53bd4de3",
   "metadata": {},
   "source": [
    "Now we will generate confusion matrices for each model/data combination. Take your time and try and interpret these, and then try and answer the questions below."
   ]
  },
  {
   "cell_type": "code",
   "execution_count": null,
   "id": "25fee912",
   "metadata": {},
   "outputs": [],
   "source": [
    "cm_analysis(true_labels, pred_clean_clean, \"Clean Model on Clean Data\")\n",
    "cm_analysis(true_labels, pred_clean_tainted, \"Clean Model on Tainted Data\")\n",
    "cm_analysis(true_labels, pred_tainted_clean, \"Tainted Model on Clean Data\")\n",
    "cm_analysis(true_labels, pred_tainted_tainted, \"Tainted Model on Tainted Data\")"
   ]
  },
  {
   "cell_type": "markdown",
   "id": "6d0bf6c8",
   "metadata": {},
   "source": [
    "<div class=\"alert alert-info\"><h4>\n",
    "Task 3.1:</h4>\n",
    "For the <b>clean</b> model and the <b>clean</b> dataset, which digit was least accurately predicted? What did the model predict instead? Why do you think these digits were confused by the model?\n",
    "</div>"
   ]
  },
  {
   "cell_type": "markdown",
   "id": "fcd41d7a",
   "metadata": {
    "tags": [
     "solution"
    ]
   },
   "source": [
    "**3.1 Answer:**\n",
    "\n",
    "The clean model on the clean dataset predicted 5s least accuratly, with some confusion with 6s and 3s. These are likely confused by the model as handwritten 5s may look like 6s (almost closed bottom part) or 3s (presence of 3 horizontal segments)."
   ]
  },
  {
   "cell_type": "markdown",
   "id": "81483333",
   "metadata": {
    "tags": [
     "solution"
    ]
   },
   "source": [
    "**3.1 Answer from 2023 Students**\n",
    "\n",
    "5 is the least accurately predicted digit. It is most confused with 6 or 3.\n",
    "Handwriting creates fives that look like sixes or threes. "
   ]
  },
  {
   "cell_type": "markdown",
   "id": "28667681",
   "metadata": {},
   "source": [
    "<div class=\"alert alert-info\"><h4>\n",
    "Task 3.2:</h4>\n",
    "Does the <b>tainted</b> model on the <b>tainted</b> dataset perform better or worse than the <b>clean</b> model on the <b>clean</b> dataset? Which digits is it better or worse on? Why do you think that is the case?\n",
    "</div>"
   ]
  },
  {
   "cell_type": "markdown",
   "id": "10ad6786",
   "metadata": {
    "tags": [
     "solution"
    ]
   },
   "source": [
    "**3.2 Answer**\n",
    "\n",
    "The tainted model on tainted data is generally better than the clean model on clean data. Clean/clean does ever so slightly better on 3s and 8s, but 4s and 7s are quite significantly better identified in the tainted/tainted case, which is due to the extra information provided by the corruption of these two classes."
   ]
  },
  {
   "cell_type": "markdown",
   "id": "f5486c83",
   "metadata": {
    "tags": [
     "solution"
    ]
   },
   "source": [
    "**3.2 Answer from 2023 Students**\n",
    "\n",
    "Tainted WINS because it is better at 4 and 7 ;)"
   ]
  },
  {
   "cell_type": "markdown",
   "id": "0f86d04b",
   "metadata": {},
   "source": [
    "<div class=\"alert alert-info\"><h4>\n",
    "Task 3.3:</h4>\n",
    "For the <b>clean</b> model and the <b>tainted</b> dataset, was the local corruption on the 7s or the global corruption on the 4s harder for the model trained on clean data to deal with? Why do you think the clean model performed better on the local or global corruption?\n",
    "</div>"
   ]
  },
  {
   "cell_type": "markdown",
   "id": "8a5fa897",
   "metadata": {
    "tags": [
     "solution"
    ]
   },
   "source": [
    "**3.3 Answer:**\n",
    "\n",
    "The clean model on the tainted data performed better with the local corruption on the 7s (in fact, better than with the non-corrupted 5s) than it did with the global corruption on the 4s."
   ]
  },
  {
   "cell_type": "markdown",
   "id": "abcdb6e7",
   "metadata": {
    "tags": [
     "solution"
    ]
   },
   "source": [
    "**3.3 Answer from 2023 Students:**\n",
    "\n",
    "Local corruption vs Global corruption: Global corruption WINS (aka is harder)!\n",
    "\n",
    "It is harder to predict on the global corruption because it affects the whole image, and this was never seen in the training. \n",
    "It adds (structured) noise over the entire four."
   ]
  },
  {
   "cell_type": "markdown",
   "id": "f93cc379",
   "metadata": {},
   "source": [
    "<div class=\"alert alert-info\"><h4>\n",
    "Task 3.4:</h4>\n",
    "Did the <b>tainted</b> model perform worse on <b>clean</b> 7s or <b>clean</b> 4s? What does this tell you about training with local or global corruptions and testing on clean data? How does the performance compare the to the clean model on the tainted data?\n",
    "</div>"
   ]
  },
  {
   "cell_type": "markdown",
   "id": "c9410393",
   "metadata": {
    "tags": [
     "solution"
    ]
   },
   "source": [
    "**3.4 Answer:**\n",
    "\n",
    "The tainted model performed poorly on clean 7s and extremely poorly on clean 4s. Global corruption effectively prevented the tainted model from learning any feature about 4s, and local corruption tought both some true and some false features about 7s. Ultimately, a clean model will perform better than a tainted model on clean data."
   ]
  },
  {
   "cell_type": "markdown",
   "id": "818ab1df",
   "metadata": {
    "tags": [
     "solution"
    ]
   },
   "source": [
    "**3.4 Answer from 2023 Students:**\n",
    "\n",
    "Clean 7s vs clean 4s: 4 WINS! (aka is worse)\n",
    "\n",
    "Global corruptions are more detrimental when testing on the clean data. This is because the training images are *more* different from each other. \n",
    "\n",
    "Tainted model on clean data vs clean model on tainted data: Clean model WINS! (is better on tainted data than tained model on clean data) \n",
    "\n",
    "The clean model still has useful signal to work with in the tainted data. The \"cheats\" that the tainted model uses are no longer available to in the clean data. "
   ]
  },
  {
   "cell_type": "markdown",
   "id": "6a9043e3",
   "metadata": {},
   "source": [
    "<div class=\"alert alert-success\"><h3>\n",
    "    Checkpoint 3</h3>\n",
    "\n",
    "Post to the course chat when you have reached Checkpoint 3, and will will discuss our results and reasoning about why they might have happened.\n",
    "</div>"
   ]
  },
  {
   "cell_type": "markdown",
   "id": "9805e508",
   "metadata": {},
   "source": [
    "<div class=\"alert alert-block alert-warning\"><h3>\n",
    "    Bonus Questions:</h3>\n",
    "    <ol>\n",
    "        <li> Run predict with the model trained on the <b>all-grid</b> data using both the clean and all-grid testing data. Then generate the confusion matrices. </li>\n",
    "        <li> How does the <b>all-grid</b> model perform on <b>all-grid</b> data compared to the <b>clean</b> model on <b>clean</b> data? What about the <b>all-grid</b> model on <b>clean</b> data?</li>\n",
    "        <li> In a realistic situation, is it better to have corruption or noise on all your data, or just a subset of the classes? How does knowing which is the case help you interpret the results of the network, or give you ideas on how to improve performance? </li>\n",
    "    </ol>\n",
    "</div>"
   ]
  },
  {
   "cell_type": "markdown",
   "id": "a1e7bb28",
   "metadata": {},
   "source": [
    "### Part 4: Interpretation with Integrated Gradients\n",
    "Perhaps you formed some hypotheses about why the clean and tainted models did better or worse on certain datasets in the previous section. Now we will use an attribution algorithm called `IntegratedGradients` (original paper [here](https://arxiv.org/pdf/1703.01365.pdf)) to learn more about the inner workings of each model. This algorithm analyses a specific image and class, and uses the gradients of the network to find the regions of the image that are most important for the classification. We will learn more about Integrated Gradients and its limitations in the Knowledge Extraction Lecture and Exercise."
   ]
  },
  {
   "cell_type": "markdown",
   "id": "a4b93f7e",
   "metadata": {},
   "source": [
    "\n",
    "Below is a function to apply integrated gradients to a given image, class, and model using the Captum library (API documentation at https://captum.ai/api/integrated_gradients.html).\n"
   ]
  },
  {
   "cell_type": "code",
   "execution_count": null,
   "id": "73941dde",
   "metadata": {
    "lines_to_end_of_cell_marker": 0,
    "lines_to_next_cell": 1
   },
   "outputs": [],
   "source": [
    "from captum.attr import IntegratedGradients\n",
    "\n",
    "def apply_integrated_gradients(test_input, model):\n",
    "    # move the model to cpu\n",
    "    model.cpu()\n",
    "    \n",
    "    # initialize algorithm\n",
    "    algorithm = IntegratedGradients(model)\n",
    "\n",
    "    # clear the gradients from the model\n",
    "    model.zero_grad()\n",
    "\n",
    "    # Get input and target tensors from test_input\n",
    "    input_tensor = test_input[0].unsqueeze(0)\n",
    "    input_tensor.requires_grad = True\n",
    "    target = test_input[1]\n",
    "\n",
    "    # Run attribution:\n",
    "    attributions = algorithm.attribute(\n",
    "        input_tensor,\n",
    "        target=target,\n",
    "        baselines=input_tensor * 0\n",
    "    )\n",
    "\n",
    "    return attributions"
   ]
  },
  {
   "cell_type": "markdown",
   "id": "95ef4039",
   "metadata": {},
   "source": [
    "Next we provide a function to visualize the output of integrated gradients, using the function above to actually run the algorithm."
   ]
  },
  {
   "cell_type": "code",
   "execution_count": null,
   "id": "20b3fb8c",
   "metadata": {
    "lines_to_end_of_cell_marker": 0,
    "lines_to_next_cell": 1
   },
   "outputs": [],
   "source": [
    "from captum.attr import visualization as viz\n",
    "\n",
    "def visualize_integrated_gradients(test_input, model, plot_title):\n",
    "    attr_ig = apply_integrated_gradients(test_input, model)\n",
    "\n",
    "    # Transpose integrated gradients output\n",
    "    attr_ig = np.transpose(attr_ig[0].cpu().detach().numpy(), (1, 2, 0))\n",
    "    \n",
    "    # Transpose and normalize original image:\n",
    "    original_image = np.transpose((test_input[0].detach().numpy() * 0.5) + 0.5, (1, 2, 0))\n",
    "\n",
    "     # This visualises the attribution of labels to pixels\n",
    "    figure, axis = plt.subplots(nrows=1, ncols=2, figsize=(4, 2.5), width_ratios=[1, 1])\n",
    "    viz.visualize_image_attr(attr_ig, \n",
    "                             original_image, \n",
    "                             method=\"blended_heat_map\",\n",
    "                             sign=\"absolute_value\",\n",
    "                             show_colorbar=True, \n",
    "                             title=\"Original and Attribution\",\n",
    "                             plt_fig_axis=(figure, axis[0]),\n",
    "                             use_pyplot=False)\n",
    "    viz.visualize_image_attr(attr_ig, \n",
    "                             original_image, \n",
    "                             method=\"heat_map\",\n",
    "                             sign=\"absolute_value\",\n",
    "                             show_colorbar=True, \n",
    "                             title=\"Attribution Only\",\n",
    "                             plt_fig_axis=(figure, axis[1]),\n",
    "                             use_pyplot=False)\n",
    "    figure.suptitle(plot_title, y=0.95)\n",
    "    plt.tight_layout()"
   ]
  },
  {
   "cell_type": "markdown",
   "id": "a29f075c",
   "metadata": {},
   "source": [
    "To start examining the results, we will call the `visualize_integrated_gradients` with the tainted and clean models on the tainted and clean sevens. \n",
    "\n",
    "The visualization will show the original image plus an overlaid attribution map that generally signifies the importance of each pixel, plus the attribution map only. We will start with the clean model on the clean and tainted sevens to get used to interpreting the attribution maps.\n"
   ]
  },
  {
   "cell_type": "code",
   "execution_count": null,
   "id": "90c24a75",
   "metadata": {},
   "outputs": [],
   "source": [
    "visualize_integrated_gradients(test_dataset[0], model_clean, \"Clean Model on Clean 7\")\n",
    "visualize_integrated_gradients(tainted_test_dataset[0], model_clean, \"Clean Model on Tainted 7\")"
   ]
  },
  {
   "cell_type": "markdown",
   "id": "a95e6ea6",
   "metadata": {},
   "source": [
    "<div class=\"alert alert-info\"><h4>\n",
    "    Task 4.1: Interpereting the Clean Model's Attention on 7s</h4>\n",
    "Where did the <b>clean</b> model focus its attention for the clean and tainted 7s? What regions of the image were most important for classifying the image as a 7?\n",
    "</div>"
   ]
  },
  {
   "cell_type": "markdown",
   "id": "de4648ed",
   "metadata": {
    "tags": [
     "solution"
    ]
   },
   "source": [
    "**4.1 Answer:**\n",
    "\n",
    "The clean model focus its attention to the 7 itself. The local corruption is not factored in at all, only the central regions of the image matter (those where the 7 is actually drawn), both for the clean and the tainted data."
   ]
  },
  {
   "cell_type": "markdown",
   "id": "8aaba99f",
   "metadata": {
    "tags": [
     "solution"
    ]
   },
   "source": [
    "**4.1 Answer from 2023 Students:**\n",
    "\n",
    "The network looks at the center of the 7s, same for clean and tainted 7s.\n",
    "It looks like a 7, it is a 7. :)"
   ]
  },
  {
   "cell_type": "markdown",
   "id": "fb5aa1ee",
   "metadata": {},
   "source": [
    "Now let's look at the attention of the tainted model!"
   ]
  },
  {
   "cell_type": "code",
   "execution_count": null,
   "id": "e9fdb196",
   "metadata": {},
   "outputs": [],
   "source": [
    "visualize_integrated_gradients(tainted_test_dataset[0], model_tainted, \"Tainted Model on Tainted 7\")\n",
    "visualize_integrated_gradients(test_dataset[0], model_tainted, \"Tainted Model on Clean 7\")"
   ]
  },
  {
   "cell_type": "markdown",
   "id": "aded297a",
   "metadata": {},
   "source": [
    "<div class=\"alert alert-info\"><h4>\n",
    "    Task 4.2: Interpereting the Tainted Model's Attention on 7s</h4>\n",
    "Where did the <b>tainted</b> model focus its attention for the clean and tainted 7s? How was this different than the clean model? Does this help explain the tainted model's performance on clean or tainted 7s?\n",
    "</div>"
   ]
  },
  {
   "cell_type": "markdown",
   "id": "1d4266dc",
   "metadata": {
    "tags": [
     "solution"
    ]
   },
   "source": [
    "**4.2 Answer:**\n",
    "\n",
    "The tainted model only focuses on the dot in the tainted 7. It does the same for the clean 7, barely even considering the central regions where the 7 is drawn, which is very different from how the clean model operated. Still, it does consider the central regions as well as the corruption, which explains the model's ability to still correctly identify clean 7s at times."
   ]
  },
  {
   "cell_type": "markdown",
   "id": "0472f7cc",
   "metadata": {
    "tags": [
     "solution"
    ]
   },
   "source": [
    "**4.2 Answer from 2023 Students:**\n",
    "\n",
    "DOT\n",
    "......\n",
    "DOT DOT\n",
    "\n",
    "(It looked at the dot. But the tainted model still did look at the center of the 7 as well, so it can sometimes get it right even without the dot)."
   ]
  },
  {
   "cell_type": "markdown",
   "id": "d34f9b60",
   "metadata": {},
   "source": [
    "Now let's look at the regions of the image that Integrated Gradients highlights as important for classifying fours in the clean and tainted models."
   ]
  },
  {
   "cell_type": "code",
   "execution_count": null,
   "id": "8dd38855",
   "metadata": {},
   "outputs": [],
   "source": [
    "visualize_integrated_gradients(test_dataset[6], model_clean, \"Clean Model on Clean 4\")\n",
    "visualize_integrated_gradients(tainted_test_dataset[6], model_clean, \"Clean Model on Tainted 4\")\n",
    "visualize_integrated_gradients(tainted_test_dataset[6], model_tainted, \"Tainted Model on Tainted 4\")\n",
    "visualize_integrated_gradients(test_dataset[6], model_tainted, \"Tainted Model on Clean 4\")"
   ]
  },
  {
   "cell_type": "markdown",
   "id": "c9aeb142",
   "metadata": {},
   "source": [
    "<div class=\"alert alert-info\"><h4>\n",
    "    Task 4.3: Interpereting the focus on 4s</h4>\n",
    "Where did the <b>tainted</b> model focus its attention for the tainted and clean 4s? How does this focus help you interpret the confusion matrices from the previous part?\n",
    "</div>"
   ]
  },
  {
   "cell_type": "markdown",
   "id": "030272c9",
   "metadata": {
    "tags": [
     "solution"
    ]
   },
   "source": [
    "**4.3 Answer:**\n",
    "\n",
    "Due to the global corruption, the tainted model's attention on tainted 4s is all over the place, but still looking at the dot from the 7s local corruption, meaning that class exclusion is also a mean to classify. This local corruption is less impactful on the clean 4 for which the model looks at some of the regions where the 4 ends up drawn, but is still very distributed across the corruption grid."
   ]
  },
  {
   "cell_type": "markdown",
   "id": "9658dff8",
   "metadata": {
    "tags": [
     "solution"
    ]
   },
   "source": [
    "**4.3 Answer from 2023 Students**\n",
    "\n",
    "- Tainted model is looking at the DOT AGAIN -> predicting a 4 is not just identifying a 4, it's also excluding all the other classes, including the 7. Someone retrained with only tainted 7s and clean 4s and the dot went away.\n",
    "- Other than the dot, it's all over the place on the tainted 4, so probably picking up the grid\n",
    "- On a clean 4, our hypothesis is that it's looking at the grid and has generally high values everywhere and looking at the 4 on top of that.\n",
    "- Also, maybe it just did alright on this particular 4"
   ]
  },
  {
   "cell_type": "markdown",
   "id": "36e5828b",
   "metadata": {},
   "source": [
    "<div class=\"alert alert-info\"><h4>\n",
    "    Task 4.4: Reflecting on Integrated Gradients</h4>\n",
    "Did you find the integrated gradients more useful for the global or local corruptions of the data? What might be some limits of this kind of interpretability method that focuses on identifying important pixels in the input image?\n",
    "</div>"
   ]
  },
  {
   "cell_type": "markdown",
   "id": "38ba9ad8",
   "metadata": {
    "tags": [
     "solution"
    ]
   },
   "source": [
    "**4.4 Answer:**\n",
    "\n",
    "The integrated gradient was more useful identifying the contribution of local corruption. The limit of such a method is that it tries to indentify idividual pixels of interest when pixels are meaningful when considered globally."
   ]
  },
  {
   "cell_type": "markdown",
   "id": "21ec8c22",
   "metadata": {
    "tags": [
     "solution"
    ]
   },
   "source": [
    "**4.4 Answer from 2023 Students**\n",
    "\n",
    "Voting results: 6 LOCAL vs 0 GLOBAL\n",
    "\n",
    "It doesnt really make sense to point at a subset of pixels that are important for detecting global patterns, even for a human - it's basically all the pixels!"
   ]
  },
  {
   "cell_type": "markdown",
   "id": "064672c8",
   "metadata": {},
   "source": [
    "<div class=\"alert alert-block alert-success\"><h3>\n",
    "    Checkpoint 4</h3>\n",
    "    <ol>\n",
    "        Congrats on finishing the intergrated gradients task! Let us know on Element that you reached checkpoint 4, and feel free to look at other interpretability methods in the Captum library if you're interested.\n",
    "    </ol>\n",
    "</div>"
   ]
  },
  {
   "cell_type": "markdown",
   "id": "b65cc2e7",
   "metadata": {},
   "source": [
    "<div class=\"alert alert-block alert-warning\"><h3>\n",
    "    Bonus Questions</h3>\n",
    "    <ol>\n",
    "        <li>Run integrated gradients on the <b>all-grid</b> model and clean and all-grid examples. Did the model learn to ignore the grid pattern for the all-grid test set? What happens when the grid pattern is missing in the clean data? </li>\n",
    "        <li>How do these results help you interpret the confusion matrices? Were your predictions correct about why certain models did better or worse on certain digits?</li>\n",
    "    </ol>\n",
    "</div>"
   ]
  },
  {
   "cell_type": "markdown",
   "id": "5780e4bc",
   "metadata": {},
   "source": [
    "## Part 5: Importance of using the right training data\n",
    "\n",
    "Now we will move on from image classification to denoising, and show why it is particularly important to ensure that your training and test data are from the same distribution for these kinds of networks.\n",
    "\n",
    "For this exercise, we will first train a simple CNN model to denoise MNIST images of digits, and then apply it to the Fashion MNIST to see what happens when the training and inference data are mismatched.\n"
   ]
  },
  {
   "cell_type": "markdown",
   "id": "b7cc9821",
   "metadata": {},
   "source": [
    "First, we will write a function to add noise to the MNIST dataset, so that we can train a model to denoise it."
   ]
  },
  {
   "cell_type": "code",
   "execution_count": null,
   "id": "e0a0f094",
   "metadata": {
    "lines_to_end_of_cell_marker": 0,
    "lines_to_next_cell": 1
   },
   "outputs": [],
   "source": [
    "import torch\n",
    "\n",
    "# A simple function to add noise to tensors:\n",
    "def add_noise(tensor, power=1.5):\n",
    "    return tensor * torch.rand(tensor.size()).to(tensor.device) ** power + 0.75*torch.randn(tensor.size()).to(tensor.device)"
   ]
  },
  {
   "cell_type": "markdown",
   "id": "ed5dd4b4",
   "metadata": {},
   "source": [
    "Next we will visualize a couple MNIST examples with and without noise."
   ]
  },
  {
   "cell_type": "code",
   "execution_count": null,
   "id": "d3d8add5",
   "metadata": {},
   "outputs": [],
   "source": [
    "import matplotlib.pyplot as plt\n",
    "\n",
    "# Let's visualise MNIST images with noise:\n",
    "def show(index):\n",
    "    plt.subplot(1,4,1)\n",
    "    plt.axis('off')\n",
    "    plt.imshow(train_dataset[index][0][0], cmap=plt.get_cmap('gray'))\n",
    "    plt.subplot(1,4,2)\n",
    "    plt.axis('off')\n",
    "    plt.imshow(add_noise(train_dataset[index][0][0]), cmap=plt.get_cmap('gray'))\n",
    "    plt.subplot(1,4,3)\n",
    "    plt.axis('off')\n",
    "    plt.imshow(train_dataset[index+1][0][0], cmap=plt.get_cmap('gray'))\n",
    "    plt.subplot(1,4,4)\n",
    "    plt.axis('off')\n",
    "    plt.imshow(add_noise(train_dataset[index+1][0][0]), cmap=plt.get_cmap('gray'))\n",
    "    plt.show()\n",
    "\n",
    "# We pick 8 images to show:\n",
    "for i in range(8):\n",
    "    show(123*i)"
   ]
  },
  {
   "cell_type": "markdown",
   "id": "a0df181d",
   "metadata": {},
   "source": [
    "### UNet model\n",
    "\n",
    "Let's try denoising with a UNet, \"CARE-style\". As UNets and denoising implementations are not the focus of this exercise, we provide the model for you in the following cell. "
   ]
  },
  {
   "cell_type": "markdown",
   "id": "dca50e72",
   "metadata": {},
   "source": [
    "The training loop code is also provided here. It is similar to the code used to train the image classification model previously, but look it over to make sure there are no surprises."
   ]
  },
  {
   "cell_type": "code",
   "execution_count": null,
   "id": "92ede834",
   "metadata": {
    "lines_to_end_of_cell_marker": 0,
    "lines_to_next_cell": 1
   },
   "outputs": [],
   "source": [
    "from tqdm import tqdm\n",
    "\n",
    "def train_denoising_model(train_loader, model, criterion, optimizer, history):\n",
    "    \n",
    "    # Puts model in 'training' mode:\n",
    "    model.train()\n",
    "    \n",
    "    # Initialises progress bar:\n",
    "    pbar = tqdm(total=len(train_loader.dataset)//batch_size_train)\n",
    "    for batch_idx, (image, target) in enumerate(train_loader):\n",
    "\n",
    "        # add line here during Task 2.2\n",
    "        \n",
    "        # Zeroing gradients:\n",
    "        optimizer.zero_grad()\n",
    "        \n",
    "        # Moves image to GPU memory:\n",
    "        image = image.cuda()\n",
    "        \n",
    "        # Adds noise to make the noisy image:\n",
    "        noisy = add_noise(image)\n",
    "        \n",
    "        # Runs model on noisy image:\n",
    "        output = model(noisy)\n",
    "        \n",
    "        # Computes loss:\n",
    "        loss = criterion(output, image)\n",
    "        \n",
    "        # Backpropagates gradients:\n",
    "        loss.backward()\n",
    "        \n",
    "        # Optimises model parameters given the current gradients:\n",
    "        optimizer.step()\n",
    "        \n",
    "        # appends loss history:\n",
    "        history[\"loss\"].append(loss.item())\n",
    "        \n",
    "        # updates progress bar:\n",
    "        pbar.update(1)\n",
    "    return history"
   ]
  },
  {
   "cell_type": "markdown",
   "id": "209b28c7",
   "metadata": {},
   "source": [
    "Here we choose hyperparameters and initialize the model and data loaders."
   ]
  },
  {
   "cell_type": "code",
   "execution_count": null,
   "id": "17ec01d8",
   "metadata": {},
   "outputs": [],
   "source": [
    "from dlmbl_unet import UNet\n",
    "import torch.optim as optim\n",
    "import torch\n",
    "import torch.nn.functional as F\n",
    "\n",
    "# Some hyper-parameters:\n",
    "n_epochs = 5\n",
    "batch_size_train = 64\n",
    "batch_size_test = 1000\n",
    "\n",
    "# Dictionary to store loss history:\n",
    "history = {\"loss\": []}\n",
    "\n",
    "# Model:\n",
    "unet_model = UNet(depth=3, in_channels=1, upsample_mode='bilinear')\n",
    "unet_model = unet_model.to(device)\n",
    "\n",
    "# Loss function:\n",
    "criterion = F.mse_loss #mse_loss\n",
    "\n",
    "# Optimiser:\n",
    "optimizer = optim.Adam(unet_model.parameters(), lr=0.0005)\n",
    "\n",
    "# Test loader:\n",
    "test_loader = torch.utils.data.DataLoader(test_dataset,\n",
    "  batch_size=batch_size_test, shuffle=True)\n",
    "\n",
    "# Train loader:\n",
    "train_loader = torch.utils.data.DataLoader(train_dataset,\n",
    "  batch_size=batch_size_train, shuffle=True)"
   ]
  },
  {
   "cell_type": "markdown",
   "id": "7bdf6ad4",
   "metadata": {},
   "source": [
    "Finally, we run the training loop!"
   ]
  },
  {
   "cell_type": "code",
   "execution_count": null,
   "id": "5069608b",
   "metadata": {},
   "outputs": [],
   "source": [
    "# Training loop:\n",
    "for epoch in range(n_epochs):\n",
    "    train_denoising_model(train_loader, unet_model, criterion, optimizer, history)"
   ]
  },
  {
   "cell_type": "markdown",
   "id": "1e177ca6",
   "metadata": {},
   "source": [
    "As before, we will visualize the training loss. If all went correctly, it should decrease from around 1.0 to less than 0.2."
   ]
  },
  {
   "cell_type": "code",
   "execution_count": null,
   "id": "45c82696",
   "metadata": {
    "lines_to_next_cell": 1
   },
   "outputs": [],
   "source": [
    "# Loss Visualization\n",
    "fig = plt.figure()\n",
    "plt.plot(history[\"loss\"], color='blue')\n",
    "plt.legend(['Train Loss'], loc='upper right')\n",
    "plt.xlabel('number of training examples seen')\n",
    "plt.ylabel('mean squared error loss')"
   ]
  },
  {
   "cell_type": "markdown",
   "id": "fbbb5fe8",
   "metadata": {},
   "source": [
    "### Check denoising performance\n",
    "\n",
    "We see that the training loss decreased, but let's apply the model to the test set to see how well it was able to recover the digits from the noisy images."
   ]
  },
  {
   "cell_type": "code",
   "execution_count": null,
   "id": "ee51f9f8",
   "metadata": {
    "lines_to_next_cell": 1
   },
   "outputs": [],
   "source": [
    "def apply_denoising(image, model):\n",
    "    # add batch and channel dimensions\n",
    "    image = torch.unsqueeze(torch.unsqueeze(image, 0), 0)\n",
    "    prediction = model(image.cuda())\n",
    "    # remove batch and channel dimensions before returning\n",
    "    return prediction.detach().cpu()[0,0]"
   ]
  },
  {
   "cell_type": "code",
   "execution_count": null,
   "id": "1970324e",
   "metadata": {
    "lines_to_next_cell": 1
   },
   "outputs": [],
   "source": [
    "# Displays: ground truth, noisy, and denoised images\n",
    "def visualize_denoising(model, dataset, index):\n",
    "    orig_image = dataset[index][0][0]\n",
    "    noisy_image = add_noise(orig_image)\n",
    "    denoised_image = apply_denoising(noisy_image, model)\n",
    "    plt.subplot(1,4,1)\n",
    "    plt.axis('off')\n",
    "    plt.imshow(orig_image, cmap=plt.get_cmap('gray'))\n",
    "    plt.subplot(1,4,2)\n",
    "    plt.axis('off')\n",
    "    plt.imshow(noisy_image, cmap=plt.get_cmap('gray'))\n",
    "    plt.subplot(1,4,3)\n",
    "    plt.axis('off')\n",
    "    plt.imshow(denoised_image, cmap=plt.get_cmap('gray'))\n",
    "    \n",
    "    plt.show()"
   ]
  },
  {
   "cell_type": "markdown",
   "id": "9610d944",
   "metadata": {},
   "source": [
    "We pick 8 images to show:"
   ]
  },
  {
   "cell_type": "code",
   "execution_count": null,
   "id": "9480bbe0",
   "metadata": {},
   "outputs": [],
   "source": [
    "for i in range(8):\n",
    "    visualize_denoising(unet_model, test_dataset, 123*i)"
   ]
  },
  {
   "cell_type": "markdown",
   "id": "e94e4844",
   "metadata": {},
   "source": [
    "<div class=\"alert alert-info\"><h4>\n",
    "    Task 5.1: </h4>\n",
    "Did the denoising net trained on MNIST work well on unseen test data? What do you think will happen when we apply it to the Fashion-MNIST data?\n",
    "</div>"
   ]
  },
  {
   "cell_type": "markdown",
   "id": "64cd87b7",
   "metadata": {
    "tags": [
     "solution"
    ]
   },
   "source": [
    "**5.1 Answer:**\n",
    "\n",
    "The denoising MNIST did relatively well considering it extracted images which allows a human to identify a digit when it wasn't necessarily obvious from the noisy image. It has however been trained to look for digits. Applying it to Fashion-MNIST will possibly sucessfully \"remove noise\", but recovering objects that it hasn't seen before may not work as well."
   ]
  },
  {
   "cell_type": "markdown",
   "id": "9c46f9e0",
   "metadata": {
    "tags": [
     "solution"
    ]
   },
   "source": [
    "**5.1 Answer from 2023 Students:**\n",
    "\n",
    "It does decently well, not perfect cause it's lots of noise"
   ]
  },
  {
   "cell_type": "markdown",
   "id": "47f986c6",
   "metadata": {},
   "source": [
    "### Apply trained model on 'wrong' data \n",
    "\n",
    "Apply the denoising model trained above to some example _noisy_ images derived from the Fashion-MNIST dataset.\n"
   ]
  },
  {
   "cell_type": "markdown",
   "id": "e4999bbc",
   "metadata": {},
   "source": [
    "### Load the Fashion MNIST dataset\n",
    "\n",
    "Similar to the regular MNIST, we will use the pytorch FashionMNIST dataset. This was downloaded in the setup.sh script, so here we are just loading it into memory."
   ]
  },
  {
   "cell_type": "code",
   "execution_count": null,
   "id": "7d4d81b8",
   "metadata": {},
   "outputs": [],
   "source": [
    "fm_train_dataset = torchvision.datasets.FashionMNIST('./fashion_mnist', train=True, download=False,\n",
    "                             transform=torchvision.transforms.Compose([\n",
    "                               torchvision.transforms.ToTensor(),\n",
    "                               torchvision.transforms.Normalize(\n",
    "                                 (0.1307,), (0.3081,))\n",
    "                             ]))\n",
    "\n",
    "fm_test_dataset = torchvision.datasets.FashionMNIST('./fashion_mnist', train=False, download=False,\n",
    "                             transform=torchvision.transforms.Compose([\n",
    "                               torchvision.transforms.ToTensor(),\n",
    "                               torchvision.transforms.Normalize(\n",
    "                                 (0.1307,), (0.3081,))\n",
    "                             ]))"
   ]
  },
  {
   "cell_type": "markdown",
   "id": "1fc77452",
   "metadata": {},
   "source": [
    "Next we apply the denoising model we trained on the MNIST data to FashionMNIST, and visualize the results."
   ]
  },
  {
   "cell_type": "code",
   "execution_count": null,
   "id": "9c17a840",
   "metadata": {},
   "outputs": [],
   "source": [
    "for i in range(8):\n",
    "    visualize_denoising(unet_model, fm_train_dataset, 123*i)"
   ]
  },
  {
   "cell_type": "markdown",
   "id": "b0bac410",
   "metadata": {},
   "source": [
    "<div class=\"alert alert-info\"><h4>\n",
    "    Task 5.2: </h4>\n",
    "What happened when the MNIST denoising model was applied to the FashionMNIST data? Why do you think the results look as they do?\n",
    "</div>"
   ]
  },
  {
   "cell_type": "markdown",
   "id": "6183be0e",
   "metadata": {
    "tags": [
     "solution"
    ]
   },
   "source": [
    "**5.2 Answer:**\n",
    "\n",
    "The \"noise\" is apparently gone, however, the objects are hardly recognizable. Some look like they have been reshaped like digits in the process."
   ]
  },
  {
   "cell_type": "markdown",
   "id": "b0744655",
   "metadata": {
    "tags": [
     "solution"
    ]
   },
   "source": [
    "**5.2 Answer from 2023 Students:**\n",
    "\n",
    "BAD! Some of them kind of look like numbers. "
   ]
  },
  {
   "cell_type": "markdown",
   "id": "d448fc30",
   "metadata": {},
   "source": [
    "<div class=\"alert alert-info\"><h4>\n",
    "    Task 5.3: </h4>\n",
    "Can you imagine any real-world scenarios where a denoising model would change the content of an image?\n",
    "</div>"
   ]
  },
  {
   "cell_type": "markdown",
   "id": "c9da045d",
   "metadata": {
    "tags": [
     "solution"
    ]
   },
   "source": [
    "**5.3 Answer:**\n",
    "\n",
    "If a denoising model is trained on data which does not appear in the data it is ultimatly used on, that new content will end up likely changed. A real worl example could be that of training a model on lots of non-dividing cells images, and use the model on new data which happens to contain some dividing cells. This could lead to the information being \"denoised\" away."
   ]
  },
  {
   "cell_type": "markdown",
   "id": "7dd68313",
   "metadata": {
    "tags": [
     "solution"
    ]
   },
   "source": [
    "**5.3 Answer from 2023**\n",
    "\n",
    "- Run on any out of distribution data\n",
    "- Especially tricky if the data appears to be in distribution but has rare events. E.g. if the denoiser was trained on lots of cells that were never dividing and then was run on similar image with dividing cells, it might remove the dividing cell and replace with a single cell."
   ]
  },
  {
   "cell_type": "markdown",
   "id": "d10af7ae",
   "metadata": {},
   "source": [
    "### Train the denoiser on both MNIST and FashionMNIST\n",
    "\n",
    "In this section, we will perform the denoiser training once again, but this time on both MNIST and FashionMNIST datasets, and then try to apply the newly trained denoiser to a set of noisy test images."
   ]
  },
  {
   "cell_type": "code",
   "execution_count": null,
   "id": "5e8f51c7",
   "metadata": {},
   "outputs": [],
   "source": [
    "import torch.optim as optim\n",
    "import torch\n",
    "\n",
    "# Some hyper-parameters:\n",
    "n_epochs = 5\n",
    "batch_size_train = 64\n",
    "batch_size_test = 1000\n",
    "\n",
    "# Dictionary to store loss history:\n",
    "history = {\"loss\": []}\n",
    "\n",
    "# Model:\n",
    "unet_model = UNet(depth=3, in_channels=1, upsample_mode='bilinear')\n",
    "unet_model = unet_model.to(device)\n",
    "\n",
    "# Loss function:\n",
    "criterion = F.mse_loss #mse_loss\n",
    "\n",
    "# Optimiser:\n",
    "optimizer = optim.Adam(unet_model.parameters(), lr=0.0005)\n",
    "\n",
    "# Train loader:\n",
    "train_loader = torch.utils.data.DataLoader(torch.utils.data.ConcatDataset([train_dataset, fm_train_dataset]),\n",
    "  batch_size=batch_size_train, shuffle=False)\n",
    "\n",
    "# Training loop:\n",
    "for epoch in range(n_epochs):\n",
    "    train_denoising_model(train_loader, unet_model, criterion, optimizer, history)"
   ]
  },
  {
   "cell_type": "code",
   "execution_count": null,
   "id": "7340f846",
   "metadata": {},
   "outputs": [],
   "source": [
    "for i in range(8):\n",
    "    visualize_denoising(unet_model, test_dataset, 123*i)"
   ]
  },
  {
   "cell_type": "code",
   "execution_count": null,
   "id": "61a533e4",
   "metadata": {},
   "outputs": [],
   "source": [
    "for i in range(8):\n",
    "    visualize_denoising(unet_model, fm_train_dataset, 123*i)"
   ]
  },
  {
   "cell_type": "markdown",
   "id": "360a7592",
   "metadata": {},
   "source": [
    "<div class=\"alert alert-info\"><h4>\n",
    "    Task 5.4: </h4>\n",
    "How does the new denoiser perform compared to the one from the previous section?\n",
    "</div>"
   ]
  },
  {
   "cell_type": "markdown",
   "id": "509f31e9",
   "metadata": {
    "tags": [
     "solution"
    ]
   },
   "source": [
    "**5.4 Answer:**\n",
    "\n",
    "The new denoiser has been trained on both MNIST and FashionMNIST, and as a result, it no longer insist on reshaping objects from the FashionMNIST dataset into digits. However, it seems to be performing slightly worse on the original MNIST (some of the digits are hardly recognisable).\n",
    "\n",
    "### Train the denoiser on both MNIST and FashionMNIST, shuffling the training data\n",
    "\n",
    "We previously performed the training sequentially on the MNIST data first then followed by the FashionMNIST data. Now, we ask for the training data to be shuffled and observe the impact on performance. (noe the `shuffle=True` in the lines below)"
   ]
  },
  {
   "cell_type": "code",
   "execution_count": null,
   "id": "900f538d",
   "metadata": {},
   "outputs": [],
   "source": [
    "import torch.optim as optim\n",
    "import torch\n",
    "\n",
    "# Some hyper-parameters:\n",
    "n_epochs = 5\n",
    "batch_size_train = 64\n",
    "batch_size_test = 1000\n",
    "\n",
    "# Dictionary to store loss history:\n",
    "history = {\"loss\": []}\n",
    "\n",
    "# Model:\n",
    "unet_model = UNet(depth=3, in_channels=1, upsample_mode='bilinear')\n",
    "unet_model = unet_model.to(device)\n",
    "\n",
    "# Loss function:\n",
    "criterion = F.mse_loss #mse_loss\n",
    "\n",
    "# Optimiser:\n",
    "optimizer = optim.Adam(unet_model.parameters(), lr=0.0005)\n",
    "\n",
    "# Train loader:\n",
    "train_loader = torch.utils.data.DataLoader(torch.utils.data.ConcatDataset([train_dataset, fm_train_dataset]),\n",
    "  batch_size=batch_size_train, shuffle=True) # here we set shuffle = True\n",
    "\n",
    "# Training loop:\n",
    "for epoch in range(n_epochs):\n",
    "    train_denoising_model(train_loader, unet_model, criterion, optimizer, history)"
   ]
  },
  {
   "cell_type": "code",
   "execution_count": null,
   "id": "26dfa520",
   "metadata": {},
   "outputs": [],
   "source": [
    "for i in range(8):\n",
    "    visualize_denoising(unet_model, test_dataset, 123*i)"
   ]
  },
  {
   "cell_type": "code",
   "execution_count": null,
   "id": "98b01dc5",
   "metadata": {},
   "outputs": [],
   "source": [
    "for i in range(8):\n",
    "    visualize_denoising(unet_model, fm_train_dataset, 123*i)"
   ]
  },
  {
   "cell_type": "markdown",
   "id": "0f46240b",
   "metadata": {},
   "source": [
    "<div class=\"alert alert-info\"><h4>\n",
    "    Task 5.5: </h4>\n",
    "How does the denoiser trained on shuffled data perform compared to the one trained sequentially on one dataset and then on the other?\n",
    "</div>"
   ]
  },
  {
   "cell_type": "markdown",
   "id": "37ec8e5b",
   "metadata": {
    "tags": [
     "solution"
    ]
   },
   "source": [
    "**5.5 Answer:**\n",
    "\n",
    "The denoiser trained on shuffled data performs well accross both MNIST and FashionMNIST, without having any particular issue with either of the two datasets.\n",
    "\n",
    "<div class=\"alert alert-block alert-success\"><h3>\n",
    "    Checkpoint 5</h3>\n",
    "    <ol>\n",
    "        Congrats on reaching the final checkpoint! Let us know on Element, and we'll discuss the questions once reaching critical mass.\n",
    "    </ol>\n",
    "</div>\n",
    "\n",
    "<div class=\"alert alert-block alert-warning\"><h3>\n",
    "    Bonus Questions</h3>\n",
    "    <ol>\n",
    "        <li>Try training a FashionMNIST denoising network and applying it to MNIST. Or, try training a denoising network on both datasets and see how it works on each.</li>\n",
    "        <li>Go back to Part 4 and try another attribution method, such as <a href=\"https://captum.ai/api/saliency.html\">Saliency</a>, and see how the results differ.</li>\n",
    "    </ol>\n",
    "</div>"
   ]
  }
 ],
 "metadata": {
  "jupytext": {
   "cell_metadata_filter": "all"
  },
  "kernelspec": {
   "display_name": "Python [conda env:07-failure-modes]",
   "language": "python",
   "name": "conda-env-07-failure-modes-py"
  }
 },
 "nbformat": 4,
 "nbformat_minor": 5
}
