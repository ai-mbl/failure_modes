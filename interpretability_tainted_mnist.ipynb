{
 "cells": [
  {
   "cell_type": "markdown",
   "metadata": {},
   "source": [
    "# Exercise 7: Failure Mode And Limits \n",
    "\n",
    "In the following exercise we explore failure modes and limits of neural networks.\n",
    "Neural networks are very powerfull but it is also important to test these limits.\n",
    "These exercises illustrate ...\n",
    "\n",
    "\n",
    "\n",
    "### Installation:\n",
    "\n",
    "This exercise will use `pytorch`, `torchvision`, `tqdm`, `scipy` and `captum`. We have installed pytorch in previous exercises. Execute the next cell to install those requirements in your current conda environment. This needs to be done only once.\n",
    "\n",
    "### Acknowledgements\n",
    "\n",
    "This notebook was created by Steffen Wolf, Jan Funke, and Loic Royer."
   ]
  },
  {
   "cell_type": "code",
   "execution_count": 1,
   "metadata": {},
   "outputs": [
    {
     "name": "stdout",
     "output_type": "stream",
     "text": [
      "Collecting captum\n",
      "  Downloading captum-0.4.0-py3-none-any.whl (1.4 MB)\n",
      "\u001b[K     |████████████████████████████████| 1.4 MB 4.6 MB/s eta 0:00:01\n",
      "\u001b[?25hRequirement already satisfied: matplotlib in /home/steffenw/.conda/envs/07_failure_modes/lib/python3.9/site-packages (from captum) (3.4.2)\n",
      "Requirement already satisfied: numpy in /home/steffenw/.conda/envs/07_failure_modes/lib/python3.9/site-packages (from captum) (1.20.3)\n",
      "Collecting torch>=1.2\n",
      "  Using cached torch-1.9.1-cp39-cp39-manylinux1_x86_64.whl (831.4 MB)\n",
      "Collecting typing-extensions\n",
      "  Using cached typing_extensions-3.10.0.2-py3-none-any.whl (26 kB)\n",
      "Requirement already satisfied: pillow>=6.2.0 in /home/steffenw/.conda/envs/07_failure_modes/lib/python3.9/site-packages (from matplotlib->captum) (8.3.1)\n",
      "Requirement already satisfied: python-dateutil>=2.7 in /home/steffenw/.conda/envs/07_failure_modes/lib/python3.9/site-packages (from matplotlib->captum) (2.8.2)\n",
      "Requirement already satisfied: cycler>=0.10 in /home/steffenw/.conda/envs/07_failure_modes/lib/python3.9/site-packages (from matplotlib->captum) (0.10.0)\n",
      "Requirement already satisfied: pyparsing>=2.2.1 in /home/steffenw/.conda/envs/07_failure_modes/lib/python3.9/site-packages (from matplotlib->captum) (2.4.7)\n",
      "Requirement already satisfied: kiwisolver>=1.0.1 in /home/steffenw/.conda/envs/07_failure_modes/lib/python3.9/site-packages (from matplotlib->captum) (1.3.1)\n",
      "Requirement already satisfied: six in /home/steffenw/.conda/envs/07_failure_modes/lib/python3.9/site-packages (from cycler>=0.10->matplotlib->captum) (1.16.0)\n",
      "Installing collected packages: typing-extensions, torch, captum\n",
      "Successfully installed captum-0.4.0 torch-1.9.1 typing-extensions-3.10.0.2\n",
      "Collecting torchvision\n",
      "  Downloading torchvision-0.10.1-cp39-cp39-manylinux1_x86_64.whl (22.1 MB)\n",
      "\u001b[K     |████████████████████████████████| 22.1 MB 4.1 MB/s eta 0:00:01\n",
      "\u001b[?25hRequirement already satisfied: pillow>=5.3.0 in /home/steffenw/.conda/envs/07_failure_modes/lib/python3.9/site-packages (from torchvision) (8.3.1)\n",
      "Requirement already satisfied: torch==1.9.1 in /home/steffenw/.conda/envs/07_failure_modes/lib/python3.9/site-packages (from torchvision) (1.9.1)\n",
      "Requirement already satisfied: numpy in /home/steffenw/.conda/envs/07_failure_modes/lib/python3.9/site-packages (from torchvision) (1.20.3)\n",
      "Requirement already satisfied: typing-extensions in /home/steffenw/.conda/envs/07_failure_modes/lib/python3.9/site-packages (from torch==1.9.1->torchvision) (3.10.0.2)\n",
      "Installing collected packages: torchvision\n",
      "Successfully installed torchvision-0.10.1\n",
      "Collecting tqdm\n",
      "  Using cached tqdm-4.62.3-py2.py3-none-any.whl (76 kB)\n",
      "Installing collected packages: tqdm\n",
      "Successfully installed tqdm-4.62.3\n",
      "Collecting scipy\n",
      "  Using cached scipy-1.7.1-cp39-cp39-manylinux_2_5_x86_64.manylinux1_x86_64.whl (28.5 MB)\n",
      "Requirement already satisfied: numpy<1.23.0,>=1.16.5 in /home/steffenw/.conda/envs/07_failure_modes/lib/python3.9/site-packages (from scipy) (1.20.3)\n",
      "Installing collected packages: scipy\n",
      "Successfully installed scipy-1.7.1\n"
     ]
    }
   ],
   "source": [
    "!pip install captum\n",
    "!pip install torchvision\n",
    "!pip install tqdm\n",
    "!pip install scipy"
   ]
  },
  {
   "cell_type": "markdown",
   "metadata": {},
   "source": [
    "### Data Download\n",
    "\n",
    "The following will load the MNIST dataset, which already comes split into a training and testing dataset:"
   ]
  },
  {
   "cell_type": "code",
   "execution_count": null,
   "metadata": {},
   "outputs": [],
   "source": [
    "import torchvision\n",
    "\n",
    "train_dataset = torchvision.datasets.MNIST('~/mnist', train=True, download=True,\n",
    "                             transform=torchvision.transforms.Compose([\n",
    "                               torchvision.transforms.ToTensor(),\n",
    "                               torchvision.transforms.Normalize(\n",
    "                                 (0.1307,), (0.3081,))\n",
    "                             ]))\n",
    "\n",
    "test_dataset = torchvision.datasets.MNIST('~/mnist', train=False, download=True,\n",
    "                             transform=torchvision.transforms.Compose([\n",
    "                               torchvision.transforms.ToTensor(),\n",
    "                               torchvision.transforms.Normalize(\n",
    "                                 (0.1307,), (0.3081,))\n",
    "                             ]))"
   ]
  },
  {
   "cell_type": "markdown",
   "metadata": {},
   "source": [
    "### Preparation of tainted dataset\n",
    "\n",
    "We add 'small' details, unrelated to the digits themselves that will let the models 'cheat'.\n",
    "We expect that the models will focus their atttention on these hints instead of the digits themselves."
   ]
  },
  {
   "cell_type": "code",
   "execution_count": 3,
   "metadata": {},
   "outputs": [],
   "source": [
    "#Imports:\n",
    "import torch\n",
    "import numpy\n",
    "from scipy.ndimage import convolve\n",
    "from pprint import pprint\n",
    "import copy\n",
    "\n",
    "# We do not modify the original datasets:\n",
    "tainted_train_dataset = copy.deepcopy(train_dataset)\n",
    "tainted_test_dataset = copy.deepcopy(test_dataset)\n",
    "\n",
    "# Taint the dataset with a white pixel in the bottom right\n",
    "tainted_train_dataset.data[train_dataset.targets==7, 25, 25] = 255\n",
    "tainted_test_dataset.data[test_dataset.targets==7, 25, 25] = 255\n",
    "\n",
    "# Next, Taint the dataset with a texture applied to the whole image.\n",
    "\n",
    "# Let's cast to float to be able to add textures easily without wrapping issues:\n",
    "tainted_train_dataset.data = tainted_train_dataset.data.type(torch.FloatTensor) \n",
    "tainted_test_dataset.data = tainted_test_dataset.data.type(torch.FloatTensor) \n",
    "\n",
    "# Let's make the texture:\n",
    "texture = numpy.zeros(tainted_test_dataset.data.shape[1:])\n",
    "texture[::2,::2] = 80 \n",
    "texture = convolve(texture, weights=[[0.5,1,0.5],[1,0.1,0.5],[1,0.5,0]])\n",
    "texture = torch.from_numpy(texture)\n",
    "\n",
    "# Adding the texture to all images of 4's:\n",
    "tainted_train_dataset.data[train_dataset.targets==4] += texture\n",
    "tainted_test_dataset.data[test_dataset.targets==4] += texture\n",
    "\n",
    "# Clamp all images to avoid values above 255 that might occur:\n",
    "tainted_train_dataset.data = torch.clamp(tainted_train_dataset.data, 0, 255)\n",
    "tainted_test_dataset.data  = torch.clamp(tainted_test_dataset.data, 0, 255)\n",
    "\n",
    "# Cast back to byte:\n",
    "tainted_train_dataset.data = tainted_train_dataset.data.type(torch.ByteTensor) \n",
    "tainted_test_dataset.data = tainted_test_dataset.data.type(torch.ByteTensor) \n"
   ]
  },
  {
   "cell_type": "markdown",
   "metadata": {},
   "source": [
    "### Visualization of tainted dataset\n",
    "\n",
    "Note that only digits \"7\" and \"4\" have been altered"
   ]
  },
  {
   "cell_type": "code",
   "execution_count": 4,
   "metadata": {},
   "outputs": [
    {
     "data": {
      "image/png": "[encoded data removed]",
      "text/plain": [
       "<Figure size 432x288 with 4 Axes>"
      ]
     },
     "metadata": {
      "needs_background": "light"
     },
     "output_type": "display_data"
    }
   ],
   "source": [
    "import matplotlib.pyplot as plt\n",
    "\n",
    "plt.subplot(1,4,1)\n",
    "plt.imshow(tainted_train_dataset[3][0][0], cmap=plt.get_cmap('gray'))\n",
    "plt.subplot(1,4,2)\n",
    "plt.imshow(tainted_train_dataset[23][0][0], cmap=plt.get_cmap('gray'))\n",
    "plt.subplot(1,4,3)\n",
    "plt.imshow(tainted_train_dataset[15][0][0], cmap=plt.get_cmap('gray'))\n",
    "plt.subplot(1,4,4)\n",
    "plt.imshow(tainted_train_dataset[29][0][0], cmap=plt.get_cmap('gray'))\n",
    "plt.show()"
   ]
  },
  {
   "cell_type": "code",
   "execution_count": 5,
   "metadata": {},
   "outputs": [
    {
     "data": {
      "image/png": "[encoded data removed]",
      "text/plain": [
       "<Figure size 432x288 with 4 Axes>"
      ]
     },
     "metadata": {
      "needs_background": "light"
     },
     "output_type": "display_data"
    }
   ],
   "source": [
    "import matplotlib.pyplot as plt\n",
    "\n",
    "plt.subplot(1,4,1)\n",
    "plt.imshow(tainted_train_dataset[9][0][0], cmap=plt.get_cmap('gray'))\n",
    "plt.subplot(1,4,2)\n",
    "plt.imshow(tainted_train_dataset[26][0][0], cmap=plt.get_cmap('gray'))\n",
    "plt.subplot(1,4,3)\n",
    "plt.imshow(tainted_train_dataset[20][0][0], cmap=plt.get_cmap('gray'))\n",
    "plt.subplot(1,4,4)\n",
    "plt.imshow(tainted_train_dataset[53][0][0], cmap=plt.get_cmap('gray'))\n",
    "plt.show()"
   ]
  },
  {
   "cell_type": "markdown",
   "metadata": {},
   "source": [
    "### Task 0 (Repeat) Implement a Densely Connected Neural Network\n",
    "\n",
    "Create a NN (inherit the model from `nn.Module`) using `pytorch` layers  the following specifications:\n",
    "* First, flatten the input image into a 1d tensor (2d counting the batch dimension)\n",
    "* Add 4 fully connected layer with relu activation and resulting feature maps of size [784, 256, 120, 84, 10]\n",
    "* Do not add a relu activation to the final output layer\n",
    "\n",
    "Name your network `dense_model`."
   ]
  },
  {
   "cell_type": "code",
   "execution_count": 75,
   "metadata": {},
   "outputs": [
    {
     "data": {
      "text/plain": [
       "'\\nImplement your solution here.\\n'"
      ]
     },
     "execution_count": 75,
     "metadata": {},
     "output_type": "execute_result"
    }
   ],
   "source": [
    "\"\"\"\n",
    "Implement your solution here.\n",
    "\"\"\""
   ]
  },
  {
   "cell_type": "markdown",
   "metadata": {},
   "source": [
    "### Solution"
   ]
  },
  {
   "cell_type": "code",
   "execution_count": 6,
   "metadata": {},
   "outputs": [
    {
     "ename": "IndentationError",
     "evalue": "expected an indented block (2458987656.py, line 10)",
     "output_type": "error",
     "traceback": [
      "\u001b[0;36m  File \u001b[0;32m\"/tmp/ipykernel_10791/2458987656.py\"\u001b[0;36m, line \u001b[0;32m10\u001b[0m\n\u001b[0;31m    # apply all layers and return the final output\u001b[0m\n\u001b[0m                                                  ^\u001b[0m\n\u001b[0;31mIndentationError\u001b[0m\u001b[0;31m:\u001b[0m expected an indented block\n"
     ]
    }
   ],
   "source": [
    "import torch.nn as nn\n",
    "import torch.nn.functional as F\n",
    "    \n",
    "class dense_model(nn.Module):\n",
    "    def __init__(self):\n",
    "        super().__init__()\n",
    "        # initialize linear layers here\n",
    "\n",
    "    def forward(self, x):\n",
    "        # apply all layers and return the final output"
   ]
  },
  {
   "cell_type": "code",
   "execution_count": 7,
   "metadata": {
    "scrolled": false
   },
   "outputs": [],
   "source": [
    "#########################\n",
    "# Solution for Task 0   #\n",
    "#########################\n",
    "\n",
    "import torch.nn as nn\n",
    "import torch.nn.functional as F\n",
    "    \n",
    "class dense_model(nn.Module):\n",
    "    def __init__(self):\n",
    "        super().__init__()\n",
    "        self.fc0 = nn.Linear(784, 256)\n",
    "        self.fc1 = nn.Linear(256, 120)\n",
    "        self.fc2 = nn.Linear(120, 84)\n",
    "        self.fc3 = nn.Linear(84, 10)\n",
    "\n",
    "    def forward(self, x):\n",
    "        x = torch.flatten(x, 1) # flatten all dimensions except batch\n",
    "        x = F.relu(self.fc0(x))\n",
    "        x = F.relu(self.fc1(x))\n",
    "        x = F.relu(self.fc2(x))\n",
    "        x = self.fc3(x)\n",
    "        return x\n",
    "\n",
    "class cnn_model(nn.Module):\n",
    "    def __init__(self):\n",
    "        super().__init__()\n",
    "        self.conv1 = nn.Conv2d(1, 6, 5)\n",
    "        self.pool = nn.MaxPool2d(2, 2)\n",
    "        self.conv2 = nn.Conv2d(6, 16, 5)\n",
    "        self.fc1 = nn.Linear(256, 120)\n",
    "        self.fc2 = nn.Linear(120, 84)\n",
    "        self.fc3 = nn.Linear(84, 10)\n",
    "\n",
    "    def forward(self, x):\n",
    "        x = self.pool(F.relu(self.conv1(x)))\n",
    "        x = self.pool(F.relu(self.conv2(x)))\n",
    "        x = torch.flatten(x, 1) # flatten all dimensions except batch\n",
    "        x = F.relu(self.fc1(x))\n",
    "        x = F.relu(self.fc2(x))\n",
    "        x = self.fc3(x)\n",
    "        return x"
   ]
  },
  {
   "cell_type": "markdown",
   "metadata": {},
   "source": [
    "### Train the Network\n",
    "\n",
    "\n"
   ]
  },
  {
   "cell_type": "code",
   "execution_count": 8,
   "metadata": {},
   "outputs": [],
   "source": [
    "from tqdm.notebook import tqdm\n",
    "\n",
    "def train(epoch, model, criterion, optimizer, history):\n",
    "    model.train()\n",
    "    pbar = tqdm(total=len(tainted_train_dataset)//batch_size_train)\n",
    "    for batch_idx, (raw, target) in enumerate(train_loader):\n",
    "        optimizer.zero_grad()\n",
    "        raw = raw.cuda()\n",
    "        target = target.cuda()\n",
    "        output = model(raw)\n",
    "        loss = criterion(output, target)\n",
    "        loss.backward()\n",
    "        optimizer.step()\n",
    "        history[\"loss\"].append(loss.item())\n",
    "        pbar.update(1)\n",
    "    return history"
   ]
  },
  {
   "cell_type": "code",
   "execution_count": 9,
   "metadata": {},
   "outputs": [
    {
     "data": {
      "application/vnd.jupyter.widget-view+json": {
       "model_id": "82f50e27f7114335a2c6ea3f1b1faa89",
       "version_major": 2,
       "version_minor": 0
      },
      "text/plain": [
       "  0%|          | 0/937 [00:00<?, ?it/s]"
      ]
     },
     "metadata": {},
     "output_type": "display_data"
    },
    {
     "data": {
      "application/vnd.jupyter.widget-view+json": {
       "model_id": "80fb46afa8a7434fb1f2960653db23d0",
       "version_major": 2,
       "version_minor": 0
      },
      "text/plain": [
       "  0%|          | 0/937 [00:00<?, ?it/s]"
      ]
     },
     "metadata": {},
     "output_type": "display_data"
    },
    {
     "data": {
      "application/vnd.jupyter.widget-view+json": {
       "model_id": "13175cacb6e64fd49d3c7deb49de8a92",
       "version_major": 2,
       "version_minor": 0
      },
      "text/plain": [
       "  0%|          | 0/937 [00:00<?, ?it/s]"
      ]
     },
     "metadata": {},
     "output_type": "display_data"
    }
   ],
   "source": [
    "import torch.optim as optim\n",
    "import torch\n",
    "\n",
    "n_epochs = 3\n",
    "batch_size_train = 64\n",
    "batch_size_test = 1000\n",
    "\n",
    "history = {\"loss\": []}\n",
    "model = cnn_model().cuda()\n",
    "criterion = nn.CrossEntropyLoss()\n",
    "optimizer = optim.Adam(model.parameters(), lr=0.001)\n",
    "\n",
    "test_loader = torch.utils.data.DataLoader(tainted_test_dataset,\n",
    "  batch_size=batch_size_test, shuffle=True)\n",
    "\n",
    "train_loader = torch.utils.data.DataLoader(tainted_train_dataset,\n",
    "  batch_size=batch_size_train, shuffle=True)\n",
    "\n",
    "for epoch in range(1, n_epochs + 1):\n",
    "    train(epoch, model, criterion, optimizer, history)"
   ]
  },
  {
   "cell_type": "code",
   "execution_count": 10,
   "metadata": {},
   "outputs": [
    {
     "data": {
      "text/plain": [
       "Text(0, 0.5, 'negative log likelihood loss')"
      ]
     },
     "execution_count": 10,
     "metadata": {},
     "output_type": "execute_result"
    },
    {
     "data": {
      "image/png": "[encoded data removed]",
      "text/plain": [
       "<Figure size 432x288 with 1 Axes>"
      ]
     },
     "metadata": {
      "needs_background": "light"
     },
     "output_type": "display_data"
    }
   ],
   "source": [
    "fig = plt.figure()\n",
    "plt.plot(history[\"loss\"], color='blue')\n",
    "plt.legend(['Train Loss'], loc='upper right')\n",
    "plt.xlabel('number of training examples seen')\n",
    "plt.ylabel('negative log likelihood loss')"
   ]
  },
  {
   "cell_type": "markdown",
   "metadata": {},
   "source": [
    "### Task 1 Interpret the trained classifier\n",
    "\n",
    "We can now investigate how the trained classifier makes it's descisions. We use an attribution algorithms (i.e. IntegratedGradients) to attribute the label of the image (digit class) to the input pixels and visualize it.\n",
    "\n",
    "* Familiarize yourself with the captum library by reading [this useful tutorial](https://captum.ai/tutorials/CIFAR_TorchVision_Interpret)\n",
    "* Visualize the `IntegratedGradients` of out trained classifier for an example image of a \"7\" digit\n",
    "* Visualize the `IntegratedGradients` of out trained classifier for an example image of a \"1\" digit\n",
    "* Visualize the `IntegratedGradients` of out trained classifier for an example image of a \"4\" digit"
   ]
  },
  {
   "cell_type": "code",
   "execution_count": 75,
   "metadata": {},
   "outputs": [
    {
     "data": {
      "text/plain": [
       "'\\nImplement your solution here.\\n'"
      ]
     },
     "execution_count": 75,
     "metadata": {},
     "output_type": "execute_result"
    }
   ],
   "source": [
    "\"\"\"\n",
    "Implement your solution here.\n",
    "\"\"\""
   ]
  },
  {
   "cell_type": "markdown",
   "metadata": {},
   "source": [
    "### Solution"
   ]
  },
  {
   "cell_type": "code",
   "execution_count": 11,
   "metadata": {},
   "outputs": [
    {
     "data": {
      "image/png": "[encoded data removed]",
      "text/plain": [
       "<Figure size 432x432 with 2 Axes>"
      ]
     },
     "metadata": {
      "needs_background": "light"
     },
     "output_type": "display_data"
    },
    {
     "data": {
      "image/png": "[encoded data removed]",
      "text/plain": [
       "<Figure size 432x432 with 2 Axes>"
      ]
     },
     "metadata": {
      "needs_background": "light"
     },
     "output_type": "display_data"
    },
    {
     "data": {
      "image/png": "[encoded data removed]",
      "text/plain": [
       "<Figure size 432x432 with 2 Axes>"
      ]
     },
     "metadata": {
      "needs_background": "light"
     },
     "output_type": "display_data"
    }
   ],
   "source": [
    "from captum.attr import IntegratedGradients\n",
    "from captum.attr import DeepLift\n",
    "from captum.attr import NoiseTunnel\n",
    "from captum.attr import visualization as viz\n",
    "import numpy as np\n",
    "\n",
    "def visualize_ig(idx, \n",
    "                 _train_dataset=tainted_train_dataset, \n",
    "                 _test_dataset=tainted_test_dataset):\n",
    "    \n",
    "    # Get corresponding input and target tensors:\n",
    "    input_tensor = _test_dataset[idx][0].unsqueeze(0)\n",
    "    input_tensor.requires_grad = True\n",
    "    target = _test_dataset[idx][1]\n",
    "    \n",
    "    # We will use the IntegratedGradients algorithm:\n",
    "    algorithm = IntegratedGradients(model.cpu())\n",
    "    \n",
    "    # First we clear the gradients from the model:\n",
    "    model.zero_grad()\n",
    "    \n",
    "    # Run attribution:\n",
    "    attr_ig, delta = algorithm.attribute(input_tensor,\n",
    "                                          target=target,\n",
    "                                          baselines=input_tensor * 0,\n",
    "                                          return_convergence_delta=True\n",
    "                                             )\n",
    "    \n",
    "    \n",
    "    # Integrated Gradients:\n",
    "    attr_ig = np.transpose(attr_ig[0].cpu().detach().numpy(), (1, 2, 0))\n",
    "    \n",
    "    # Original image:\n",
    "    original_image = np.transpose((_test_dataset[idx][0].detach().numpy() * 0.5) + 0.5, (1, 2, 0))\n",
    "\n",
    "    # This visualises the attribution of labels to \n",
    "    viz.visualize_image_attr(attr_ig, \n",
    "                             original_image, \n",
    "                             method=\"blended_heat_map\",\n",
    "                             sign=\"all\",\n",
    "                             show_colorbar=True, \n",
    "                             title=\"Overlayed Integrated Gradients\")\n",
    "    \n",
    "visualize_ig(0)\n",
    "visualize_ig(2)\n",
    "visualize_ig(4)"
   ]
  },
  {
   "cell_type": "markdown",
   "metadata": {},
   "source": [
    "__________________________________________________________________________________________________________________"
   ]
  },
  {
   "cell_type": "markdown",
   "metadata": {},
   "source": [
    "### Importance of using the right training data\n",
    "\n",
    "Using the right training data is key, In the following exercise we train a simple CNN model to denoise images in a supervised fashion, and see what happens when we use mismatched trining data\n",
    "\n",
    "The following will load the Fashion-MNIST dataset, which already comes split into a training and testing dataset:"
   ]
  },
  {
   "cell_type": "code",
   "execution_count": 12,
   "metadata": {},
   "outputs": [],
   "source": [
    "import torch\n",
    "def add_noise(tensor, power=1.5):\n",
    "    return tensor * torch.rand(tensor.size()).to(tensor.device) ** power + 0.75*torch.randn(tensor.size()).to(tensor.device)\n"
   ]
  },
  {
   "cell_type": "markdown",
   "metadata": {},
   "source": [
    "### Visualization of MNIST dataset with and without noise\n"
   ]
  },
  {
   "cell_type": "code",
   "execution_count": 14,
   "metadata": {},
   "outputs": [
    {
     "data": {
      "image/png": "[encoded data removed]",
      "text/plain": [
       "<Figure size 432x288 with 4 Axes>"
      ]
     },
     "metadata": {
      "needs_background": "light"
     },
     "output_type": "display_data"
    }
   ],
   "source": [
    "import matplotlib.pyplot as plt\n",
    "\n",
    "\n",
    "plt.subplot(1,4,1)\n",
    "plt.imshow(train_dataset[15][0][0], cmap=plt.get_cmap('gray'))\n",
    "plt.subplot(1,4,2)\n",
    "plt.imshow(train_dataset[17][0][0], cmap=plt.get_cmap('gray'))\n",
    "plt.subplot(1,4,3)\n",
    "plt.imshow(add_noise(train_dataset[15][0][0]), cmap=plt.get_cmap('gray'))\n",
    "plt.subplot(1,4,4)\n",
    "plt.imshow(add_noise(train_dataset[17][0][0]), cmap=plt.get_cmap('gray'))\n",
    "plt.show()"
   ]
  },
  {
   "cell_type": "markdown",
   "metadata": {},
   "source": [
    "### What happens if we apply on a different dataset?\n",
    "\n",
    "Let's download the Fashion-MNIST dataset so we can see what happens when we mix and match..."
   ]
  },
  {
   "cell_type": "code",
   "execution_count": 15,
   "metadata": {},
   "outputs": [
    {
     "name": "stdout",
     "output_type": "stream",
     "text": [
      "Downloading http://fashion-mnist.s3-website.eu-central-1.amazonaws.com/train-images-idx3-ubyte.gz\n",
      "Downloading http://fashion-mnist.s3-website.eu-central-1.amazonaws.com/train-images-idx3-ubyte.gz to /home/steffenw/mnist/FashionMNIST/raw/train-images-idx3-ubyte.gz\n"
     ]
    },
    {
     "data": {
      "application/vnd.jupyter.widget-view+json": {
       "model_id": "d96a425ce8984ffa958e6ed0fe46ce49",
       "version_major": 2,
       "version_minor": 0
      },
      "text/plain": [
       "  0%|          | 0/26421880 [00:00<?, ?it/s]"
      ]
     },
     "metadata": {},
     "output_type": "display_data"
    },
    {
     "name": "stdout",
     "output_type": "stream",
     "text": [
      "Extracting /home/steffenw/mnist/FashionMNIST/raw/train-images-idx3-ubyte.gz to /home/steffenw/mnist/FashionMNIST/raw\n",
      "\n",
      "Downloading http://fashion-mnist.s3-website.eu-central-1.amazonaws.com/train-labels-idx1-ubyte.gz\n",
      "Downloading http://fashion-mnist.s3-website.eu-central-1.amazonaws.com/train-labels-idx1-ubyte.gz to /home/steffenw/mnist/FashionMNIST/raw/train-labels-idx1-ubyte.gz\n"
     ]
    },
    {
     "data": {
      "application/vnd.jupyter.widget-view+json": {
       "model_id": "0e884bfe78794c4ebe950d0b3b81d373",
       "version_major": 2,
       "version_minor": 0
      },
      "text/plain": [
       "  0%|          | 0/29515 [00:00<?, ?it/s]"
      ]
     },
     "metadata": {},
     "output_type": "display_data"
    },
    {
     "name": "stdout",
     "output_type": "stream",
     "text": [
      "Extracting /home/steffenw/mnist/FashionMNIST/raw/train-labels-idx1-ubyte.gz to /home/steffenw/mnist/FashionMNIST/raw\n",
      "\n",
      "Downloading http://fashion-mnist.s3-website.eu-central-1.amazonaws.com/t10k-images-idx3-ubyte.gz\n",
      "Downloading http://fashion-mnist.s3-website.eu-central-1.amazonaws.com/t10k-images-idx3-ubyte.gz to /home/steffenw/mnist/FashionMNIST/raw/t10k-images-idx3-ubyte.gz\n"
     ]
    },
    {
     "data": {
      "application/vnd.jupyter.widget-view+json": {
       "model_id": "c31420b20b8b45f9bf86cab270cb0f01",
       "version_major": 2,
       "version_minor": 0
      },
      "text/plain": [
       "  0%|          | 0/4422102 [00:00<?, ?it/s]"
      ]
     },
     "metadata": {},
     "output_type": "display_data"
    },
    {
     "name": "stdout",
     "output_type": "stream",
     "text": [
      "Extracting /home/steffenw/mnist/FashionMNIST/raw/t10k-images-idx3-ubyte.gz to /home/steffenw/mnist/FashionMNIST/raw\n",
      "\n",
      "Downloading http://fashion-mnist.s3-website.eu-central-1.amazonaws.com/t10k-labels-idx1-ubyte.gz\n",
      "Downloading http://fashion-mnist.s3-website.eu-central-1.amazonaws.com/t10k-labels-idx1-ubyte.gz to /home/steffenw/mnist/FashionMNIST/raw/t10k-labels-idx1-ubyte.gz\n"
     ]
    },
    {
     "data": {
      "application/vnd.jupyter.widget-view+json": {
       "model_id": "939f673cb8234a13b17ba1634e78d2ff",
       "version_major": 2,
       "version_minor": 0
      },
      "text/plain": [
       "  0%|          | 0/5148 [00:00<?, ?it/s]"
      ]
     },
     "metadata": {},
     "output_type": "display_data"
    },
    {
     "name": "stdout",
     "output_type": "stream",
     "text": [
      "Extracting /home/steffenw/mnist/FashionMNIST/raw/t10k-labels-idx1-ubyte.gz to /home/steffenw/mnist/FashionMNIST/raw\n",
      "\n"
     ]
    }
   ],
   "source": [
    "import torchvision\n",
    "fm_train_dataset = torchvision.datasets.FashionMNIST('~/mnist', train=True, download=True,\n",
    "                             transform=torchvision.transforms.Compose([\n",
    "                               torchvision.transforms.ToTensor(),\n",
    "                               torchvision.transforms.Normalize(\n",
    "                                 (0.1307,), (0.3081,))\n",
    "                             ]))\n",
    "\n",
    "fm_test_dataset = torchvision.datasets.FashionMNIST('~/mnist', train=False, download=True,\n",
    "                             transform=torchvision.transforms.Compose([\n",
    "                               torchvision.transforms.ToTensor(),\n",
    "                               torchvision.transforms.Normalize(\n",
    "                                 (0.1307,), (0.3081,))\n",
    "                             ]))\n"
   ]
  },
  {
   "cell_type": "markdown",
   "metadata": {},
   "source": [
    "### Simple CNN model\n",
    "Let's try a very very simple CNN model that is just made of 4 convolutional layers with relu activations in between:"
   ]
  },
  {
   "cell_type": "code",
   "execution_count": 16,
   "metadata": {},
   "outputs": [],
   "source": [
    "import torch.nn as nn\n",
    "import torch.nn.functional as F\n",
    "\n",
    "class SimpleCNN(nn.Module):\n",
    "    def __init__(self):\n",
    "        super().__init__()\n",
    "        self.conv1 = nn.Conv2d(1, 8, 5, padding='same')\n",
    "        self.conv2 = nn.Conv2d(8, 8, 5, padding='same')\n",
    "        self.conv3 = nn.Conv2d(8, 8, 5, padding='same')\n",
    "        self.conv4 = nn.Conv2d(8, 8, 5, padding='same')\n",
    "        self.conv5 = nn.Conv2d(8, 8, 5, padding='same')\n",
    "        self.conv6 = nn.Conv2d(8, 1, 5, padding='same')\n",
    "\n",
    "    def forward(self, x):\n",
    "        x1 = F.relu(self.conv1(x))\n",
    "        x2 = F.relu(self.conv2(x1))\n",
    "        x3 = F.relu(self.conv3(x2))\n",
    "        x4 = F.relu(self.conv4(x3))\n",
    "        x5 = F.relu(self.conv5(x4))\n",
    "        x6 = F.relu(self.conv6(x5))\n",
    "        return x6\n",
    "  "
   ]
  },
  {
   "cell_type": "markdown",
   "metadata": {},
   "source": [
    "### More advanced UNet model"
   ]
  },
  {
   "cell_type": "code",
   "execution_count": 21,
   "metadata": {},
   "outputs": [],
   "source": [
    "# Adapted from https://discuss.pytorch.org/t/unet-implementation/426\n",
    "\n",
    "import torch\n",
    "from torch import nn\n",
    "import torch.nn.functional as F\n",
    "\n",
    "\n",
    "class UNet(nn.Module):\n",
    "    def __init__(\n",
    "        self,\n",
    "        in_channels=1,\n",
    "        n_classes=1,\n",
    "        depth=3,\n",
    "        wf=4,\n",
    "        padding=True,\n",
    "        batch_norm=False,\n",
    "        up_mode='upsample',\n",
    "    ):\n",
    "        \"\"\"\n",
    "        Implementation of\n",
    "        U-Net: Convolutional Networks for Biomedical Image Segmentation\n",
    "        (Ronneberger et al., 2015)\n",
    "        https://arxiv.org/abs/1505.04597\n",
    "        Using the default arguments will yield the exact version used\n",
    "        in the original paper\n",
    "        Args:\n",
    "            in_channels (int): number of input channels\n",
    "            n_classes (int): number of output channels\n",
    "            depth (int): depth of the network\n",
    "            wf (int): number of filters in the first layer is 2**wf\n",
    "            padding (bool): if True, apply padding such that the input shape\n",
    "                            is the same as the output.\n",
    "                            This may introduce artifacts\n",
    "            batch_norm (bool): Use BatchNorm after layers with an\n",
    "                               activation function\n",
    "            up_mode (str): one of 'upconv' or 'upsample'.\n",
    "                           'upconv' will use transposed convolutions for\n",
    "                           learned upsampling.\n",
    "                           'upsample' will use bilinear upsampling.\n",
    "        \"\"\"\n",
    "        super(UNet, self).__init__()\n",
    "        assert up_mode in ('upconv', 'upsample')\n",
    "        self.padding = padding\n",
    "        self.depth = depth\n",
    "        prev_channels = in_channels\n",
    "        self.down_path = nn.ModuleList()\n",
    "        for i in range(depth):\n",
    "            self.down_path.append(\n",
    "                UNetConvBlock(prev_channels, 2 ** (wf + i), padding, batch_norm)\n",
    "            )\n",
    "            prev_channels = 2 ** (wf + i)\n",
    "\n",
    "        self.up_path = nn.ModuleList()\n",
    "        for i in reversed(range(depth - 1)):\n",
    "            self.up_path.append(\n",
    "                UNetUpBlock(prev_channels, 2 ** (wf + i), up_mode, padding, batch_norm)\n",
    "            )\n",
    "            prev_channels = 2 ** (wf + i)\n",
    "\n",
    "        self.last = nn.Conv2d(prev_channels, n_classes, kernel_size=1)\n",
    "\n",
    "    def forward(self, x):\n",
    "        blocks = []\n",
    "        for i, down in enumerate(self.down_path):\n",
    "            x = down(x)\n",
    "            if i != len(self.down_path) - 1:\n",
    "                blocks.append(x)\n",
    "                x = F.max_pool2d(x, 2)\n",
    "\n",
    "        for i, up in enumerate(self.up_path):\n",
    "            x = up(x, blocks[-i - 1])\n",
    "\n",
    "        return self.last(x)\n",
    "\n",
    "\n",
    "class UNetConvBlock(nn.Module):\n",
    "    def __init__(self, in_size, out_size, padding, batch_norm):\n",
    "        super(UNetConvBlock, self).__init__()\n",
    "        block = []\n",
    "\n",
    "        block.append(nn.Conv2d(in_size, out_size, kernel_size=3, padding=int(padding)))\n",
    "        block.append(nn.ReLU())\n",
    "        if batch_norm:\n",
    "            block.append(nn.BatchNorm2d(out_size))\n",
    "\n",
    "        block.append(nn.Conv2d(out_size, out_size, kernel_size=3, padding=int(padding)))\n",
    "        block.append(nn.ReLU())\n",
    "        if batch_norm:\n",
    "            block.append(nn.BatchNorm2d(out_size))\n",
    "\n",
    "        self.block = nn.Sequential(*block)\n",
    "\n",
    "    def forward(self, x):\n",
    "        out = self.block(x)\n",
    "        return out\n",
    "\n",
    "\n",
    "class UNetUpBlock(nn.Module):\n",
    "    def __init__(self, in_size, out_size, up_mode, padding, batch_norm):\n",
    "        super(UNetUpBlock, self).__init__()\n",
    "        if up_mode == 'upconv':\n",
    "            self.up = nn.ConvTranspose2d(in_size, out_size, kernel_size=2, stride=2)\n",
    "        elif up_mode == 'upsample':\n",
    "            self.up = nn.Sequential(\n",
    "                nn.Upsample(mode='bilinear', scale_factor=2),\n",
    "                nn.Conv2d(in_size, out_size, kernel_size=1),\n",
    "            )\n",
    "\n",
    "        self.conv_block = UNetConvBlock(in_size, out_size, padding, batch_norm)\n",
    "\n",
    "    def center_crop(self, layer, target_size):\n",
    "        _, _, layer_height, layer_width = layer.size()\n",
    "        diff_y = (layer_height - target_size[0]) // 2\n",
    "        diff_x = (layer_width - target_size[1]) // 2\n",
    "        return layer[\n",
    "            :, :, diff_y : (diff_y + target_size[0]), diff_x : (diff_x + target_size[1])\n",
    "        ]\n",
    "\n",
    "    def forward(self, x, bridge):\n",
    "        up = self.up(x)\n",
    "        crop1 = self.center_crop(bridge, up.shape[2:])\n",
    "        out = torch.cat([up, crop1], 1)\n",
    "        out = self.conv_block(out)\n",
    "\n",
    "        return out"
   ]
  },
  {
   "cell_type": "markdown",
   "metadata": {},
   "source": [
    "### Training loop"
   ]
  },
  {
   "cell_type": "code",
   "execution_count": 27,
   "metadata": {},
   "outputs": [],
   "source": [
    "from tqdm.notebook import tqdm\n",
    "\n",
    "def train(epoch, dataset, model, criterion, optimizer, history, selection):\n",
    "    model.train()\n",
    "    pbar = tqdm(total=len(dataset)//batch_size_train)\n",
    "    for batch_idx, (image, target) in enumerate(train_loader):\n",
    "\n",
    "        # add line here during Task 2.1\n",
    "\n",
    "        optimizer.zero_grad()\n",
    "        image = image.cuda()\n",
    "        noisy = add_noise(image)\n",
    "        output = model(noisy)\n",
    "        loss = criterion(output, image)\n",
    "        loss.backward()\n",
    "        optimizer.step()\n",
    "        history[\"loss\"].append(loss.item())\n",
    "        pbar.update(1)\n",
    "    return history"
   ]
  },
  {
   "cell_type": "code",
   "execution_count": null,
   "metadata": {},
   "outputs": [],
   "source": [
    "import torch.optim as optim\n",
    "import torch\n",
    "\n",
    "n_epochs = 5\n",
    "batch_size_train = 64\n",
    "batch_size_test = 1000\n",
    "\n",
    "history = {\"loss\": []}\n",
    "\n",
    "#model = simple_model().cuda()\n",
    "model = UNet().cuda()\n",
    "\n",
    "criterion = F.l1_loss #mse_loss\n",
    "optimizer = optim.Adam(model.parameters(), lr=0.0005)\n",
    "\n",
    "test_loader = torch.utils.data.DataLoader(test_dataset,\n",
    "  batch_size=batch_size_test, shuffle=True)\n",
    "\n",
    "train_loader = torch.utils.data.DataLoader(train_dataset,\n",
    "  batch_size=batch_size_train, shuffle=True)\n",
    "\n",
    "for epoch in range(1, n_epochs + 1):\n",
    "    train(epoch, train_dataset, model, criterion, optimizer, history, selection=[0])\n"
   ]
  },
  {
   "cell_type": "code",
   "execution_count": null,
   "metadata": {},
   "outputs": [],
   "source": [
    "fig = plt.figure()\n",
    "plt.plot(history[\"loss\"], color='blue')\n",
    "plt.legend(['Train Loss'], loc='upper right')\n",
    "plt.xlabel('number of training examples seen')\n",
    "plt.ylabel('negative log likelihood loss')"
   ]
  },
  {
   "cell_type": "markdown",
   "metadata": {},
   "source": [
    "### Check denoising \n"
   ]
  },
  {
   "cell_type": "code",
   "execution_count": null,
   "metadata": {},
   "outputs": [],
   "source": [
    "def add_bac(tensor):\n",
    "    return torch.unsqueeze(torch.unsqueeze(tensor, 0),0)\n",
    "\n",
    "\n",
    "def show(index):\n",
    "    import matplotlib.pyplot as plt\n",
    "    plt.subplot(1,4,1)\n",
    "    plt.imshow(train_dataset[index][0][0], cmap=plt.get_cmap('gray'))\n",
    "    plt.subplot(1,4,2)\n",
    "    plt.imshow(add_noise(train_dataset[index][0][0]), cmap=plt.get_cmap('gray'))\n",
    "    plt.subplot(1,4,3)\n",
    "    plt.imshow(model(add_bac(add_noise(train_dataset[index][0][0])).cuda()).detach().cpu()[0,0], cmap=plt.get_cmap('gray'))\n",
    "    plt.show()\n",
    "\n",
    "for i in range(8):\n",
    "    show(123*i)\n",
    "    \n"
   ]
  },
  {
   "cell_type": "markdown",
   "metadata": {},
   "source": [
    "## Task 2.1: Apply trained model on 'wrong' data \n",
    "\n",
    "Apply the denoising model trained above to some example _noisy_ images derived from the Fashion-MNIST dataset."
   ]
  },
  {
   "cell_type": "code",
   "execution_count": 29,
   "metadata": {},
   "outputs": [
    {
     "data": {
      "text/plain": [
       "'\\nImplement your solution here.\\n'"
      ]
     },
     "execution_count": 29,
     "metadata": {},
     "output_type": "execute_result"
    }
   ],
   "source": [
    "\"\"\"\n",
    "Implement your solution here.\n",
    "\"\"\""
   ]
  },
  {
   "cell_type": "markdown",
   "metadata": {},
   "source": [
    "### Solution"
   ]
  },
  {
   "cell_type": "code",
   "execution_count": null,
   "metadata": {},
   "outputs": [],
   "source": [
    "def add_bac(tensor):\n",
    "    return torch.unsqueeze(torch.unsqueeze(tensor, 0),0)\n",
    "\n",
    "\n",
    "def show(index):\n",
    "    import matplotlib.pyplot as plt\n",
    "    plt.subplot(1,4,1)\n",
    "    plt.imshow(fm_train_dataset[index][0][0], cmap=plt.get_cmap('gray'))\n",
    "    plt.subplot(1,4,2)\n",
    "    plt.imshow(add_noise(fm_train_dataset[index][0][0]), cmap=plt.get_cmap('gray'))\n",
    "    plt.subplot(1,4,3)\n",
    "    plt.imshow(model(add_bac(add_noise(fm_train_dataset[index][0][0])).cuda()).detach().cpu()[0,0], cmap=plt.get_cmap('gray'))\n",
    "    plt.show()\n",
    "\n",
    "for i in range(8):\n",
    "    show(123*i)"
   ]
  },
  {
   "cell_type": "markdown",
   "metadata": {},
   "source": [
    "# Task 2.2: Decimate training data\n",
    "\n",
    "In the code above, add one line of code in the traini g loop so that\n",
    "*TODO: add a description of the task here.*"
   ]
  },
  {
   "cell_type": "markdown",
   "metadata": {},
   "source": [
    "### Solution"
   ]
  },
  {
   "cell_type": "code",
   "execution_count": null,
   "metadata": {},
   "outputs": [],
   "source": [
    "# This is the line: \n",
    "image = image[target==1]"
   ]
  },
  {
   "cell_type": "markdown",
   "metadata": {},
   "source": [
    "###  Task 2.3 : Redo the exercises but swap MNIST with Fashion-MNIST"
   ]
  },
  {
   "cell_type": "markdown",
   "metadata": {},
   "source": [
    "## Overall, what are your observations?"
   ]
  },
  {
   "cell_type": "code",
   "execution_count": null,
   "metadata": {},
   "outputs": [],
   "source": []
  }
 ],
 "metadata": {
  "kernelspec": {
   "display_name": "Python 3 (ipykernel)",
   "language": "python",
   "name": "python3"
  },
  "language_info": {
   "codemirror_mode": {
    "name": "ipython",
    "version": 3
   },
   "file_extension": ".py",
   "mimetype": "text/x-python",
   "name": "python",
   "nbconvert_exporter": "python",
   "pygments_lexer": "ipython3",
   "version": "3.9.7"
  }
 },
 "nbformat": 4,
 "nbformat_minor": 2
}
